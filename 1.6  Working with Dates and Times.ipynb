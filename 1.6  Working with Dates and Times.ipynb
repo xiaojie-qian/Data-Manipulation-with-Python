{
 "cells": [
  {
   "cell_type": "markdown",
   "id": "77b7a517",
   "metadata": {},
   "source": [
    "# Objectives\n",
    "1. Dates and calendars\n",
    "  - 1.1 Creating data objects\n",
    "  - 1.2 Math with dates\n",
    "  - 1.3 Turning dates into strings\n",
    "2. Combining dates and times\n",
    "  - 2.1 Dates and times\n",
    "  - 2.2 Printing and parsing datetimes\n",
    "  - 2.3 Working with durations\n",
    "3. Time Zones and daylight saving\n",
    "  - 3.1 UTC offsets (UK standard)\n",
    "  - 3.2 Time zone database\n",
    "  - 3.3 Starting daylight saving time\n",
    "  - 3.4 Ending daylight saving time\n",
    "4. Dates and times in Pandas\n",
    "  - 4.1 Reading date and time data in Pandas\n",
    "  - 4.2 Summarizing datetime \n",
    "  - 4.3 Additional datetime methods in Pandas\n",
    "5. Case study"
   ]
  },
  {
   "cell_type": "markdown",
   "id": "62284c27",
   "metadata": {},
   "source": [
    "## 1. Dates and calendars"
   ]
  },
  {
   "cell_type": "markdown",
   "id": "296ba664",
   "metadata": {},
   "source": [
    "### 1.1 Creating data objects"
   ]
  },
  {
   "cell_type": "code",
   "execution_count": 12,
   "id": "78618982",
   "metadata": {},
   "outputs": [],
   "source": [
    "# import date \n",
    "from datetime import date\n",
    "# create dates\n",
    "two_hurricanes_dates = [date(2016,10,7), date(2017,6,21)]"
   ]
  },
  {
   "cell_type": "code",
   "execution_count": 4,
   "id": "08367b82",
   "metadata": {},
   "outputs": [
    {
     "data": {
      "text/plain": [
       "2016"
      ]
     },
     "execution_count": 4,
     "metadata": {},
     "output_type": "execute_result"
    }
   ],
   "source": [
    "two_hurricanes_dates[0].year"
   ]
  },
  {
   "cell_type": "code",
   "execution_count": 6,
   "id": "8f7dbcbf",
   "metadata": {},
   "outputs": [
    {
     "data": {
      "text/plain": [
       "6"
      ]
     },
     "execution_count": 6,
     "metadata": {},
     "output_type": "execute_result"
    }
   ],
   "source": [
    "two_hurricanes_dates[1].month"
   ]
  },
  {
   "cell_type": "code",
   "execution_count": 7,
   "id": "3d13fe63",
   "metadata": {},
   "outputs": [
    {
     "data": {
      "text/plain": [
       "7"
      ]
     },
     "execution_count": 7,
     "metadata": {},
     "output_type": "execute_result"
    }
   ],
   "source": [
    "two_hurricanes_dates[0].day"
   ]
  },
  {
   "cell_type": "code",
   "execution_count": 9,
   "id": "26cc94a3",
   "metadata": {},
   "outputs": [
    {
     "data": {
      "text/plain": [
       "4"
      ]
     },
     "execution_count": 9,
     "metadata": {},
     "output_type": "execute_result"
    }
   ],
   "source": [
    "two_hurricanes_dates[0].weekday()"
   ]
  },
  {
   "cell_type": "markdown",
   "id": "fb2a8126",
   "metadata": {},
   "source": [
    " *Mon,Tues,Wed,Thur,Fri,Sat,Sun: 0,1,2,3,4,5,6*"
   ]
  },
  {
   "cell_type": "code",
   "execution_count": 18,
   "id": "a1f4f6e7",
   "metadata": {},
   "outputs": [],
   "source": [
    "florida_hurricane_dates = [date(1950, 8, 31),\n",
    " date(1950, 9, 5),\n",
    " date(1950, 10, 18),\n",
    " date(1950, 10, 21),\n",
    " date(1951, 5, 18),\n",
    " date(1953, 6, 6),\n",
    " date(1953, 8, 29), \n",
    " date(1957, 6, 8),\n",
    " date(1957, 9, 8),\n",
    " date(1958, 9, 4),\n",
    " date(1959, 5, 18)]"
   ]
  },
  {
   "cell_type": "code",
   "execution_count": 19,
   "id": "ed5a6af4",
   "metadata": {},
   "outputs": [
    {
     "name": "stdout",
     "output_type": "stream",
     "text": [
      "2\n"
     ]
    }
   ],
   "source": [
    "# Counter for how many before June 1\n",
    "early_hurricanes = 0\n",
    "\n",
    "# We loop over the dates\n",
    "for hurricane in florida_hurricane_dates:\n",
    "  # Check if the month is before June (month number 6)\n",
    "  if hurricane.month < 6:\n",
    "    early_hurricanes = early_hurricanes + 1\n",
    "    \n",
    "print(early_hurricanes)"
   ]
  },
  {
   "cell_type": "markdown",
   "id": "71e981ca",
   "metadata": {},
   "source": [
    "### 1.2 Math with dates"
   ]
  },
  {
   "cell_type": "code",
   "execution_count": 20,
   "id": "100fbb27",
   "metadata": {},
   "outputs": [
    {
     "data": {
      "text/plain": [
       "datetime.date(2017, 11, 5)"
      ]
     },
     "execution_count": 20,
     "metadata": {},
     "output_type": "execute_result"
    }
   ],
   "source": [
    "# create our dates\n",
    "d1 = date(2017,11,5)\n",
    "d2 = date(2017,12,4)\n",
    "l = [d1,d2]\n",
    "min(l)"
   ]
  },
  {
   "cell_type": "code",
   "execution_count": 23,
   "id": "8357f88b",
   "metadata": {},
   "outputs": [
    {
     "data": {
      "text/plain": [
       "29"
      ]
     },
     "execution_count": 23,
     "metadata": {},
     "output_type": "execute_result"
    }
   ],
   "source": [
    "# substract two dates \n",
    "delta = d2 - d1\n",
    "delta.days # use.days attribute"
   ]
  },
  {
   "cell_type": "code",
   "execution_count": 25,
   "id": "39b090a5",
   "metadata": {},
   "outputs": [
    {
     "name": "stdout",
     "output_type": "stream",
     "text": [
      "2017-12-04\n"
     ]
    }
   ],
   "source": [
    "from datetime import timedelta\n",
    "# create a 29 day timedelta \n",
    "td = timedelta(days=29)\n",
    "print(d1+td)"
   ]
  },
  {
   "cell_type": "code",
   "execution_count": 26,
   "id": "24bf1fc6",
   "metadata": {},
   "outputs": [
    {
     "name": "stdout",
     "output_type": "stream",
     "text": [
      "{1: 0, 2: 0, 3: 0, 4: 0, 5: 2, 6: 2, 7: 0, 8: 2, 9: 3, 10: 2, 11: 0, 12: 0}\n"
     ]
    }
   ],
   "source": [
    "# A dictionary to count hurricanes per calendar month\n",
    "hurricanes_each_month = {1: 0, 2: 0, 3: 0, 4: 0, 5: 0, 6:0,\n",
    "\t\t  \t\t\t\t 7: 0, 8:0, 9:0, 10:0, 11:0, 12:0}\n",
    "\n",
    "# Loop over all hurricanes\n",
    "for hurricane in florida_hurricane_dates:\n",
    "  # Pull out the month\n",
    "  month = hurricane.month\n",
    "  # Increment the count in your dictionary by one\n",
    "  hurricanes_each_month[month] += 1\n",
    "  \n",
    "print(hurricanes_each_month)"
   ]
  },
  {
   "cell_type": "code",
   "execution_count": 27,
   "id": "5803ca84",
   "metadata": {},
   "outputs": [
    {
     "name": "stdout",
     "output_type": "stream",
     "text": [
      "1950-08-31\n",
      "1959-05-18\n"
     ]
    }
   ],
   "source": [
    "# Sorted() works on ISO 8601 format \n",
    "sorted_dates = sorted(florida_hurricane_dates)\n",
    "print(sorted_dates[0])\n",
    "print(sorted_dates[-1])"
   ]
  },
  {
   "cell_type": "markdown",
   "id": "2ef91eda",
   "metadata": {},
   "source": [
    "### 1.3 Turning dates into strings"
   ]
  },
  {
   "cell_type": "code",
   "execution_count": 29,
   "id": "d04edd50",
   "metadata": {},
   "outputs": [
    {
     "name": "stdout",
     "output_type": "stream",
     "text": [
      "2017-11-05\n"
     ]
    }
   ],
   "source": [
    "d = date(2017,11,5)\n",
    "# ISO format: YYYY-MM_DD\n",
    "print(d)"
   ]
  },
  {
   "cell_type": "code",
   "execution_count": 30,
   "id": "1403bfd7",
   "metadata": {},
   "outputs": [
    {
     "name": "stdout",
     "output_type": "stream",
     "text": [
      "['2017-11-05']\n"
     ]
    }
   ],
   "source": [
    "print([d.isoformat()])"
   ]
  },
  {
   "cell_type": "code",
   "execution_count": 31,
   "id": "39093832",
   "metadata": {},
   "outputs": [
    {
     "name": "stdout",
     "output_type": "stream",
     "text": [
      "2017\n"
     ]
    }
   ],
   "source": [
    "# to use other formats\n",
    "print(d.strftime('%Y'))"
   ]
  },
  {
   "cell_type": "code",
   "execution_count": 32,
   "id": "f2322e7d",
   "metadata": {},
   "outputs": [
    {
     "name": "stdout",
     "output_type": "stream",
     "text": [
      "Year is 2017\n"
     ]
    }
   ],
   "source": [
    "print(d.strftime('Year is %Y'))"
   ]
  },
  {
   "cell_type": "code",
   "execution_count": 39,
   "id": "e8481601",
   "metadata": {},
   "outputs": [
    {
     "name": "stdout",
     "output_type": "stream",
     "text": [
      "2017/11/05\n"
     ]
    }
   ],
   "source": [
    "print(d.strftime('%Y/%m/%d'))"
   ]
  },
  {
   "cell_type": "code",
   "execution_count": 40,
   "id": "ae34a450",
   "metadata": {},
   "outputs": [
    {
     "name": "stdout",
     "output_type": "stream",
     "text": [
      "November (2017)\n"
     ]
    }
   ],
   "source": [
    "print(d.strftime('%B (%Y)'))"
   ]
  },
  {
   "cell_type": "code",
   "execution_count": 41,
   "id": "fe8cbb67",
   "metadata": {},
   "outputs": [
    {
     "name": "stdout",
     "output_type": "stream",
     "text": [
      "2017-309\n"
     ]
    }
   ],
   "source": [
    "print(d.strftime('%Y-%j')) #%J means days"
   ]
  },
  {
   "cell_type": "markdown",
   "id": "39f02406",
   "metadata": {},
   "source": [
    "## 2. Combining dates and times"
   ]
  },
  {
   "cell_type": "markdown",
   "id": "e48d1b79",
   "metadata": {},
   "source": [
    "### 2.1 Dates and times"
   ]
  },
  {
   "cell_type": "code",
   "execution_count": 43,
   "id": "2299a201",
   "metadata": {},
   "outputs": [
    {
     "name": "stdout",
     "output_type": "stream",
     "text": [
      "2017-10-01 15:23:25.500000\n"
     ]
    }
   ],
   "source": [
    "from datetime import datetime\n",
    "dt = datetime(2017,10,1,15,23,25,500000) # 24 hours\n",
    "print(dt)"
   ]
  },
  {
   "cell_type": "code",
   "execution_count": 44,
   "id": "30abe38c",
   "metadata": {},
   "outputs": [
    {
     "name": "stdout",
     "output_type": "stream",
     "text": [
      "2020-10-01 15:00:00\n"
     ]
    }
   ],
   "source": [
    "dt_hr = dt.replace(year= 2020, minute=0, second=0, microsecond=0)\n",
    "print(dt_hr)"
   ]
  },
  {
   "cell_type": "code",
   "execution_count": 46,
   "id": "83d08297",
   "metadata": {},
   "outputs": [],
   "source": [
    "onebike_datetimes = [{'start': datetime(2017, 10, 1, 15, 23, 25),\n",
    "  'end': datetime(2017, 10, 1, 15, 26, 26)},\n",
    " {'start':datetime(2017, 10, 1, 15, 42, 57),\n",
    "  'end': datetime(2017, 10, 1, 17, 49, 59)},\n",
    " {'start': datetime(2017, 10, 2, 6, 37, 10),\n",
    "  'end': datetime(2017, 10, 2, 6, 42, 53)},\n",
    " {'start': datetime(2017, 10, 2, 8, 56, 45),\n",
    "  'end': datetime(2017, 10, 2, 9, 18, 3)},\n",
    " {'start':datetime(2017, 10, 2, 18, 23, 48),\n",
    "  'end': datetime(2017, 10, 2, 18, 45, 5)},\n",
    " {'start': datetime(2017, 10, 2, 18, 48, 8),\n",
    "  'end': datetime(2017, 10, 2, 19, 10, 54)},\n",
    " {'start': datetime(2017, 10, 2, 19, 18, 10),\n",
    "  'end': datetime(2017, 10, 2, 19, 31, 45)},\n",
    " {'start': datetime(2017, 10, 3, 18, 17, 7),\n",
    "  'end': datetime(2017, 10, 3, 18, 27, 46)},\n",
    " {'start': datetime(2017, 10, 3, 19, 24, 10),\n",
    "  'end':datetime(2017, 10, 3, 19, 52, 8)},\n",
    " {'start': datetime(2017, 10, 3, 20, 17, 6),\n",
    "  'end': datetime(2017, 10, 3, 20, 23, 52)},\n",
    " {'start': datetime(2017, 10, 3, 20, 45, 21),\n",
    "  'end': datetime(2017, 10, 3, 20, 57, 10)}]\n",
    " "
   ]
  },
  {
   "cell_type": "code",
   "execution_count": 47,
   "id": "d4908a83",
   "metadata": {},
   "outputs": [
    {
     "name": "stdout",
     "output_type": "stream",
     "text": [
      "{'AM': 2, 'PM': 9}\n"
     ]
    }
   ],
   "source": [
    "# Create dictionary to hold results\n",
    "trip_counts = {'AM': 0, 'PM': 0}\n",
    "# Loop over all trips\n",
    "for trip in onebike_datetimes:\n",
    "  # Check to see if the trip starts before noon\n",
    "  if trip['start'].hour < 12:\n",
    "    # Increment the counter for before noon\n",
    "    trip_counts['AM'] += 1\n",
    "  else:\n",
    "    # Increment the counter for after noon\n",
    "    trip_counts['PM'] += 1\n",
    "  \n",
    "print(trip_counts)"
   ]
  },
  {
   "cell_type": "markdown",
   "id": "7a3d3172",
   "metadata": {},
   "source": [
    "### 2.2 Printing and parsing datetimes"
   ]
  },
  {
   "cell_type": "code",
   "execution_count": 48,
   "id": "0ea46572",
   "metadata": {},
   "outputs": [
    {
     "name": "stdout",
     "output_type": "stream",
     "text": [
      "2020-10-01 15:00:00\n"
     ]
    }
   ],
   "source": [
    "print(dt_hr.strftime('%Y-%m-%d %H:%M:%S'))"
   ]
  },
  {
   "cell_type": "code",
   "execution_count": 49,
   "id": "5fb8b8dd",
   "metadata": {},
   "outputs": [
    {
     "name": "stdout",
     "output_type": "stream",
     "text": [
      "2020-10-01T15:00:00\n"
     ]
    }
   ],
   "source": [
    "print(dt_hr.isoformat())"
   ]
  },
  {
   "cell_type": "code",
   "execution_count": 58,
   "id": "5aa306b1",
   "metadata": {},
   "outputs": [
    {
     "name": "stdout",
     "output_type": "stream",
     "text": [
      "<class 'datetime.datetime'>\n"
     ]
    }
   ],
   "source": [
    "print(type(dt_hr))"
   ]
  },
  {
   "cell_type": "code",
   "execution_count": 62,
   "id": "21983506",
   "metadata": {},
   "outputs": [
    {
     "name": "stdout",
     "output_type": "stream",
     "text": [
      "<class 'str'>\n"
     ]
    }
   ],
   "source": [
    "dt = '12/20/2017 15:19:13'\n",
    "print(type(dt))"
   ]
  },
  {
   "cell_type": "code",
   "execution_count": 63,
   "id": "ad504df3",
   "metadata": {},
   "outputs": [
    {
     "name": "stdout",
     "output_type": "stream",
     "text": [
      "2017-12-20 15:19:13\n"
     ]
    }
   ],
   "source": [
    "# parse string to datetime\n",
    "dt = datetime.strptime('12/20/2017 15:19:13','%m/%d/%Y %H:%M:%S')\n",
    "print(dt)"
   ]
  },
  {
   "cell_type": "code",
   "execution_count": 64,
   "id": "b83beea7",
   "metadata": {},
   "outputs": [
    {
     "name": "stdout",
     "output_type": "stream",
     "text": [
      "<class 'datetime.datetime'>\n"
     ]
    }
   ],
   "source": [
    "print(type(dt_hr))"
   ]
  },
  {
   "cell_type": "code",
   "execution_count": 66,
   "id": "594abc94",
   "metadata": {},
   "outputs": [
    {
     "name": "stdout",
     "output_type": "stream",
     "text": [
      "2017-12-30 21:19:13\n"
     ]
    }
   ],
   "source": [
    "# A timestamp to datetimes\n",
    "ts = 1514665153.0\n",
    "print(datetime.fromtimestamp(ts))"
   ]
  },
  {
   "cell_type": "code",
   "execution_count": 68,
   "id": "6bb8d8e6",
   "metadata": {},
   "outputs": [],
   "source": [
    "onebike_datetime_strings = [('2017-10-01 15:23:25', '2017-10-01 15:26:26'),\n",
    " ('2017-10-01 15:42:57', '2017-10-01 17:49:59'),\n",
    " ('2017-10-02 06:37:10', '2017-10-02 06:42:53'),\n",
    " ('2017-10-02 08:56:45', '2017-10-02 09:18:03'),\n",
    " ('2017-10-02 18:23:48', '2017-10-02 18:45:05'),\n",
    " ('2017-10-02 18:48:08', '2017-10-02 19:10:54'),\n",
    " ('2017-10-02 19:18:10', '2017-10-02 19:31:45'),\n",
    " ('2017-10-02 19:37:32', '2017-10-02 19:46:37'),\n",
    " ('2017-10-03 08:24:16', '2017-10-03 08:32:27'),\n",
    " ('2017-10-04 15:46:41', '2017-10-04 16:32:33'),\n",
    " ('2017-10-04 16:34:44', '2017-10-04 16:46:59'),\n",
    " ('2017-10-04 17:26:06', '2017-10-04 17:31:36'),\n",
    " ('2017-10-08 15:23:50', '2017-10-08 15:50:01'),\n",
    " ('2017-10-08 15:54:12', '2017-10-08 16:17:42'),\n",
    " ('2017-10-08 16:28:52', '2017-10-08 16:35:18'),\n",
    " ('2017-10-09 16:43:25', '2017-10-09 16:45:38'),\n",
    " ('2017-10-10 15:32:58', '2017-10-10 15:51:24'),\n",
    " ('2017-10-10 16:47:55', '2017-10-10 17:03:47'),\n",
    " ('2017-10-10 17:51:05', '2017-10-10 18:00:18'),\n",
    " ('2017-10-10 18:08:12', '2017-10-10 18:19:11'),\n",
    " ('2017-10-10 19:09:35', '2017-10-10 19:14:32'),\n",
    " ('2017-10-10 19:17:11', '2017-10-10 19:23:08'),\n",
    " ('2017-10-10 19:28:11', '2017-10-10 19:44:40'),\n",
    " ('2017-10-10 19:55:35', '2017-10-10 20:11:54'),\n",
    " ('2017-10-10 22:20:43', '2017-10-10 22:33:23')]"
   ]
  },
  {
   "cell_type": "code",
   "execution_count": 70,
   "id": "2957a87e",
   "metadata": {},
   "outputs": [],
   "source": [
    "# Write down the format string\n",
    "fmt = \"%Y-%m-%d %H:%M:%S\"\n",
    "\n",
    "# Initialize a list for holding the pairs of datetime objects\n",
    "onebike_datetimes = []\n",
    "\n",
    "# Loop over all trips\n",
    "for (start, end) in onebike_datetime_strings:\n",
    "  trip = {'start': datetime.strptime(start, fmt),\n",
    "          'end': datetime.strptime(end, fmt)}\n",
    "  \n",
    "  # Append the trip\n",
    "  onebike_datetimes.append(trip)"
   ]
  },
  {
   "cell_type": "code",
   "execution_count": 72,
   "id": "584eddea",
   "metadata": {},
   "outputs": [
    {
     "name": "stdout",
     "output_type": "stream",
     "text": [
      "2017-10-01T15:23:25\n",
      "2017-10-01T15:23:25\n"
     ]
    }
   ],
   "source": [
    "# Import datetime\n",
    "from datetime import datetime\n",
    "\n",
    "# Pull out the start of the first trip\n",
    "first_start = onebike_datetimes[0]['start']\n",
    "\n",
    "# Format to feed to strftime()\n",
    "fmt = \"%Y-%m-%dT%H:%M:%S\"\n",
    "\n",
    "# Print out date with .isoformat(), then with .strftime() to compare\n",
    "print(first_start.isoformat())\n",
    "print(first_start.strftime(fmt))"
   ]
  },
  {
   "cell_type": "code",
   "execution_count": 73,
   "id": "294f8406",
   "metadata": {},
   "outputs": [
    {
     "name": "stdout",
     "output_type": "stream",
     "text": [
      "[datetime.datetime(2017, 12, 30, 21, 19, 13), datetime.datetime(2017, 12, 30, 21, 9, 3)]\n"
     ]
    }
   ],
   "source": [
    "# Import datetime\n",
    "from datetime import datetime\n",
    "\n",
    "# Starting timestamps\n",
    "timestamps = [1514665153, 1514664543]\n",
    "\n",
    "# Datetime objects\n",
    "dts = []\n",
    "\n",
    "# Loop\n",
    "for ts in timestamps:\n",
    "  dts.append(datetime.fromtimestamp(ts))\n",
    "  \n",
    "# Print results\n",
    "print(dts)"
   ]
  },
  {
   "cell_type": "markdown",
   "id": "a06dbbf4",
   "metadata": {},
   "source": [
    "### 2.3 Working with durations"
   ]
  },
  {
   "cell_type": "code",
   "execution_count": 75,
   "id": "c27d5697",
   "metadata": {},
   "outputs": [
    {
     "name": "stdout",
     "output_type": "stream",
     "text": [
      "23:58:55\n"
     ]
    }
   ],
   "source": [
    "start = datetime(2017,10,1,15,23,25)\n",
    "end = datetime(2017,10,2,15,22,20)\n",
    "duration = end - start\n",
    "print(duration)"
   ]
  },
  {
   "cell_type": "code",
   "execution_count": 76,
   "id": "9bca9872",
   "metadata": {},
   "outputs": [
    {
     "name": "stdout",
     "output_type": "stream",
     "text": [
      "86335.0\n"
     ]
    }
   ],
   "source": [
    "print(duration.total_seconds())"
   ]
  },
  {
   "cell_type": "code",
   "execution_count": 81,
   "id": "bf5b7dae",
   "metadata": {},
   "outputs": [
    {
     "name": "stdout",
     "output_type": "stream",
     "text": [
      "2017-10-01 15:23:25\n"
     ]
    }
   ],
   "source": [
    "# Creating timedeltas\n",
    "from datetime import timedelta\n",
    "delta1 = timedelta(days= 1, seconds=10) # 10s as duration\n",
    "print(start)"
   ]
  },
  {
   "cell_type": "code",
   "execution_count": 82,
   "id": "81cd73d0",
   "metadata": {},
   "outputs": [
    {
     "name": "stdout",
     "output_type": "stream",
     "text": [
      "2017-10-02 15:23:35\n"
     ]
    }
   ],
   "source": [
    "print(start + delta1)"
   ]
  },
  {
   "cell_type": "code",
   "execution_count": 83,
   "id": "61360753",
   "metadata": {},
   "outputs": [
    {
     "name": "stdout",
     "output_type": "stream",
     "text": [
      "2017-09-24 15:23:25\n"
     ]
    }
   ],
   "source": [
    "delta2 = timedelta(weeks=-1)\n",
    "print(start + delta2)"
   ]
  },
  {
   "cell_type": "code",
   "execution_count": 84,
   "id": "30c0dadb",
   "metadata": {},
   "outputs": [],
   "source": [
    "# Initialize a list for all the trip durations\n",
    "onebike_durations = []\n",
    "\n",
    "for trip in onebike_datetimes:\n",
    "  # Create a timedelta object corresponding to the length of the trip\n",
    "  trip_duration = trip['end'] - trip['start']\n",
    "  \n",
    "  # Get the total elapsed seconds in trip_duration\n",
    "  trip_length_seconds = trip_duration.total_seconds()\n",
    "  \n",
    "  # Append the results to our list\n",
    "  onebike_durations.append(trip_length_seconds)"
   ]
  },
  {
   "cell_type": "code",
   "execution_count": 85,
   "id": "706bc7c9",
   "metadata": {},
   "outputs": [
    {
     "name": "stdout",
     "output_type": "stream",
     "text": [
      "[181.0, 7622.0, 343.0, 1278.0, 1277.0, 1366.0, 815.0, 545.0, 491.0, 639.0, 1678.0, 406.0, 709.0, 514.0, 492.0, 1668.0, 2242.0, 2752.0, 735.0, 330.0, 1571.0, 1410.0, 386.0, 133.0, 1106.0, 952.0, 553.0, 659.0, 297.0, 357.0, 989.0, 979.0, 760.0]\n"
     ]
    }
   ],
   "source": [
    "print(onebike_durations)"
   ]
  },
  {
   "cell_type": "code",
   "execution_count": 86,
   "id": "630f8dfc",
   "metadata": {},
   "outputs": [
    {
     "name": "stdout",
     "output_type": "stream",
     "text": [
      "1098.030303030303\n"
     ]
    }
   ],
   "source": [
    "# What was the total duration of all trips?\n",
    "total_elapsed_time = sum(onebike_durations)\n",
    "\n",
    "# What was the total number of trips?\n",
    "number_of_trips = len(onebike_durations)\n",
    "  \n",
    "# Divide the total duration by the number of trips\n",
    "print(total_elapsed_time / number_of_trips)"
   ]
  },
  {
   "cell_type": "code",
   "execution_count": 87,
   "id": "a0dcf178",
   "metadata": {},
   "outputs": [
    {
     "name": "stdout",
     "output_type": "stream",
     "text": [
      "The shortest trip was 133.0 seconds\n",
      "The longest trip was 7622.0 seconds\n"
     ]
    }
   ],
   "source": [
    "# Calculate shortest and longest trips\n",
    "shortest_trip = min(onebike_durations)\n",
    "longest_trip = max(onebike_durations)\n",
    "\n",
    "# Print out the results\n",
    "print(\"The shortest trip was \" + str(shortest_trip) + \" seconds\")\n",
    "print(\"The longest trip was \" + str(longest_trip) + \" seconds\")"
   ]
  },
  {
   "cell_type": "markdown",
   "id": "2d6f9e02",
   "metadata": {},
   "source": [
    "## 3. Time Zones and daylight saving"
   ]
  },
  {
   "cell_type": "markdown",
   "id": "2ae4f055",
   "metadata": {},
   "source": [
    "### 3.1 UTC offsets (UK standard)"
   ]
  },
  {
   "cell_type": "code",
   "execution_count": 88,
   "id": "430c0ea2",
   "metadata": {},
   "outputs": [
    {
     "name": "stdout",
     "output_type": "stream",
     "text": [
      "2022-12-30 15:19:08-05:00\n"
     ]
    }
   ],
   "source": [
    "from datetime import datetime, timedelta, timezone\n",
    "# US Eastern standard time zone created \n",
    "ET = timezone(timedelta(hours=-5))\n",
    "# specify timezone as tzinfo parameter\n",
    "dt = datetime(2022, 12, 30, 15, 19, 8, tzinfo = ET)\n",
    "print(dt)"
   ]
  },
  {
   "cell_type": "code",
   "execution_count": 89,
   "id": "579f262d",
   "metadata": {},
   "outputs": [
    {
     "name": "stdout",
     "output_type": "stream",
     "text": [
      "2022-12-31 01:49:08+05:30\n"
     ]
    }
   ],
   "source": [
    "# India standard time zone\n",
    "IST = timezone(timedelta(hours=5, minutes=30))\n",
    "# convert to IST \n",
    "print(dt.astimezone(IST))"
   ]
  },
  {
   "cell_type": "code",
   "execution_count": 90,
   "id": "5f627557",
   "metadata": {},
   "outputs": [
    {
     "name": "stdout",
     "output_type": "stream",
     "text": [
      "2022-12-30 15:19:08+00:00\n"
     ]
    }
   ],
   "source": [
    "# adjust timezone\n",
    "print(dt.replace(tzinfo = timezone.utc))"
   ]
  },
  {
   "cell_type": "code",
   "execution_count": 91,
   "id": "f2ca0b9c",
   "metadata": {},
   "outputs": [
    {
     "name": "stdout",
     "output_type": "stream",
     "text": [
      "2022-12-30 20:19:08+00:00\n"
     ]
    }
   ],
   "source": [
    "# change timezone\n",
    "print(dt.astimezone(timezone.utc))"
   ]
  },
  {
   "cell_type": "code",
   "execution_count": 92,
   "id": "a0db7c42",
   "metadata": {},
   "outputs": [],
   "source": [
    "# Create a timezone object corresponding to UTC-4\n",
    "edt = timezone(timedelta(hours=-4))\n",
    "\n",
    "# Loop over trips, updating the start and end datetimes to be in UTC-4\n",
    "for trip in onebike_datetimes[:10]:\n",
    "  # Update trip['start'] and trip['end']\n",
    "  trip['start'] = trip['start'].replace(tzinfo = edt)\n",
    "  trip['end'] = trip['end'].replace(tzinfo = edt)"
   ]
  },
  {
   "cell_type": "code",
   "execution_count": 94,
   "id": "8cfe656b",
   "metadata": {},
   "outputs": [
    {
     "name": "stdout",
     "output_type": "stream",
     "text": [
      "[{'start': datetime.datetime(2017, 10, 1, 15, 23, 25, tzinfo=datetime.timezone(datetime.timedelta(days=-1, seconds=72000))), 'end': datetime.datetime(2017, 10, 1, 15, 26, 26, tzinfo=datetime.timezone(datetime.timedelta(days=-1, seconds=72000)))}]\n"
     ]
    }
   ],
   "source": [
    "print(onebike_datetimes[:1])"
   ]
  },
  {
   "cell_type": "code",
   "execution_count": 95,
   "id": "c02342e0",
   "metadata": {},
   "outputs": [
    {
     "name": "stdout",
     "output_type": "stream",
     "text": [
      "Original: 2017-10-01 15:23:25-04:00 | UTC: 2017-10-01T19:23:25+00:00\n",
      "Original: 2017-10-01 15:42:57-04:00 | UTC: 2017-10-01T19:42:57+00:00\n",
      "Original: 2017-10-02 06:37:10-04:00 | UTC: 2017-10-02T10:37:10+00:00\n",
      "Original: 2017-10-02 08:56:45-04:00 | UTC: 2017-10-02T12:56:45+00:00\n",
      "Original: 2017-10-02 18:23:48-04:00 | UTC: 2017-10-02T22:23:48+00:00\n",
      "Original: 2017-10-02 18:48:08-04:00 | UTC: 2017-10-02T22:48:08+00:00\n",
      "Original: 2017-10-02 19:18:10-04:00 | UTC: 2017-10-02T23:18:10+00:00\n",
      "Original: 2017-10-02 19:37:32-04:00 | UTC: 2017-10-02T23:37:32+00:00\n",
      "Original: 2017-10-03 08:24:16-04:00 | UTC: 2017-10-03T12:24:16+00:00\n",
      "Original: 2017-10-03 18:17:07-04:00 | UTC: 2017-10-03T22:17:07+00:00\n"
     ]
    }
   ],
   "source": [
    "# Loop over the trips\n",
    "for trip in onebike_datetimes[:10]:\n",
    "  # Pull out the start\n",
    "  dt = trip['start']\n",
    "  # Move dt to be in UTC\n",
    "  dt = dt.astimezone(timezone.utc)\n",
    "  \n",
    "  # Print the start time in UTC\n",
    "  print('Original:', trip['start'], '| UTC:', dt.isoformat())"
   ]
  },
  {
   "cell_type": "markdown",
   "id": "796575e2",
   "metadata": {},
   "source": [
    "### 3.2 Time zone database"
   ]
  },
  {
   "cell_type": "code",
   "execution_count": 96,
   "id": "8fd7ff49",
   "metadata": {},
   "outputs": [
    {
     "name": "stdout",
     "output_type": "stream",
     "text": [
      "tzfile('PRC')\n"
     ]
    }
   ],
   "source": [
    "from dateutil import tz\n",
    "et = tz.gettz('Asia/Shanghai') # format: 'Continent/city'\n",
    "print(et)"
   ]
  },
  {
   "cell_type": "code",
   "execution_count": 97,
   "id": "afda2f84",
   "metadata": {},
   "outputs": [
    {
     "name": "stdout",
     "output_type": "stream",
     "text": [
      "2017-12-30 15:09:03-05:00\n"
     ]
    }
   ],
   "source": [
    "# last ride\n",
    "et = tz.gettz('America/New_York')\n",
    "last = datetime(2017,12,30,15,9,3, tzinfo = et)\n",
    "print(last)"
   ]
  },
  {
   "cell_type": "code",
   "execution_count": 98,
   "id": "a61db76e",
   "metadata": {},
   "outputs": [
    {
     "name": "stdout",
     "output_type": "stream",
     "text": [
      "2017-10-01 15:23:30-04:00\n"
     ]
    }
   ],
   "source": [
    "# The timezon adjust utc offset by itself\n",
    "first = datetime(2017,10,1,15,23,30, tzinfo = et)\n",
    "print(first)"
   ]
  },
  {
   "cell_type": "code",
   "execution_count": 99,
   "id": "c172051e",
   "metadata": {},
   "outputs": [],
   "source": [
    "# Import tz\n",
    "from dateutil import tz\n",
    "\n",
    "# Create a timezone object for Eastern Time\n",
    "et = tz.gettz('America/New_York')\n",
    "\n",
    "# Loop over trips, updating the datetimes to be in Eastern Time\n",
    "for trip in onebike_datetimes[:10]:\n",
    "  # Update trip['start'] and trip['end']\n",
    "  trip['start'] = trip['start'].replace(tzinfo = et)\n",
    "  trip['end'] = trip['end'].replace(tzinfo = et)"
   ]
  },
  {
   "cell_type": "code",
   "execution_count": 100,
   "id": "c8e67592",
   "metadata": {},
   "outputs": [
    {
     "name": "stdout",
     "output_type": "stream",
     "text": [
      "2017-10-01T15:23:25-04:00\n",
      "2017-10-01T20:23:25+01:00\n"
     ]
    }
   ],
   "source": [
    "# Create the timezone object\n",
    "uk = tz.gettz('Europe/London')\n",
    "\n",
    "# Pull out the start of the first trip\n",
    "local = onebike_datetimes[0]['start']\n",
    "\n",
    "# What time was it in the UK?\n",
    "notlocal = local.astimezone(uk)\n",
    "\n",
    "# Print them out and see the difference\n",
    "print(local.isoformat())\n",
    "print(notlocal.isoformat())"
   ]
  },
  {
   "cell_type": "markdown",
   "id": "5405329d",
   "metadata": {},
   "source": [
    "### 3.3 Starting daylight saving time"
   ]
  },
  {
   "cell_type": "code",
   "execution_count": 103,
   "id": "34f3d306",
   "metadata": {},
   "outputs": [
    {
     "data": {
      "text/plain": [
       "'2017-03-12T01:59:59'"
      ]
     },
     "execution_count": 103,
     "metadata": {},
     "output_type": "execute_result"
    }
   ],
   "source": [
    "spring_ahead_159am = datetime(2017,3,12,1,59,59)\n",
    "spring_ahead_159am.isoformat()"
   ]
  },
  {
   "cell_type": "code",
   "execution_count": 104,
   "id": "25305cf2",
   "metadata": {},
   "outputs": [
    {
     "data": {
      "text/plain": [
       "'2017-03-12T03:00:00'"
      ]
     },
     "execution_count": 104,
     "metadata": {},
     "output_type": "execute_result"
    }
   ],
   "source": [
    "spring_ahead_3am = datetime(2017,3,12,3,0,0)\n",
    "spring_ahead_3am.isoformat()"
   ]
  },
  {
   "cell_type": "code",
   "execution_count": 105,
   "id": "a0eadf96",
   "metadata": {},
   "outputs": [
    {
     "data": {
      "text/plain": [
       "3601.0"
      ]
     },
     "execution_count": 105,
     "metadata": {},
     "output_type": "execute_result"
    }
   ],
   "source": [
    "(spring_ahead_3am - spring_ahead_159am).total_seconds()"
   ]
  },
  {
   "cell_type": "code",
   "execution_count": 106,
   "id": "181684a2",
   "metadata": {},
   "outputs": [],
   "source": [
    "EST = timezone(timedelta(hours=-5))\n",
    "EDT = timezone(timedelta(hours=-4))"
   ]
  },
  {
   "cell_type": "code",
   "execution_count": 108,
   "id": "bdf77276",
   "metadata": {},
   "outputs": [
    {
     "data": {
      "text/plain": [
       "'2017-03-12T01:59:59-05:00'"
      ]
     },
     "execution_count": 108,
     "metadata": {},
     "output_type": "execute_result"
    }
   ],
   "source": [
    "spring_ahead_159am = spring_ahead_159am.replace(tzinfo = EST)\n",
    "spring_ahead_159am.isoformat()"
   ]
  },
  {
   "cell_type": "code",
   "execution_count": 109,
   "id": "5f9a7453",
   "metadata": {},
   "outputs": [
    {
     "data": {
      "text/plain": [
       "'2017-03-12T03:00:00-04:00'"
      ]
     },
     "execution_count": 109,
     "metadata": {},
     "output_type": "execute_result"
    }
   ],
   "source": [
    "spring_ahead_3am = spring_ahead_3am.replace(tzinfo = EDT)\n",
    "spring_ahead_3am.isoformat()"
   ]
  },
  {
   "cell_type": "code",
   "execution_count": 110,
   "id": "d63c572a",
   "metadata": {},
   "outputs": [
    {
     "data": {
      "text/plain": [
       "1.0"
      ]
     },
     "execution_count": 110,
     "metadata": {},
     "output_type": "execute_result"
    }
   ],
   "source": [
    "(spring_ahead_3am - spring_ahead_159am).total_seconds()"
   ]
  },
  {
   "cell_type": "code",
   "execution_count": 111,
   "id": "a917e343",
   "metadata": {},
   "outputs": [],
   "source": [
    "# when is the summer time?? \n",
    "eastern = tz.gettz('America/New_York')\n",
    "spring_ahead_159am = datetime(2017,3,12,1,59,59, tzinfo = eastern)\n",
    "spring_ahead_3am = datetime(2017,3,12,3,0,0, tzinfo = eastern)"
   ]
  },
  {
   "cell_type": "code",
   "execution_count": 112,
   "id": "809db1f9",
   "metadata": {},
   "outputs": [
    {
     "name": "stdout",
     "output_type": "stream",
     "text": [
      "2017-03-12 01:59:59-05:00\n"
     ]
    }
   ],
   "source": [
    "print(spring_ahead_159am)"
   ]
  },
  {
   "cell_type": "code",
   "execution_count": 113,
   "id": "71e727e3",
   "metadata": {},
   "outputs": [
    {
     "name": "stdout",
     "output_type": "stream",
     "text": [
      "2017-03-12 03:00:00-04:00\n"
     ]
    }
   ],
   "source": [
    "print(spring_ahead_3am)"
   ]
  },
  {
   "cell_type": "code",
   "execution_count": 114,
   "id": "57b944bb",
   "metadata": {},
   "outputs": [
    {
     "name": "stdout",
     "output_type": "stream",
     "text": [
      "2017-03-12T00:00:00-05:00 to 2017-03-12T06:00:00-04:00\n",
      "6.0\n",
      "5.0\n"
     ]
    }
   ],
   "source": [
    "# Import datetime, timedelta, tz, timezone\n",
    "from datetime import datetime, timedelta, timezone\n",
    "from dateutil import tz\n",
    "\n",
    "# Start on March 12, 2017, midnight, then add 6 hours\n",
    "start = datetime(2017, 3, 12, tzinfo = tz.gettz('America/New_York'))\n",
    "end = start + timedelta(hours=6)\n",
    "print(start.isoformat() + \" to \" + end.isoformat())\n",
    "\n",
    "# How many hours have elapsed?\n",
    "print((end - start).total_seconds()/(60*60))\n",
    "\n",
    "# What if we move to UTC?\n",
    "print((end.astimezone(timezone.utc) - start.astimezone(timezone.utc))\\\n",
    "      .total_seconds()/(60*60))"
   ]
  },
  {
   "cell_type": "code",
   "execution_count": 115,
   "id": "c1107ce8",
   "metadata": {},
   "outputs": [
    {
     "name": "stdout",
     "output_type": "stream",
     "text": [
      "2000-03-29T00:00:00+01:00\n",
      "2001-03-29T00:00:00+01:00\n",
      "2002-03-29T00:00:00+00:00\n",
      "2003-03-29T00:00:00+00:00\n",
      "2004-03-29T00:00:00+01:00\n",
      "2005-03-29T00:00:00+01:00\n",
      "2006-03-29T00:00:00+01:00\n",
      "2007-03-29T00:00:00+01:00\n",
      "2008-03-29T00:00:00+00:00\n",
      "2009-03-29T00:00:00+00:00\n",
      "2010-03-29T00:00:00+01:00\n"
     ]
    }
   ],
   "source": [
    "# Import datetime and tz\n",
    "from datetime import datetime\n",
    "from dateutil import tz\n",
    "\n",
    "# Create starting date\n",
    "dt = datetime(2000, 3, 29, tzinfo = tz.gettz('Europe/London'))\n",
    "\n",
    "# Loop over the dates, replacing the year, and print the ISO timestamp\n",
    "for y in range(2000, 2011):\n",
    "  print(dt.replace(year=y).isoformat())"
   ]
  },
  {
   "cell_type": "markdown",
   "id": "05d14dd0",
   "metadata": {},
   "source": [
    "### 3.4 Ending daylight saving time"
   ]
  },
  {
   "cell_type": "code",
   "execution_count": 121,
   "id": "14d6667d",
   "metadata": {},
   "outputs": [
    {
     "data": {
      "text/plain": [
       "True"
      ]
     },
     "execution_count": 121,
     "metadata": {},
     "output_type": "execute_result"
    }
   ],
   "source": [
    "eastern = tz.gettz('US/Eastern')\n",
    "first_lam = datetime(2017,11,5,1,0,0, tzinfo = eastern)\n",
    "tz.datetime_ambiguous(first_lam)\n",
    "# ambiguous means we need tell it apart: it could appear in two different utc timezones"
   ]
  },
  {
   "cell_type": "code",
   "execution_count": 122,
   "id": "f30caf6b",
   "metadata": {},
   "outputs": [
    {
     "data": {
      "text/plain": [
       "datetime.datetime(2017, 11, 5, 1, 0, fold=1, tzinfo=tzfile('US/Eastern'))"
      ]
     },
     "execution_count": 122,
     "metadata": {},
     "output_type": "execute_result"
    }
   ],
   "source": [
    "second_1am = datetime(2017,11,5,1,0,0, tzinfo = eastern)\n",
    "second_1am = tz.enfold(second_lam)\n",
    "second_1am"
   ]
  },
  {
   "cell_type": "code",
   "execution_count": 124,
   "id": "8f898431",
   "metadata": {},
   "outputs": [
    {
     "data": {
      "text/plain": [
       "0.0"
      ]
     },
     "execution_count": 124,
     "metadata": {},
     "output_type": "execute_result"
    }
   ],
   "source": [
    "(first_lam - second_1am).total_seconds()"
   ]
  },
  {
   "cell_type": "code",
   "execution_count": 126,
   "id": "d44027fc",
   "metadata": {},
   "outputs": [
    {
     "data": {
      "text/plain": [
       "3600.0"
      ]
     },
     "execution_count": 126,
     "metadata": {},
     "output_type": "execute_result"
    }
   ],
   "source": [
    "first_lam = first_lam.astimezone(tz.UTC)\n",
    "second_1am = second_1am.astimezone(tz.UTC)\n",
    "(second_1am - first_lam).total_seconds()"
   ]
  },
  {
   "cell_type": "code",
   "execution_count": null,
   "id": "e51eeebf",
   "metadata": {},
   "outputs": [],
   "source": [
    "# Loop over trips\n",
    "for trip in onebike_datetimes:\n",
    "  # Rides with ambiguous start\n",
    "  if tz.datetime_ambiguous(trip['start']):\n",
    "    print(\"Ambiguous start at \" + str(trip['start']))\n",
    "  # Rides with ambiguous end\n",
    "  if tz.datetime_ambiguous(trip['end']):\n",
    "    print(\"Ambiguous end at \" + str(trip['end']))"
   ]
  },
  {
   "cell_type": "code",
   "execution_count": 128,
   "id": "b206717f",
   "metadata": {},
   "outputs": [
    {
     "name": "stdout",
     "output_type": "stream",
     "text": [
      "Shortest trip: 133.0\n"
     ]
    }
   ],
   "source": [
    "trip_durations = []\n",
    "for trip in onebike_datetimes:\n",
    "  # When the start is later than the end, set the fold to be 1\n",
    "  if trip['start'] > trip['end']:\n",
    "    trip['end'] = tz.enfold(trip['end'])\n",
    "  # Convert to UTC\n",
    "  start = trip['start'].astimezone(tz.UTC)\n",
    "  end = trip['end'].astimezone(tz.UTC)\n",
    "\n",
    "  # Subtract the difference\n",
    "  trip_length_seconds = (end-start).total_seconds()\n",
    "  trip_durations.append(trip_length_seconds)\n",
    "\n",
    "# Take the shortest trip duration\n",
    "print(\"Shortest trip: \" + str(min(trip_durations)))"
   ]
  },
  {
   "cell_type": "markdown",
   "id": "6dc47842",
   "metadata": {},
   "source": [
    "## 4. Dates and times in Pandas"
   ]
  },
  {
   "cell_type": "markdown",
   "id": "d4590726",
   "metadata": {},
   "source": [
    "### 4.1 Reading date and time data in Pandas"
   ]
  },
  {
   "cell_type": "code",
   "execution_count": null,
   "id": "28aa88f5",
   "metadata": {},
   "outputs": [],
   "source": [
    "# import date while parsing \n",
    "rides = pd.read_csv(('capital-onebike.csv'), parse_dates = ['start date', 'end date'])"
   ]
  },
  {
   "cell_type": "code",
   "execution_count": null,
   "id": "19f89731",
   "metadata": {},
   "outputs": [],
   "source": [
    "# or set format manually\n",
    "rides['start date'] = pd.tp_datetime(rides['start date'], format = '%Y-%m-%d %H:%M:%S')"
   ]
  },
  {
   "cell_type": "markdown",
   "id": "1f13165a",
   "metadata": {},
   "source": [
    "**Making timedelta columns**"
   ]
  },
  {
   "cell_type": "code",
   "execution_count": null,
   "id": "ccc08dad",
   "metadata": {},
   "outputs": [],
   "source": [
    "# select start date for row 2\n",
    "rides['start date'].iloc[2]"
   ]
  },
  {
   "cell_type": "code",
   "execution_count": null,
   "id": "8d7382d1",
   "metadata": {},
   "outputs": [],
   "source": [
    "# Create a duration column\n",
    "rides['Duration'] = rides['end date'] - rides['start date']"
   ]
  },
  {
   "cell_type": "code",
   "execution_count": null,
   "id": "2908b0a7",
   "metadata": {},
   "outputs": [],
   "source": [
    "# loading datetime with parse_dates\n",
    "rides['Duration']\\dt.total_seconds()\\.head(5)\n",
    "# methods built on"
   ]
  },
  {
   "cell_type": "markdown",
   "id": "ef8f18bb",
   "metadata": {},
   "source": [
    "### 4.2 Summarizing datetime "
   ]
  },
  {
   "cell_type": "code",
   "execution_count": null,
   "id": "d66260fa",
   "metadata": {},
   "outputs": [],
   "source": [
    "# Percent of time out of the dock\n",
    "rides['Duration'].sum()/timedelta(days=91)"
   ]
  },
  {
   "cell_type": "code",
   "execution_count": null,
   "id": "008db9d1",
   "metadata": {},
   "outputs": [],
   "source": [
    "# Percent of rides by member\n",
    "rides['Number type'].value_counts()/len(rides)"
   ]
  },
  {
   "cell_type": "code",
   "execution_count": null,
   "id": "8ec3acba",
   "metadata": {},
   "outputs": [],
   "source": [
    "# average duration by month\n",
    "rides.resample('M', on = 'start date')['Duration second'].mean()\n",
    "# resample method takes unit of time and a datetime column to group on"
   ]
  },
  {
   "cell_type": "code",
   "execution_count": null,
   "id": "1cc49e7f",
   "metadata": {},
   "outputs": [],
   "source": [
    "# get size of each group\n",
    "rides.groupby('Member type').size()"
   ]
  },
  {
   "cell_type": "code",
   "execution_count": null,
   "id": "5f572411",
   "metadata": {},
   "outputs": [],
   "source": [
    "# get first ride of each group\n",
    "rides.groupby('Member type').first()"
   ]
  },
  {
   "cell_type": "code",
   "execution_count": null,
   "id": "c120f9c1",
   "metadata": {},
   "outputs": [],
   "source": [
    "# plot \n",
    "rides\\.resample('M', on = 'start date')\\['Duration second']\\.mean()\\.plot()"
   ]
  },
  {
   "cell_type": "markdown",
   "id": "7e8bafd1",
   "metadata": {},
   "source": [
    "### 4.3 Additional datetime methods in Pandas"
   ]
  },
  {
   "cell_type": "code",
   "execution_count": null,
   "id": "a3d034c1",
   "metadata": {},
   "outputs": [],
   "source": [
    "rides['start date'].head(3)\\.dt.tz_localize('America/New_York')"
   ]
  },
  {
   "cell_type": "code",
   "execution_count": null,
   "id": "28dac54b",
   "metadata": {},
   "outputs": [],
   "source": [
    "rides['start date'].head(3)\\.dt.tz_localize('America/New_York', ambiguous = 'NaT')\n",
    "# set ambiguous to NaT, the pandas will automatically skip this row "
   ]
  },
  {
   "cell_type": "code",
   "execution_count": null,
   "id": "a82f14f4",
   "metadata": {},
   "outputs": [],
   "source": [
    "rides['start date']\\.head(3)\\.dt.day_name()\n",
    "# return day name as Monday to Sunday "
   ]
  },
  {
   "cell_type": "code",
   "execution_count": null,
   "id": "e3fc5b52",
   "metadata": {},
   "outputs": [],
   "source": [
    "# shift the indexes forward on, padding with NaT\n",
    "rides['end date'].shift(1).head(3)\n",
    "# useful when line up the end times of each row with the start time of the next one"
   ]
  },
  {
   "cell_type": "markdown",
   "id": "fad0d727",
   "metadata": {},
   "source": [
    "## Case study"
   ]
  },
  {
   "cell_type": "code",
   "execution_count": null,
   "id": "ad8b95e4",
   "metadata": {},
   "outputs": [],
   "source": [
    "# Import pandas\n",
    "import pandas as pd\n",
    "\n",
    "# Load CSV into the rides variable\n",
    "rides = pd.read_csv('capital-onebike.csv', \n",
    "                    parse_dates = ['Start date','End date'])\n",
    "\n",
    "# Print the initial (0th) row\n",
    "print(rides.iloc[0])"
   ]
  },
  {
   "cell_type": "code",
   "execution_count": null,
   "id": "0a0e9006",
   "metadata": {},
   "outputs": [],
   "source": [
    "Output:\n",
    "    \n",
    "    Name:                                      Duration, dtype: float64\n",
    "    Start date                        2017-10-01 15:23:25\n",
    "    End date                          2017-10-01 15:26:26\n",
    "    Start station number                            31038\n",
    "    Start station                    Glebe Rd & 11th St N\n",
    "    End station number                              31036\n",
    "    End station             George Mason Dr & Wilson Blvd\n",
    "    Bike number                                    W20529\n",
    "    Member type                                    Member\n",
    "    Name: 0, dtype: object"
   ]
  },
  {
   "cell_type": "code",
   "execution_count": null,
   "id": "bfa1be0a",
   "metadata": {},
   "outputs": [],
   "source": [
    "# Subtract the start date from the end date\n",
    "ride_durations = rides['End date'] - rides['Start date']\n",
    "\n",
    "# Convert the results to seconds\n",
    "rides['Duration'] = ride_durations.dt.total_seconds()\n",
    "\n",
    "print(rides['Duration'].head())"
   ]
  },
  {
   "cell_type": "code",
   "execution_count": null,
   "id": "ada1b9ae",
   "metadata": {},
   "outputs": [],
   "source": [
    "Output:\n",
    "\n",
    "0     181.0\n",
    "1    7622.0\n",
    "2     343.0\n",
    "3    1278.0\n",
    "4    1277.0\n",
    "Name: Duration, dtype: float64"
   ]
  },
  {
   "cell_type": "code",
   "execution_count": null,
   "id": "2d22b864",
   "metadata": {},
   "outputs": [],
   "source": [
    "# Create joyrides\n",
    "joyrides = (rides['Start station'] == rides['End station'])\n",
    "\n",
    "# Total number of joyrides\n",
    "print(\"{} rides were joyrides\".format(joyrides.sum()))\n",
    "\n",
    "# Median of all rides\n",
    "print(\"The median duration overall was {:.2f} seconds\"\\\n",
    "      .format(rides['Duration'].median()))\n",
    "\n",
    "# Median of joyrides\n",
    "print(\"The median duration for joyrides was {:.2f} seconds\"\\\n",
    "      .format(rides[joyrides]['Duration'].median()))"
   ]
  },
  {
   "cell_type": "code",
   "execution_count": null,
   "id": "085163b6",
   "metadata": {},
   "outputs": [],
   "source": [
    "Output:\n",
    "    \n",
    "6 rides were joyrides\n",
    "The median duration overall was 660.00 seconds\n",
    "The median duration for joyrides was 2642.50 seconds"
   ]
  },
  {
   "cell_type": "code",
   "execution_count": null,
   "id": "2b15aa05",
   "metadata": {},
   "outputs": [],
   "source": [
    "# Import matplotlib\n",
    "import matplotlib.pyplot as plt\n",
    "\n",
    "# Resample rides to daily, take the size, plot the results\n",
    "rides.resample('D', on = 'Start date')\\\n",
    "  .size()\\\n",
    "  .plot(ylim = [0, 15])\n",
    "\n",
    "# Show the results\n",
    "plt.show()"
   ]
  },
  {
   "attachments": {
    "image.png": {
     "image/png": "[encoded data removed]"
    }
   },
   "cell_type": "markdown",
   "id": "022539d8",
   "metadata": {},
   "source": [
    "![image.png](attachment:image.png)"
   ]
  },
  {
   "cell_type": "code",
   "execution_count": null,
   "id": "5e864675",
   "metadata": {},
   "outputs": [],
   "source": [
    "# Import matplotlib\n",
    "import matplotlib.pyplot as plt\n",
    "\n",
    "# Resample rides to monthly, take the size, plot the results\n",
    "rides.resample('M', on = 'Start date')\\\n",
    "  .size()\\\n",
    "  .plot(ylim = [0, 150])\n",
    "\n",
    "# Show the results\n",
    "plt.show()"
   ]
  },
  {
   "attachments": {
    "image.png": {
     "image/png": "[encoded data removed]"
    }
   },
   "cell_type": "markdown",
   "id": "b596f355",
   "metadata": {},
   "source": [
    "![image.png](attachment:image.png)"
   ]
  },
  {
   "cell_type": "code",
   "execution_count": null,
   "id": "7588a198",
   "metadata": {},
   "outputs": [],
   "source": [
    "# Resample rides to be monthly on the basis of Start date\n",
    "monthly_rides = rides.resample('M', on = 'Start date')['Member type']\n",
    "\n",
    "# Take the ratio of the .value_counts() over the total number of rides\n",
    "print(monthly_rides.value_counts() / monthly_rides.size())"
   ]
  },
  {
   "cell_type": "code",
   "execution_count": null,
   "id": "58dc570b",
   "metadata": {},
   "outputs": [],
   "source": [
    "Output:\n",
    "    \n",
    "Start date  Member         type\n",
    "2017-10-31  Member         0.769\n",
    "            Casual         0.231\n",
    "2017-11-30  Member         0.825\n",
    "            Casual         0.175\n",
    "2017-12-31  Member         0.861\n",
    "            Casual         0.139\n",
    "Name: Member type, dtype: float64"
   ]
  },
  {
   "cell_type": "code",
   "execution_count": null,
   "id": "190416a9",
   "metadata": {},
   "outputs": [],
   "source": [
    "# Group rides by member type, and resample to the month\n",
    "grouped = rides.groupby('Member type')\\\n",
    "  .resample('M', on = 'Start date')\n",
    "\n",
    "# Print the median duration for each group\n",
    "print(grouped['Duration'].median())"
   ]
  },
  {
   "cell_type": "code",
   "execution_count": null,
   "id": "a0b95695",
   "metadata": {},
   "outputs": [],
   "source": [
    "Output:\n",
    "\n",
    "Member type  Start date\n",
    "Casual       2017-10-31    1636.0\n",
    "             2017-11-30    1159.5\n",
    "             2017-12-31     850.0\n",
    "Member       2017-10-31     671.0\n",
    "             2017-11-30     655.0\n",
    "             2017-12-31     387.5\n",
    "Name: Duration, dtype: float64"
   ]
  },
  {
   "cell_type": "code",
   "execution_count": null,
   "id": "44193d24",
   "metadata": {},
   "outputs": [],
   "source": [
    "# Localize the Start date column to America/New_York\n",
    "# to set a timezone, keeping the date and time the same\n",
    "rides['Start date'] = rides['Start date'].dt.tz_localize('America/New_York', ambiguous = 'NaT')\n",
    "\n",
    "# Print first value\n",
    "print(rides['Start date'].iloc[0])"
   ]
  },
  {
   "cell_type": "code",
   "execution_count": null,
   "id": "068f2645",
   "metadata": {},
   "outputs": [],
   "source": [
    "Output:\n",
    "    \n",
    "2017-10-01 15:23:25-04:00"
   ]
  },
  {
   "cell_type": "code",
   "execution_count": null,
   "id": "43f618f7",
   "metadata": {},
   "outputs": [],
   "source": [
    "# Convert the Start date column to Europe/London\n",
    "# to change the date and time to match a new timezone\n",
    "rides['Start date'] = rides['Start date'].dt.tz_convert('Europe/London')\n",
    "\n",
    "# Print the new value\n",
    "print(rides['Start date'].iloc[0])"
   ]
  },
  {
   "cell_type": "raw",
   "id": "9e64f833",
   "metadata": {},
   "source": [
    "Output:\n",
    " \n",
    "    2017-10-01 15:23:25-04:00\n",
    "    2017-10-01 20:23:25+01:00"
   ]
  },
  {
   "cell_type": "code",
   "execution_count": null,
   "id": "6c28fe4c",
   "metadata": {},
   "outputs": [],
   "source": [
    "# Add a column for the weekday of the start of the ride\n",
    "rides['Ride start weekday'] = rides['Start date'].dt.day_name()\n",
    "\n",
    "# Print the median trip time per weekday\n",
    "print(rides.groupby(['Ride start weekday'])['Duration'].median())"
   ]
  },
  {
   "cell_type": "raw",
   "id": "ac4bd99f",
   "metadata": {},
   "source": [
    "Output:\n",
    "\n",
    "Ride start weekday\n",
    "Friday       724.5\n",
    "Monday       810.5\n",
    "Saturday     462.0\n",
    "Sunday       902.5\n",
    "Thursday     652.0\n",
    "Tuesday      641.5\n",
    "Wednesday    585.0\n",
    "Name: Duration, dtype: float64"
   ]
  },
  {
   "cell_type": "code",
   "execution_count": null,
   "id": "2bcb57ab",
   "metadata": {},
   "outputs": [],
   "source": [
    "# Shift the index of the end date up one; now subract it from the start date\n",
    "rides['Time since'] = rides['Start date'] - (rides['End date'].shift(1))\n",
    "\n",
    "# Move from a timedelta to a number of seconds, which is easier to work with\n",
    "rides['Time since'] = rides['Time since'].dt.total_seconds()\n",
    "\n",
    "# Resample to the month\n",
    "# groups rows on the basis of a datetime column\n",
    "monthly = rides.resample('M',on = 'Start date')\n",
    "\n",
    "# Print the average hours between rides each month\n",
    "print(monthly['Time since'].mean()/(60*60))"
   ]
  },
  {
   "cell_type": "code",
   "execution_count": null,
   "id": "8a848bf0",
   "metadata": {},
   "outputs": [],
   "source": [
    "Output:\n",
    "    \n",
    "    Start date\n",
    "    2017-10-31    5.519\n",
    "    2017-11-30    7.256\n",
    "    2017-12-31    9.202\n",
    "    Freq: M, Name: Time since, dtype: float64"
   ]
  }
 ],
 "metadata": {
  "kernelspec": {
   "display_name": "Python 3 (ipykernel)",
   "language": "python",
   "name": "python3"
  },
  "language_info": {
   "codemirror_mode": {
    "name": "ipython",
    "version": 3
   },
   "file_extension": ".py",
   "mimetype": "text/x-python",
   "name": "python",
   "nbconvert_exporter": "python",
   "pygments_lexer": "ipython3",
   "version": "3.9.12"
  }
 },
 "nbformat": 4,
 "nbformat_minor": 5
}
