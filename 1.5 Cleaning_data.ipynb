{
 "cells": [
  {
   "cell_type": "markdown",
   "id": "eaec879f",
   "metadata": {},
   "source": [
    "# Objectives: \n",
    "1. Common data problems \n",
    " - 1.1 Summing strings and concatenating numbers\n",
    " - 1.2 Data range constraints\n",
    " - 1.3 Find and drop duplicates\n",
    "2. Text and categorical data problems\n",
    " - 2.1 Membership constraints\n",
    " - 2.2 Categorical data problems \n",
    "3.  Advanced data problems\n",
    " - 3.1 Uniform \n",
    " - 3.2 Cross validation: data integrity\n",
    " - 3.3 Completeness"
   ]
  },
  {
   "cell_type": "markdown",
   "id": "c306f3db",
   "metadata": {},
   "source": [
    "## 1. Common data problems"
   ]
  },
  {
   "cell_type": "markdown",
   "id": "dfd73fd7",
   "metadata": {},
   "source": [
    "### 1.1 Summing strings and concatenating numbers"
   ]
  },
  {
   "cell_type": "code",
   "execution_count": null,
   "id": "df687138",
   "metadata": {},
   "outputs": [],
   "source": [
    "# Strip duration of minutes\n",
    "ride_sharing['duration_trim'] = ride_sharing['duration'].str.strip('minutes')\n",
    "\n",
    "# Convert duration to integer\n",
    "ride_sharing['duration_time'] = ride_sharing['duration_trim'].astype('int')\n",
    "\n",
    "# Write an assert statement making sure of conversion\n",
    "assert ride_sharing['duration_time'].dtype == 'int'\n",
    "\n",
    "# Print formed columns and calculate average ride duration \n",
    "print(ride_sharing[['duration','duration_trim','duration_time']])\n",
    "print(ride_sharing['duration_time'].mean())"
   ]
  },
  {
   "cell_type": "markdown",
   "id": "0fba481c",
   "metadata": {},
   "source": [
    "### 1.2 Data range constraints"
   ]
  },
  {
   "cell_type": "markdown",
   "id": "3de229b3",
   "metadata": {},
   "source": [
    "**The size constraints**"
   ]
  },
  {
   "cell_type": "code",
   "execution_count": null,
   "id": "fd6926ba",
   "metadata": {},
   "outputs": [],
   "source": [
    "# Convert tire_sizes to integer\n",
    "ride_sharing['tire_sizes'] = ride_sharing['tire_sizes'].astype('int')\n",
    "\n",
    "# Set all values above 27 to 27\n",
    "ride_sharing.loc[ride_sharing['tire_sizes'] > 27,'tire_sizes'] = 27\n",
    "\n",
    "# Reconvert tire_sizes back to categorical\n",
    "ride_sharing['tire_sizes'] = ride_sharing['tire_sizes'].astype('category')\n",
    "\n",
    "# Print tire size description\n",
    "print(ride_sharing['tire_sizes'].describe())"
   ]
  },
  {
   "cell_type": "code",
   "execution_count": null,
   "id": "7faf7553",
   "metadata": {},
   "outputs": [],
   "source": [
    "Output:\n",
    "    \n",
    "count     25760\n",
    "unique        2\n",
    "top          27\n",
    "freq      13274\n",
    "Name: tire_sizes, dtype: int64"
   ]
  },
  {
   "cell_type": "markdown",
   "id": "23816f8a",
   "metadata": {},
   "source": [
    "**Data constraints**"
   ]
  },
  {
   "cell_type": "code",
   "execution_count": null,
   "id": "07647d41",
   "metadata": {},
   "outputs": [],
   "source": [
    "# Convert ride_date to date\n",
    "ride_sharing['ride_dt'] = pd.to_datetime(ride_sharing['ride_date']).dt.date\n",
    "\n",
    "# Save today's date\n",
    "today = dt.date.today()\n",
    "\n",
    "# Set all in the future to today's date\n",
    "ride_sharing.loc[ride_sharing['ride_dt'] > today, 'ride_dt'] = today\n",
    "\n",
    "# Print maximum of ride_dt column\n",
    "print(ride_sharing['ride_dt'].max())"
   ]
  },
  {
   "cell_type": "code",
   "execution_count": null,
   "id": "0e835f21",
   "metadata": {},
   "outputs": [],
   "source": [
    "Output:\n",
    "    \n",
    "2023-01-07"
   ]
  },
  {
   "cell_type": "markdown",
   "id": "721b46c9",
   "metadata": {},
   "source": [
    "### 1.3 Find and drop duplicates"
   ]
  },
  {
   "cell_type": "code",
   "execution_count": null,
   "id": "8896e95c",
   "metadata": {
    "tags": [
     "Duplicates"
    ]
   },
   "outputs": [],
   "source": [
    "# Find duplicates\n",
    "duplicates = ride_sharing.duplicated(subset='ride_id', keep=False)\n",
    "\n",
    "# Sort your duplicated rides\n",
    "duplicated_rides = ride_sharing[duplicates].sort_values(by = 'ride_id')\n",
    "\n",
    "# Print relevant columns of duplicated_rides\n",
    "print(duplicated_rides[['ride_id','duration','user_birth_year']])"
   ]
  },
  {
   "cell_type": "code",
   "execution_count": null,
   "id": "08c29f50",
   "metadata": {},
   "outputs": [],
   "source": [
    "# Drop complete duplicates from ride_sharing\n",
    "ride_dup = ride_sharing.drop_duplicates()\n",
    "\n",
    "# Create statistics dictionary for aggregation function\n",
    "statistics = {'user_birth_year': 'min', 'duration': 'mean'}\n",
    "\n",
    "# Group by ride_id and compute new statistics\n",
    "ride_unique = ride_dup.groupby('ride_id').agg(statistics).reset_index()\n",
    "\n",
    "# Find duplicated values again\n",
    "# keep{‘first’, ‘last’, False}, default ‘first’ to determines which duplicates (if any) to mark.\n",
    "# first : Mark duplicates as True except for the first occurrence.\n",
    "# last : Mark duplicates as True except for the last occurrence.\n",
    "#False : Mark all duplicates as True.\n",
    "duplicates = ride_unique.duplicated(subset = 'ride_id', keep = False)\n",
    "duplicated_rides = ride_unique[duplicates == True]\n",
    "\n",
    "# Assert duplicates are processed\n",
    "assert duplicated_rides.shape[0] == 0"
   ]
  },
  {
   "cell_type": "markdown",
   "id": "4b92c082",
   "metadata": {},
   "source": [
    "## 2. Text and categorical data problems"
   ]
  },
  {
   "cell_type": "markdown",
   "id": "70cf1d0d",
   "metadata": {},
   "source": [
    "### 2.1 Membership constraints"
   ]
  },
  {
   "cell_type": "code",
   "execution_count": null,
   "id": "a799b29a",
   "metadata": {},
   "outputs": [],
   "source": [
    "# Print categories DataFrame\n",
    "print(categories)\n",
    "\n",
    "# Print unique values of survey columns in airlines\n",
    "print('Cleanliness: ', airlines['cleanliness'].unique(), \"\\n\")\n",
    "print('Safety: ', airlines['safety'].unique(), \"\\n\")\n",
    "print('Satisfaction: ', airlines['satisfaction'].unique(), \"\\n\")"
   ]
  },
  {
   "cell_type": "code",
   "execution_count": null,
   "id": "55eaa694",
   "metadata": {},
   "outputs": [],
   "source": [
    "Output:\n",
    "    \n",
    "      cleanliness           safety          satisfaction\n",
    "0           Clean          Neutral        Very satisfied\n",
    "1         Average        Very safe               Neutral\n",
    "2  Somewhat clean    Somewhat safe    Somewhat satisfied\n",
    "3  Somewhat dirty      Very unsafe  Somewhat unsatisfied\n",
    "4           Dirty  Somewhat unsafe      Very unsatisfied\n",
    "Cleanliness:  ['Clean', 'Average', 'Unacceptable', 'Somewhat clean', 'Somewhat dirty', 'Dirty']\n",
    "Categories (6, object): ['Average', 'Clean', 'Dirty', 'Somewhat clean', 'Somewhat dirty', 'Unacceptable'] \n",
    "\n",
    "Safety:  ['Neutral', 'Very safe', 'Somewhat safe', 'Very unsafe', 'Somewhat unsafe']\n",
    "Categories (5, object): ['Neutral', 'Somewhat safe', 'Somewhat unsafe', 'Very safe', 'Very unsafe'] \n",
    "\n",
    "Satisfaction:  ['Very satisfied', 'Neutral', 'Somewhat satisfied', 'Somewhat unsatisfied', 'Very unsatisfied']\n",
    "Categories (5, object): ['Neutral', 'Somewhat satisfied', 'Somewhat unsatisfied', 'Very satisfied', 'Very unsatisfied'] "
   ]
  },
  {
   "cell_type": "code",
   "execution_count": null,
   "id": "94f301f9",
   "metadata": {},
   "outputs": [],
   "source": [
    "# Find the cleanliness category in airlines not in categories\n",
    "cat_clean = set(airlines['cleanliness']).difference(categories['cleanliness'])\n",
    "\n",
    "# Find rows with that category\n",
    "cat_clean_rows = airlines['cleanliness'].isin(cat_clean)\n",
    "\n",
    "# Print rows with inconsistent category\n",
    "print(airlines[cat_clean_rows])"
   ]
  },
  {
   "cell_type": "code",
   "execution_count": null,
   "id": "75d8b23e",
   "metadata": {},
   "outputs": [],
   "source": [
    "Output:\n",
    "    \n",
    "      id        day           airline  destination  dest_region dest_size boarding_area   dept_time  wait_min   cleanliness         safety        satisfaction\n",
    "4    2992  Wednesday          AMERICAN        MIAMI      East US       Hub   Gates 50-59  2018-12-31     559.0  Unacceptable      Very safe  Somewhat satisfied\n",
    "18   2913     Friday  TURKISH AIRLINES     ISTANBUL  Middle East       Hub  Gates 91-102  2018-12-31     225.0  Unacceptable      Very safe  Somewhat satisfied\n",
    "100  2321  Wednesday         SOUTHWEST  LOS ANGELES      West US       Hub   Gates 20-39  2018-12-31     130.0  Unacceptable  Somewhat safe  Somewhat satisfied"
   ]
  },
  {
   "cell_type": "code",
   "execution_count": null,
   "id": "b9220b16",
   "metadata": {},
   "outputs": [],
   "source": [
    "# Find the cleanliness category in airlines not in categories\n",
    "cat_clean = set(airlines['cleanliness']).difference(categories['cleanliness'])\n",
    "\n",
    "# Find rows with that category\n",
    "cat_clean_rows = airlines['cleanliness'].isin(cat_clean)\n",
    "\n",
    "# Print rows with inconsistent category\n",
    "print(airlines[cat_clean_rows])\n",
    "\n",
    "# Print rows with consistent categories only\n",
    "print(airlines[~cat_clean_rows])"
   ]
  },
  {
   "cell_type": "code",
   "execution_count": null,
   "id": "0652609d",
   "metadata": {},
   "outputs": [],
   "source": [
    "Output:\n",
    "\n",
    "      id        day           airline  destination  dest_region dest_size boarding_area   dept_time  wait_min   cleanliness         safety        satisfaction\n",
    "4    2992  Wednesday          AMERICAN        MIAMI      East US       Hub   Gates 50-59  2018-12-31     559.0  Unacceptable      Very safe  Somewhat satisfied\n",
    "18   2913     Friday  TURKISH AIRLINES     ISTANBUL  Middle East       Hub  Gates 91-102  2018-12-31     225.0  Unacceptable      Very safe  Somewhat satisfied\n",
    "100  2321  Wednesday         SOUTHWEST  LOS ANGELES      West US       Hub   Gates 20-39  2018-12-31     130.0  Unacceptable  Somewhat safe  Somewhat satisfied\n",
    "       \n",
    "       \n",
    "        id       day        airline        destination    dest_region dest_size boarding_area   dept_time  wait_min     cleanliness         safety        satisfaction\n",
    "0     1351   Tuesday    UNITED INTL             KANSAI           Asia       Hub  Gates 91-102  2018-12-31     115.0           Clean        Neutral      Very satisfied\n",
    "1      373    Friday         ALASKA  SAN JOSE DEL CABO  Canada/Mexico     Small   Gates 50-59  2018-12-31     135.0           Clean      Very safe      Very satisfied\n",
    "2     2820  Thursday          DELTA        LOS ANGELES        West US       Hub   Gates 40-48  2018-12-31      70.0         Average  Somewhat safe             Neutral\n",
    "3     1157   Tuesday      SOUTHWEST        LOS ANGELES        West US       Hub   Gates 20-39  2018-12-31     190.0           Clean      Very safe  Somewhat satisfied\n",
    "5      634  Thursday         ALASKA             NEWARK        East US       Hub   Gates 50-59  2018-12-31     140.0  Somewhat clean      Very safe      Very satisfied\n",
    "...    ...       ...            ...                ...            ...       ...           ...         ...       ...             ...            ...                 ...\n",
    "2804  1475   Tuesday         ALASKA       NEW YORK-JFK        East US       Hub   Gates 50-59  2018-12-31     280.0  Somewhat clean        Neutral  Somewhat satisfied\n",
    "2805  2222  Thursday      SOUTHWEST            PHOENIX        West US       Hub   Gates 20-39  2018-12-31     165.0           Clean      Very safe      Very satisfied\n",
    "2806  2684    Friday         UNITED            ORLANDO        East US       Hub   Gates 70-90  2018-12-31      92.0           Clean      Very safe      Very satisfied\n",
    "2807  2549   Tuesday        JETBLUE         LONG BEACH        West US     Small    Gates 1-12  2018-12-31      95.0           Clean  Somewhat safe      Very satisfied\n",
    "2808  2162  Saturday  CHINA EASTERN            QINGDAO           Asia     Large    Gates 1-12  2018-12-31     220.0           Clean      Very safe  Somewhat satisfied\n",
    "\n",
    "[2474 rows x 12 columns]"
   ]
  },
  {
   "cell_type": "markdown",
   "id": "0a7f6f12",
   "metadata": {},
   "source": [
    "### 2.2 Categorical data problems"
   ]
  },
  {
   "cell_type": "code",
   "execution_count": null,
   "id": "e0c43585",
   "metadata": {},
   "outputs": [],
   "source": [
    "# Print unique values of both columns\n",
    "print(airlines['dest_region'].unique())\n",
    "print(airlines['dest_size'].unique())\n",
    "\n",
    "# Lower dest_region column and then replace \"eur\" with \"europe\"\n",
    "airlines['dest_region'] = airlines['dest_region'].str.lower() \n",
    "airlines['dest_region'] = airlines['dest_region'].replace({'eur':'europe'})\n",
    "\n",
    "# Remove white spaces from `dest_size`\n",
    "airlines['dest_size'] = airlines['dest_size'].str.strip(' ')\n",
    "\n",
    "# Verify changes have been effected\n",
    "print(airlines['dest_region'].unique())\n",
    "print(airlines['dest_size'].unique())"
   ]
  },
  {
   "cell_type": "code",
   "execution_count": null,
   "id": "86511c3e",
   "metadata": {},
   "outputs": [],
   "source": [
    "Output:\n",
    "    \n",
    "['Asia' 'Canada/Mexico' 'West US' 'East US' 'Midwest US' 'EAST US'\n",
    " 'Middle East' 'Europe' 'eur' 'Central/South America'\n",
    " 'Australia/New Zealand' 'middle east']\n",
    "\n",
    "['Hub' 'Small' '    Hub' 'Medium' 'Large' 'Hub     ' '    Small'\n",
    " 'Medium     ' '    Medium' 'Small     ' '    Large' 'Large     ']\n",
    "\n",
    "['asia' 'canada/mexico' 'west us' 'east us' 'midwest us' 'middle east'\n",
    " 'europe' 'central/south america' 'australia/new zealand']\n",
    "\n",
    "['Hub' 'Small' 'Medium' 'Large']"
   ]
  },
  {
   "cell_type": "markdown",
   "id": "860c1b10",
   "metadata": {},
   "source": [
    "**Remapping categories**"
   ]
  },
  {
   "cell_type": "code",
   "execution_count": null,
   "id": "3dd0dcbe",
   "metadata": {},
   "outputs": [],
   "source": [
    "# Create ranges for categories\n",
    "# np.inf means largerrrrr \n",
    "label_ranges = [0, 60, 180, np.inf]\n",
    "label_names = ['short', 'medium', 'long']\n",
    "\n",
    "# Create wait_type column\n",
    "airlines['wait_type'] = pd.cut(airlines['wait_min'], bins = label_ranges, \n",
    "                                labels = label_names)\n",
    "\n",
    "# Create mappings and replace\n",
    "mappings = {'Monday':'weekday', 'Tuesday':'weekday', 'Wednesday': 'weekday', \n",
    "            'Thursday': 'weekday', 'Friday': 'weekday', \n",
    "            'Saturday': 'weekend', 'Sunday': 'weekend'}\n",
    "\n",
    "airlines['day_week'] = airlines['day'].replace(mappings)"
   ]
  },
  {
   "cell_type": "markdown",
   "id": "2ccad075",
   "metadata": {},
   "source": [
    "**Removing titles and taking names**"
   ]
  },
  {
   "cell_type": "code",
   "execution_count": null,
   "id": "409d79fb",
   "metadata": {},
   "outputs": [],
   "source": [
    "# Replace \"Dr.\" with empty string \"\"\n",
    "airlines['full_name'] = airlines['full_name'].str.replace(\"Dr.\",\"\")\n",
    "\n",
    "# Replace \"Mr.\" with empty string \"\"\n",
    "airlines['full_name'] = airlines['full_name'].str.replace('Mr.',\"\")\n",
    "\n",
    "# Replace \"Miss\" with empty string \"\"\n",
    "airlines['full_name']=airlines['full_name'].str.replace('Miss',\"\")\n",
    "\n",
    "# Replace \"Ms.\" with empty string \"\"\n",
    "airlines['full_name']=airlines['full_name'].str.replace('Ms.',\"\")\n",
    "\n",
    "# Assert that full_name has no honorifics\n",
    "assert airlines['full_name'].str.contains('Ms.|Mr.|Miss|Dr.').any() == False"
   ]
  },
  {
   "cell_type": "code",
   "execution_count": null,
   "id": "f2d817b6",
   "metadata": {},
   "outputs": [],
   "source": [
    "# Store length of each row in survey_response column\n",
    "resp_length = airlines['survey_response'].str.len()\n",
    "\n",
    "# Find rows in airlines where resp_length > 40\n",
    "airlines_survey = airlines[resp_length > 40]\n",
    "\n",
    "# Assert minimum survey_response length is > 40\n",
    "assert airlines_survey['survey_response'].str.len().min() > 40\n",
    "\n",
    "# Print new survey_response column\n",
    "print(airlines_survey['survey_response'])"
   ]
  },
  {
   "cell_type": "code",
   "execution_count": null,
   "id": "22773183",
   "metadata": {},
   "outputs": [],
   "source": [
    "Output:\n",
    "\n",
    "18    The airport personnell forgot to alert us of d...\n",
    "19    The food in the airport was really really expe...\n",
    "20    One of the other travelers was really loud and...\n",
    "21    I don't remember answering the survey with the...\n",
    "22    The airport personnel kept ignoring my request...\n",
    "23    The chair I sat in was extremely uncomfortable...\n",
    "24    I wish you were more like other airports, the ...\n",
    "25    I was really unsatisfied with the wait times b...\n",
    "27    The flight was okay, but I didn't really like ...\n",
    "28    We were really slowed down by security measure...\n",
    "29    There was a spill on the aisle next to the bat...\n",
    "30    I felt very unsatisfied by how long the flight...\n",
    "Name: survey_response, dtype: object"
   ]
  },
  {
   "cell_type": "markdown",
   "id": "126e0272",
   "metadata": {},
   "source": [
    "## 3.  Advanced data problems"
   ]
  },
  {
   "cell_type": "markdown",
   "id": "41e40e5e",
   "metadata": {},
   "source": [
    "### 3.1 Uniform"
   ]
  },
  {
   "cell_type": "markdown",
   "id": "f89d9401",
   "metadata": {},
   "source": [
    "**Uniform date**"
   ]
  },
  {
   "cell_type": "code",
   "execution_count": null,
   "id": "373af83e",
   "metadata": {},
   "outputs": [],
   "source": [
    "# Find values of acct_cur that are equal to 'euro'\n",
    "acct_eu = banking['acct_cur'] == 'euro' #row\n",
    "\n",
    "# Convert acct_amount where it is in euro to dollars\n",
    "banking.loc[acct_eu, 'acct_amount'] = banking.loc[acct_eu,'acct_amount'] * 1.1\n",
    "\n",
    "# Unify acct_cur column by changing 'euro' values to 'dollar'\n",
    "banking.loc[acct_eu, 'acct_cur'] = 'dollar'\n",
    "\n",
    "# Assert that only dollar currency remains\n",
    "assert banking['acct_cur'].unique() == 'dollar'"
   ]
  },
  {
   "cell_type": "code",
   "execution_count": null,
   "id": "9d1bcd7f",
   "metadata": {},
   "outputs": [],
   "source": [
    "# Print the header of account_opend\n",
    "print(banking['account_opened'].head())\n",
    "\n",
    "# Convert account_opened to datetime\n",
    "banking['account_opened'] = pd.to_datetime(banking['account_opened'],\n",
    "                                           # Infer datetime format\n",
    "                                           infer_datetime_format = True,\n",
    "                                           # Return missing value for error\n",
    "                                           errors = 'coerce') \n",
    "\n",
    "# Get year of account opened\n",
    "banking['acct_year'] = banking['account_opened'].dt.strftime('%Y')\n",
    "\n",
    "# Print acct_year\n",
    "print(banking['acct_year'])"
   ]
  },
  {
   "cell_type": "markdown",
   "id": "9e85717b",
   "metadata": {},
   "source": [
    "### 3.2 Cross validation: data integrity"
   ]
  },
  {
   "cell_type": "code",
   "execution_count": null,
   "id": "5fbd155b",
   "metadata": {},
   "outputs": [],
   "source": [
    "# Store fund columns to sum against\n",
    "fund_columns = ['fund_A', 'fund_B', 'fund_C', 'fund_D']\n",
    "\n",
    "# Find rows where fund_columns row sum == inv_amount\n",
    "inv_equ = banking[['fund_A','fund_B','fund_C','fund_D']].sum(axis=1) == banking['inv_amount']\n",
    "\n",
    "# Store consistent and inconsistent data\n",
    "consistent_inv = banking[inv_equ]\n",
    "inconsistent_inv = banking[~inv_equ]\n",
    "\n",
    "# Store consistent and inconsistent data\n",
    "print(\"Number of inconsistent investments: \", inconsistent_inv.shape[0])"
   ]
  },
  {
   "cell_type": "markdown",
   "id": "a56bd84f",
   "metadata": {},
   "source": [
    "### 3.3 Completeness"
   ]
  },
  {
   "cell_type": "code",
   "execution_count": null,
   "id": "8313b3e6",
   "metadata": {},
   "outputs": [],
   "source": [
    "# Print number of missing values in banking\n",
    "print(banking.isna().sum())\n",
    "\n",
    "# Visualize missingness matrix\n",
    "msno.matrix(banking)\n",
    "plt.show()\n",
    "\n",
    "# Isolate missing and non missing values of inv_amount\n",
    "missing_investors = banking[banking['inv_amount'].isna()]\n",
    "investors = banking[~banking['inv_amount'].isna()]\n",
    "\n",
    "# Sort banking by age and visualize\n",
    "banking_sorted = banking.sort_values(by='age')\n",
    "msno.matrix(banking_sorted)\n",
    "plt.show()"
   ]
  },
  {
   "cell_type": "raw",
   "id": "3796020d",
   "metadata": {},
   "source": [
    "Output:\n",
    "\n",
    "cust_id              0\n",
    "age                  0\n",
    "acct_amount          0\n",
    "inv_amount          13\n",
    "account_opened       0\n",
    "last_transaction     0\n",
    "dtype: int64"
   ]
  },
  {
   "attachments": {
    "image.png": {
     "image/png": "[encoded data removed]"
    }
   },
   "cell_type": "markdown",
   "id": "f6bdd5c4",
   "metadata": {},
   "source": [
    "![image.png](attachment:image.png)"
   ]
  },
  {
   "cell_type": "code",
   "execution_count": null,
   "id": "e96bebf9",
   "metadata": {},
   "outputs": [],
   "source": []
  }
 ],
 "metadata": {
  "celltoolbar": "Tags",
  "kernelspec": {
   "display_name": "Python 3 (ipykernel)",
   "language": "python",
   "name": "python3"
  },
  "language_info": {
   "codemirror_mode": {
    "name": "ipython",
    "version": 3
   },
   "file_extension": ".py",
   "mimetype": "text/x-python",
   "name": "python",
   "nbconvert_exporter": "python",
   "pygments_lexer": "ipython3",
   "version": "3.9.12"
  }
 },
 "nbformat": 4,
 "nbformat_minor": 5
}
