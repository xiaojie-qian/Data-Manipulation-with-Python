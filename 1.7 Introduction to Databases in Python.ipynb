{
 "cells": [
  {
   "cell_type": "markdown",
   "id": "afb94e2b",
   "metadata": {},
   "source": [
    "# Objectives\n"
   ]
  },
  {
   "cell_type": "markdown",
   "id": "09225f4e",
   "metadata": {},
   "source": [
    "## 1. Basics of Relational Databases"
   ]
  },
  {
   "cell_type": "markdown",
   "id": "ec902557",
   "metadata": {},
   "source": [
    "**Connecting to your database**\n",
    "- SQLAlchemy\n",
    "  - Core (relational model focused)\n",
    "  - ORM (user data model focused)\n",
    "- Steps\n",
    "  - creating an engine\n",
    "  - establishing a connection\n",
    "  - initialize our metadata and reflect the table\n",
    "  - building select statement\n",
    "  - executing the statement and fetch all the result"
   ]
  },
  {
   "cell_type": "code",
   "execution_count": null,
   "id": "0e3410dc",
   "metadata": {},
   "outputs": [],
   "source": [
    "from sqlalchemy import create_engine, Table, MetaData\n",
    "engine = create_engine('sqlite:///database.sqlite')\n",
    "connection = engine.connect()\n",
    "metadata = MetaData()\n",
    "census = Table('census', metadata,\n",
    "              autoload = True,\n",
    "              autoload_with = engine)\n",
    "stmt = select([census])\n",
    "results = connection.execute(stmt).fetchall()"
   ]
  },
  {
   "cell_type": "code",
   "execution_count": 9,
   "id": "691f5e47",
   "metadata": {},
   "outputs": [],
   "source": [
    "from sqlalchemy import create_engine\n",
    "engine = create_engine('sqlite:///census.sqlite')\n",
    "connection = engine.connect()"
   ]
  },
  {
   "cell_type": "markdown",
   "id": "fd592a50",
   "metadata": {},
   "source": [
    "- *Engine: common interface to the database from SQLAlchemy*\n",
    "- *Connection string: all the details required to find the databse (and login, if necessary)*"
   ]
  },
  {
   "cell_type": "code",
   "execution_count": 21,
   "id": "de32afec",
   "metadata": {},
   "outputs": [
    {
     "name": "stdout",
     "output_type": "stream",
     "text": [
      "['census', 'state_fact', 'states']\n"
     ]
    }
   ],
   "source": [
    "from sqlalchemy import create_engine\n",
    "engine = create_engine('sqlite:///C:\\QXJ\\Python\\Datacamp\\pandas\\census.sqlite')\n",
    "print(inspector.get_table_names())"
   ]
  },
  {
   "cell_type": "code",
   "execution_count": 11,
   "id": "87adf92f",
   "metadata": {},
   "outputs": [
    {
     "name": "stdout",
     "output_type": "stream",
     "text": [
      "Table('census', MetaData(bind=None), Column('state', VARCHAR(length=30), table=<census>), Column('sex', VARCHAR(length=1), table=<census>), Column('age', INTEGER(), table=<census>), Column('pop2000', INTEGER(), table=<census>), Column('pop2008', INTEGER(), table=<census>), schema=None)\n"
     ]
    }
   ],
   "source": [
    "# reflection reads databse and build SQLAlchemy table objects\n",
    "\n",
    "from sqlalchemy import MetaData, Table\n",
    "metadata = MetaData()\n",
    "census = Table('census', metadata, autoload = True,\n",
    "              autoload_with = engine)\n",
    "print(repr(census))\n",
    "\n",
    "# repr() returns a printable representation of an object in Python."
   ]
  },
  {
   "cell_type": "code",
   "execution_count": 12,
   "id": "64323d5f",
   "metadata": {},
   "outputs": [
    {
     "name": "stdout",
     "output_type": "stream",
     "text": [
      "['state', 'sex', 'age', 'pop2000', 'pop2008']\n"
     ]
    }
   ],
   "source": [
    "# Print the column names\n",
    "print(census.columns.keys())"
   ]
  },
  {
   "cell_type": "markdown",
   "id": "5a3efb79",
   "metadata": {},
   "source": [
    "**SQL queries**\n",
    "- select, insert, update, and delete data\n",
    "- create and alter data"
   ]
  },
  {
   "cell_type": "code",
   "execution_count": 192,
   "id": "1bf2dd42",
   "metadata": {},
   "outputs": [],
   "source": [
    "from sqlalchemy import create_engine\n",
    "engine = create_engine('sqlite:///C:\\QXJ\\Python\\Datacamp\\pandas\\census.sqlite')\n",
    "connection = engine.connect() \n",
    "stmt = 'select * from census'\n",
    "result_proxy = connection.execute(stmt)\n",
    "results = result_proxy.fetchall()"
   ]
  },
  {
   "cell_type": "markdown",
   "id": "97dc0bd9",
   "metadata": {},
   "source": [
    "- **result_proxy** is a **ResultProxy**\n",
    "- **results** is a **ResultSet**"
   ]
  },
  {
   "cell_type": "code",
   "execution_count": 20,
   "id": "f005eb43",
   "metadata": {},
   "outputs": [
    {
     "name": "stdout",
     "output_type": "stream",
     "text": [
      "('Illinois', 'M', 0, 89600, 95012)\n"
     ]
    }
   ],
   "source": [
    "first_row = results[0]\n",
    "print(first_row)"
   ]
  },
  {
   "cell_type": "code",
   "execution_count": 25,
   "id": "e75ae1fc",
   "metadata": {},
   "outputs": [
    {
     "name": "stdout",
     "output_type": "stream",
     "text": [
      "['state', 'sex', 'age', 'pop2000', 'pop2008']\n"
     ]
    }
   ],
   "source": [
    "print(first_row.keys())"
   ]
  },
  {
   "cell_type": "code",
   "execution_count": 28,
   "id": "5f0fd411",
   "metadata": {},
   "outputs": [
    {
     "name": "stdout",
     "output_type": "stream",
     "text": [
      "Illinois\n",
      "Illinois\n"
     ]
    }
   ],
   "source": [
    "print(first_row.state)\n",
    "# first column of the first row\n",
    "print(first_row[0])"
   ]
  },
  {
   "cell_type": "code",
   "execution_count": 27,
   "id": "c5913aab",
   "metadata": {},
   "outputs": [
    {
     "name": "stdout",
     "output_type": "stream",
     "text": [
      "SELECT census.state, census.sex, census.age, census.pop2000, census.pop2008 \n",
      "FROM census\n"
     ]
    }
   ],
   "source": [
    "# use a table will select all the columns in it\n",
    "from sqlalchemy import select\n",
    "stmt = select([census])\n",
    "print(stmt)"
   ]
  },
  {
   "cell_type": "markdown",
   "id": "ba97a3b0",
   "metadata": {},
   "source": [
    "## 2. Applying Filtering, Ordering and Grouping to Queries\n",
    "- filtering\n",
    "  - boolean: = < > !=\n",
    "  - expression: in_(), like(), between()\n",
    "  - conjunctions: and_(), or_(), not_()\n",
    "- ordering: order_by()\n",
    "- aggregation function and grouping\n",
    "  - count, sum -> from sqlalchemy import func"
   ]
  },
  {
   "cell_type": "markdown",
   "id": "1d1c2e75",
   "metadata": {},
   "source": [
    "**filter the query**"
   ]
  },
  {
   "cell_type": "code",
   "execution_count": 46,
   "id": "c940d8ac",
   "metadata": {},
   "outputs": [
    {
     "name": "stdout",
     "output_type": "stream",
     "text": [
      "California 0\n",
      "California 1\n",
      "California 2\n",
      "California 3\n",
      "California 4\n",
      "California 5\n",
      "California 6\n",
      "California 7\n",
      "California 8\n",
      "California 9\n",
      "California 10\n",
      "California 11\n",
      "California 12\n",
      "California 13\n",
      "California 14\n",
      "California 15\n",
      "California 16\n",
      "California 17\n",
      "California 18\n",
      "California 19\n",
      "California 20\n",
      "California 21\n",
      "California 22\n",
      "California 23\n",
      "California 24\n",
      "California 25\n",
      "California 26\n",
      "California 27\n",
      "California 28\n",
      "California 29\n",
      "California 30\n",
      "California 31\n",
      "California 32\n",
      "California 33\n",
      "California 34\n",
      "California 35\n",
      "California 36\n",
      "California 37\n",
      "California 38\n",
      "California 39\n",
      "California 40\n",
      "California 41\n",
      "California 42\n",
      "California 43\n",
      "California 44\n",
      "California 45\n",
      "California 46\n",
      "California 47\n",
      "California 48\n",
      "California 49\n",
      "California 50\n",
      "California 51\n",
      "California 52\n",
      "California 53\n",
      "California 54\n",
      "California 55\n",
      "California 56\n",
      "California 57\n",
      "California 58\n",
      "California 59\n",
      "California 60\n",
      "California 61\n",
      "California 62\n",
      "California 63\n",
      "California 64\n",
      "California 65\n",
      "California 66\n",
      "California 67\n",
      "California 68\n",
      "California 69\n",
      "California 70\n",
      "California 71\n",
      "California 72\n",
      "California 73\n",
      "California 74\n",
      "California 75\n",
      "California 76\n",
      "California 77\n",
      "California 78\n",
      "California 79\n",
      "California 80\n",
      "California 81\n",
      "California 82\n",
      "California 83\n",
      "California 84\n",
      "California 85\n",
      "California 0\n",
      "California 1\n",
      "California 2\n",
      "California 3\n",
      "California 4\n",
      "California 5\n",
      "California 6\n",
      "California 7\n",
      "California 8\n",
      "California 9\n",
      "California 10\n",
      "California 11\n",
      "California 12\n",
      "California 13\n",
      "California 14\n",
      "California 15\n",
      "California 16\n",
      "California 17\n",
      "California 18\n",
      "California 19\n",
      "California 20\n",
      "California 21\n",
      "California 22\n",
      "California 23\n",
      "California 24\n",
      "California 25\n",
      "California 26\n",
      "California 27\n",
      "California 28\n",
      "California 29\n",
      "California 30\n",
      "California 31\n",
      "California 32\n",
      "California 33\n",
      "California 34\n",
      "California 35\n",
      "California 36\n",
      "California 37\n",
      "California 38\n",
      "California 39\n",
      "California 40\n",
      "California 41\n",
      "California 42\n",
      "California 43\n",
      "California 44\n",
      "California 45\n",
      "California 46\n",
      "California 47\n",
      "California 48\n",
      "California 49\n",
      "California 50\n",
      "California 51\n",
      "California 52\n",
      "California 53\n",
      "California 54\n",
      "California 55\n",
      "California 56\n",
      "California 57\n",
      "California 58\n",
      "California 59\n",
      "California 60\n",
      "California 61\n",
      "California 62\n",
      "California 63\n",
      "California 64\n",
      "California 65\n",
      "California 66\n",
      "California 67\n",
      "California 68\n",
      "California 69\n",
      "California 70\n",
      "California 71\n",
      "California 72\n",
      "California 73\n",
      "California 74\n",
      "California 75\n",
      "California 76\n",
      "California 77\n",
      "California 78\n",
      "California 79\n",
      "California 80\n",
      "California 81\n",
      "California 82\n",
      "California 83\n",
      "California 84\n",
      "California 85\n"
     ]
    }
   ],
   "source": [
    "# filter\n",
    "stmt = select([census])\n",
    "stmt = stmt.where(census.columns.state == 'California')\n",
    "results = connection.execute(stmt).fetchall()\n",
    "for result in results:\n",
    "    print(result.state, result.age)"
   ]
  },
  {
   "cell_type": "code",
   "execution_count": 34,
   "id": "31354a2d",
   "metadata": {},
   "outputs": [
    {
     "name": "stdout",
     "output_type": "stream",
     "text": [
      "New Jersey 56983\n",
      "New Jersey 56686\n",
      "New Jersey 57011\n",
      "New Jersey 57912\n",
      "New Jersey 59359\n",
      "New Jersey 60392\n",
      "New Jersey 60739\n",
      "New Jersey 61579\n",
      "New Jersey 62089\n",
      "New Jersey 63384\n",
      "New Jersey 64593\n",
      "New Jersey 62494\n",
      "New Jersey 60570\n",
      "New Jersey 58189\n",
      "New Jersey 57931\n",
      "New Jersey 56752\n",
      "New Jersey 55887\n",
      "New Jersey 56712\n",
      "New Jersey 53265\n",
      "New Jersey 48344\n",
      "New Jersey 49564\n",
      "New Jersey 48141\n",
      "New Jersey 48353\n",
      "New Jersey 49130\n",
      "New Jersey 48723\n",
      "New Jersey 51092\n",
      "New Jersey 50357\n",
      "New Jersey 52179\n",
      "New Jersey 55938\n",
      "New Jersey 60638\n",
      "New Jersey 64220\n",
      "New Jersey 61484\n",
      "New Jersey 61927\n",
      "New Jersey 63487\n",
      "New Jersey 66737\n",
      "New Jersey 71274\n",
      "New Jersey 71449\n",
      "New Jersey 71026\n",
      "New Jersey 71811\n",
      "New Jersey 72043\n",
      "New Jersey 73665\n",
      "New Jersey 70514\n",
      "New Jersey 69835\n",
      "New Jersey 68650\n",
      "New Jersey 65564\n",
      "New Jersey 65529\n",
      "New Jersey 61817\n",
      "New Jersey 59206\n",
      "New Jersey 56977\n",
      "New Jersey 55780\n",
      "New Jersey 56235\n",
      "New Jersey 53235\n",
      "New Jersey 54900\n",
      "New Jersey 58013\n",
      "New Jersey 43584\n",
      "New Jersey 42959\n",
      "New Jersey 42179\n",
      "New Jersey 45575\n",
      "New Jersey 38376\n",
      "New Jersey 34722\n",
      "New Jersey 34278\n",
      "New Jersey 32730\n",
      "New Jersey 31589\n",
      "New Jersey 29440\n",
      "New Jersey 28747\n",
      "New Jersey 27751\n",
      "New Jersey 26129\n",
      "New Jersey 26479\n",
      "New Jersey 26076\n",
      "New Jersey 25811\n",
      "New Jersey 26370\n",
      "New Jersey 24801\n",
      "New Jersey 24358\n",
      "New Jersey 23724\n",
      "New Jersey 22304\n",
      "New Jersey 21663\n",
      "New Jersey 20280\n",
      "New Jersey 18958\n",
      "New Jersey 17839\n",
      "New Jersey 17030\n",
      "New Jersey 15262\n",
      "New Jersey 12609\n",
      "New Jersey 12104\n",
      "New Jersey 10004\n",
      "New Jersey 8864\n",
      "New Jersey 39309\n",
      "New Jersey 54679\n",
      "New Jersey 53913\n",
      "New Jersey 54744\n",
      "New Jersey 55427\n",
      "New Jersey 56860\n",
      "New Jersey 57486\n",
      "New Jersey 57751\n",
      "New Jersey 58696\n",
      "New Jersey 59465\n",
      "New Jersey 60277\n",
      "New Jersey 61606\n",
      "New Jersey 59279\n",
      "New Jersey 57384\n",
      "New Jersey 55913\n",
      "New Jersey 54804\n",
      "New Jersey 54208\n",
      "New Jersey 52815\n",
      "New Jersey 52918\n",
      "New Jersey 48383\n",
      "New Jersey 45910\n",
      "New Jersey 47658\n",
      "New Jersey 46601\n",
      "New Jersey 46518\n",
      "New Jersey 47909\n",
      "New Jersey 47751\n",
      "New Jersey 49805\n",
      "New Jersey 50344\n",
      "New Jersey 52524\n",
      "New Jersey 56102\n",
      "New Jersey 61685\n",
      "New Jersey 64873\n",
      "New Jersey 62665\n",
      "New Jersey 63572\n",
      "New Jersey 65517\n",
      "New Jersey 68457\n",
      "New Jersey 72558\n",
      "New Jersey 73865\n",
      "New Jersey 73266\n",
      "New Jersey 72927\n",
      "New Jersey 73816\n",
      "New Jersey 75226\n",
      "New Jersey 73159\n",
      "New Jersey 72371\n",
      "New Jersey 71100\n",
      "New Jersey 68286\n",
      "New Jersey 67763\n",
      "New Jersey 64313\n",
      "New Jersey 62759\n",
      "New Jersey 60526\n",
      "New Jersey 59877\n",
      "New Jersey 60058\n",
      "New Jersey 57978\n",
      "New Jersey 58637\n",
      "New Jersey 62757\n",
      "New Jersey 47727\n",
      "New Jersey 45851\n",
      "New Jersey 45758\n",
      "New Jersey 49139\n",
      "New Jersey 42678\n",
      "New Jersey 38667\n",
      "New Jersey 38032\n",
      "New Jersey 35600\n",
      "New Jersey 35577\n",
      "New Jersey 33562\n",
      "New Jersey 32452\n",
      "New Jersey 32848\n",
      "New Jersey 31080\n",
      "New Jersey 31588\n",
      "New Jersey 32232\n",
      "New Jersey 32391\n",
      "New Jersey 33124\n",
      "New Jersey 31678\n",
      "New Jersey 32246\n",
      "New Jersey 31706\n",
      "New Jersey 30619\n",
      "New Jersey 31196\n",
      "New Jersey 30070\n",
      "New Jersey 28748\n",
      "New Jersey 27658\n",
      "New Jersey 27035\n",
      "New Jersey 25439\n",
      "New Jersey 21730\n",
      "New Jersey 21220\n",
      "New Jersey 19121\n",
      "New Jersey 17164\n",
      "New Jersey 98078\n",
      "New York 126237\n",
      "New York 124008\n",
      "New York 124725\n",
      "New York 126697\n",
      "New York 131357\n",
      "New York 133095\n",
      "New York 134203\n",
      "New York 137986\n",
      "New York 139455\n",
      "New York 142454\n",
      "New York 145621\n",
      "New York 138746\n",
      "New York 135565\n",
      "New York 132288\n",
      "New York 132388\n",
      "New York 131959\n",
      "New York 130189\n",
      "New York 132566\n",
      "New York 132672\n",
      "New York 133654\n",
      "New York 132121\n",
      "New York 126166\n",
      "New York 123215\n",
      "New York 121282\n",
      "New York 118953\n",
      "New York 123151\n",
      "New York 118727\n",
      "New York 122359\n",
      "New York 128651\n",
      "New York 140687\n",
      "New York 149558\n",
      "New York 139477\n",
      "New York 138911\n",
      "New York 139031\n",
      "New York 145440\n",
      "New York 156168\n",
      "New York 153840\n",
      "New York 152078\n",
      "New York 150765\n",
      "New York 152606\n",
      "New York 159345\n",
      "New York 148628\n",
      "New York 147892\n",
      "New York 144195\n",
      "New York 139354\n",
      "New York 141953\n",
      "New York 131875\n",
      "New York 128767\n",
      "New York 125406\n",
      "New York 124155\n",
      "New York 125955\n",
      "New York 118542\n",
      "New York 118532\n",
      "New York 124418\n",
      "New York 95025\n",
      "New York 92652\n",
      "New York 90096\n",
      "New York 95340\n",
      "New York 83273\n",
      "New York 77213\n",
      "New York 77054\n",
      "New York 72212\n",
      "New York 70967\n",
      "New York 66461\n",
      "New York 64361\n",
      "New York 64385\n",
      "New York 58819\n",
      "New York 58176\n",
      "New York 57310\n",
      "New York 57057\n",
      "New York 57761\n",
      "New York 53775\n",
      "New York 53568\n",
      "New York 51263\n",
      "New York 48440\n",
      "New York 46702\n",
      "New York 43508\n",
      "New York 40730\n",
      "New York 37950\n",
      "New York 35774\n",
      "New York 32453\n",
      "New York 26803\n",
      "New York 25041\n",
      "New York 21687\n",
      "New York 18873\n",
      "New York 88366\n",
      "New York 120355\n",
      "New York 118219\n",
      "New York 119577\n",
      "New York 121029\n",
      "New York 125247\n",
      "New York 128227\n",
      "New York 128428\n",
      "New York 131161\n",
      "New York 133646\n",
      "New York 135746\n",
      "New York 138287\n",
      "New York 131904\n",
      "New York 129028\n",
      "New York 126571\n",
      "New York 125682\n",
      "New York 125409\n",
      "New York 122770\n",
      "New York 123978\n",
      "New York 125307\n",
      "New York 127956\n",
      "New York 129184\n",
      "New York 124575\n",
      "New York 123701\n",
      "New York 124108\n",
      "New York 122624\n",
      "New York 127474\n",
      "New York 123033\n",
      "New York 128125\n",
      "New York 134795\n",
      "New York 146832\n",
      "New York 152973\n",
      "New York 144001\n",
      "New York 143930\n",
      "New York 144653\n",
      "New York 151147\n",
      "New York 159228\n",
      "New York 159999\n",
      "New York 157911\n",
      "New York 156103\n",
      "New York 159284\n",
      "New York 163331\n",
      "New York 155353\n",
      "New York 153688\n",
      "New York 151615\n",
      "New York 146774\n",
      "New York 148318\n",
      "New York 139802\n",
      "New York 138062\n",
      "New York 134107\n",
      "New York 134399\n",
      "New York 136630\n",
      "New York 130843\n",
      "New York 130196\n",
      "New York 136064\n",
      "New York 106579\n",
      "New York 104847\n",
      "New York 101857\n",
      "New York 108406\n",
      "New York 94346\n",
      "New York 88584\n",
      "New York 88932\n",
      "New York 82899\n",
      "New York 82172\n",
      "New York 77171\n",
      "New York 76032\n",
      "New York 76498\n",
      "New York 70465\n",
      "New York 71088\n",
      "New York 70847\n",
      "New York 71377\n",
      "New York 74378\n",
      "New York 70611\n",
      "New York 70513\n",
      "New York 69156\n",
      "New York 68042\n",
      "New York 68410\n",
      "New York 64971\n",
      "New York 61287\n",
      "New York 58911\n",
      "New York 56865\n",
      "New York 54553\n",
      "New York 46381\n",
      "New York 45599\n",
      "New York 40525\n",
      "New York 37436\n",
      "New York 226378\n",
      "New Hampshire 7302\n",
      "New Hampshire 7665\n",
      "New Hampshire 7703\n",
      "New Hampshire 8112\n",
      "New Hampshire 8278\n",
      "New Hampshire 8668\n",
      "New Hampshire 8680\n",
      "New Hampshire 9049\n",
      "New Hampshire 9174\n",
      "New Hampshire 9653\n",
      "New Hampshire 9912\n",
      "New Hampshire 9533\n",
      "New Hampshire 9544\n",
      "New Hampshire 9352\n",
      "New Hampshire 9399\n",
      "New Hampshire 9273\n",
      "New Hampshire 8813\n",
      "New Hampshire 8881\n",
      "New Hampshire 8812\n",
      "New Hampshire 8539\n",
      "New Hampshire 7752\n",
      "New Hampshire 7459\n",
      "New Hampshire 6923\n",
      "New Hampshire 6256\n",
      "New Hampshire 5938\n",
      "New Hampshire 6365\n",
      "New Hampshire 6428\n",
      "New Hampshire 6675\n",
      "New Hampshire 7423\n",
      "New Hampshire 8150\n",
      "New Hampshire 8529\n",
      "New Hampshire 8499\n",
      "New Hampshire 8592\n",
      "New Hampshire 8971\n",
      "New Hampshire 9305\n",
      "New Hampshire 10164\n",
      "New Hampshire 10464\n",
      "New Hampshire 10783\n",
      "New Hampshire 10819\n",
      "New Hampshire 11414\n",
      "New Hampshire 11448\n",
      "New Hampshire 11412\n",
      "New Hampshire 11283\n",
      "New Hampshire 11075\n",
      "New Hampshire 10639\n",
      "New Hampshire 10502\n",
      "New Hampshire 10120\n",
      "New Hampshire 9972\n",
      "New Hampshire 9542\n",
      "New Hampshire 9133\n",
      "New Hampshire 9113\n",
      "New Hampshire 9019\n",
      "New Hampshire 9018\n",
      "New Hampshire 9661\n",
      "New Hampshire 6578\n",
      "New Hampshire 6633\n",
      "New Hampshire 6839\n",
      "New Hampshire 6861\n",
      "New Hampshire 5955\n",
      "New Hampshire 5350\n",
      "New Hampshire 5116\n",
      "New Hampshire 4755\n",
      "New Hampshire 4660\n",
      "New Hampshire 4384\n",
      "New Hampshire 4273\n",
      "New Hampshire 4294\n",
      "New Hampshire 4062\n",
      "New Hampshire 3863\n",
      "New Hampshire 3919\n",
      "New Hampshire 3713\n",
      "New Hampshire 3752\n",
      "New Hampshire 3503\n",
      "New Hampshire 3305\n",
      "New Hampshire 3194\n",
      "New Hampshire 3010\n",
      "New Hampshire 2954\n",
      "New Hampshire 2671\n",
      "New Hampshire 2557\n",
      "New Hampshire 2394\n",
      "New Hampshire 2245\n",
      "New Hampshire 1980\n",
      "New Hampshire 1795\n",
      "New Hampshire 1527\n",
      "New Hampshire 1334\n",
      "New Hampshire 1219\n",
      "New Hampshire 5137\n",
      "New Hampshire 6860\n",
      "New Hampshire 7124\n",
      "New Hampshire 7431\n",
      "New Hampshire 7507\n",
      "New Hampshire 7821\n",
      "New Hampshire 8084\n",
      "New Hampshire 8228\n",
      "New Hampshire 8543\n",
      "New Hampshire 8928\n",
      "New Hampshire 9294\n",
      "New Hampshire 9369\n",
      "New Hampshire 9312\n",
      "New Hampshire 9263\n",
      "New Hampshire 8973\n",
      "New Hampshire 9067\n",
      "New Hampshire 8668\n",
      "New Hampshire 8356\n",
      "New Hampshire 8423\n",
      "New Hampshire 8503\n",
      "New Hampshire 8834\n",
      "New Hampshire 8217\n",
      "New Hampshire 7722\n",
      "New Hampshire 6769\n",
      "New Hampshire 6021\n",
      "New Hampshire 5971\n",
      "New Hampshire 6450\n",
      "New Hampshire 6365\n",
      "New Hampshire 6985\n",
      "New Hampshire 7575\n",
      "New Hampshire 8323\n",
      "New Hampshire 8682\n",
      "New Hampshire 8677\n",
      "New Hampshire 8618\n",
      "New Hampshire 9157\n",
      "New Hampshire 9632\n",
      "New Hampshire 10474\n",
      "New Hampshire 11036\n",
      "New Hampshire 11190\n",
      "New Hampshire 11171\n",
      "New Hampshire 11698\n",
      "New Hampshire 11597\n",
      "New Hampshire 11419\n",
      "New Hampshire 11312\n",
      "New Hampshire 11231\n",
      "New Hampshire 10496\n",
      "New Hampshire 10592\n",
      "New Hampshire 10303\n",
      "New Hampshire 10000\n",
      "New Hampshire 9608\n",
      "New Hampshire 9112\n",
      "New Hampshire 9068\n",
      "New Hampshire 9058\n",
      "New Hampshire 9151\n",
      "New Hampshire 9553\n",
      "New Hampshire 6655\n",
      "New Hampshire 6640\n",
      "New Hampshire 6584\n",
      "New Hampshire 6981\n",
      "New Hampshire 6021\n",
      "New Hampshire 5319\n",
      "New Hampshire 5252\n",
      "New Hampshire 4876\n",
      "New Hampshire 4777\n",
      "New Hampshire 4576\n",
      "New Hampshire 4652\n",
      "New Hampshire 4556\n",
      "New Hampshire 4134\n",
      "New Hampshire 4240\n",
      "New Hampshire 4232\n",
      "New Hampshire 4131\n",
      "New Hampshire 4338\n",
      "New Hampshire 4005\n",
      "New Hampshire 4097\n",
      "New Hampshire 4145\n",
      "New Hampshire 3878\n",
      "New Hampshire 3957\n",
      "New Hampshire 3558\n",
      "New Hampshire 3549\n",
      "New Hampshire 3433\n",
      "New Hampshire 3400\n",
      "New Hampshire 3088\n",
      "New Hampshire 2801\n",
      "New Hampshire 2663\n",
      "New Hampshire 2379\n",
      "New Hampshire 2237\n",
      "New Hampshire 13312\n",
      "New Mexico 13560\n",
      "New Mexico 13293\n",
      "New Mexico 13001\n",
      "New Mexico 12904\n",
      "New Mexico 13332\n",
      "New Mexico 13642\n",
      "New Mexico 13910\n",
      "New Mexico 14408\n",
      "New Mexico 14551\n",
      "New Mexico 14866\n",
      "New Mexico 15259\n",
      "New Mexico 14874\n",
      "New Mexico 14927\n",
      "New Mexico 15239\n",
      "New Mexico 15089\n",
      "New Mexico 15310\n",
      "New Mexico 15222\n",
      "New Mexico 15232\n",
      "New Mexico 14493\n",
      "New Mexico 13774\n",
      "New Mexico 13160\n",
      "New Mexico 12122\n",
      "New Mexico 11588\n",
      "New Mexico 11512\n",
      "New Mexico 10832\n",
      "New Mexico 10935\n",
      "New Mexico 10919\n",
      "New Mexico 10875\n",
      "New Mexico 11239\n",
      "New Mexico 11713\n",
      "New Mexico 12146\n",
      "New Mexico 11498\n",
      "New Mexico 11102\n",
      "New Mexico 11194\n",
      "New Mexico 11586\n",
      "New Mexico 12861\n",
      "New Mexico 13156\n",
      "New Mexico 13594\n",
      "New Mexico 13760\n",
      "New Mexico 13842\n",
      "New Mexico 14187\n",
      "New Mexico 13760\n",
      "New Mexico 13725\n",
      "New Mexico 13844\n",
      "New Mexico 13183\n",
      "New Mexico 13446\n",
      "New Mexico 12976\n",
      "New Mexico 12673\n",
      "New Mexico 12224\n",
      "New Mexico 12342\n",
      "New Mexico 12443\n",
      "New Mexico 11814\n",
      "New Mexico 11420\n",
      "New Mexico 11886\n",
      "New Mexico 8960\n",
      "New Mexico 9087\n",
      "New Mexico 8689\n",
      "New Mexico 8960\n",
      "New Mexico 7859\n",
      "New Mexico 7497\n",
      "New Mexico 7384\n",
      "New Mexico 7020\n",
      "New Mexico 6897\n",
      "New Mexico 6594\n",
      "New Mexico 6424\n",
      "New Mexico 6533\n",
      "New Mexico 6072\n",
      "New Mexico 5962\n",
      "New Mexico 5935\n",
      "New Mexico 5648\n",
      "New Mexico 5788\n",
      "New Mexico 5199\n",
      "New Mexico 4988\n",
      "New Mexico 4745\n",
      "New Mexico 4477\n",
      "New Mexico 4299\n",
      "New Mexico 4142\n",
      "New Mexico 3787\n",
      "New Mexico 3622\n",
      "New Mexico 3310\n",
      "New Mexico 2985\n",
      "New Mexico 2460\n",
      "New Mexico 2271\n",
      "New Mexico 1990\n",
      "New Mexico 1788\n",
      "New Mexico 7749\n",
      "New Mexico 13171\n",
      "New Mexico 12869\n",
      "New Mexico 12623\n",
      "New Mexico 12671\n",
      "New Mexico 13016\n",
      "New Mexico 13130\n",
      "New Mexico 13466\n",
      "New Mexico 13759\n",
      "New Mexico 14102\n",
      "New Mexico 14538\n",
      "New Mexico 14699\n",
      "New Mexico 14425\n",
      "New Mexico 14233\n",
      "New Mexico 14410\n",
      "New Mexico 14445\n",
      "New Mexico 14602\n",
      "New Mexico 14325\n",
      "New Mexico 14426\n",
      "New Mexico 14001\n",
      "New Mexico 13382\n",
      "New Mexico 13136\n",
      "New Mexico 12074\n",
      "New Mexico 11672\n",
      "New Mexico 11355\n",
      "New Mexico 11186\n",
      "New Mexico 11179\n",
      "New Mexico 10982\n",
      "New Mexico 11166\n",
      "New Mexico 11677\n",
      "New Mexico 12066\n",
      "New Mexico 12322\n",
      "New Mexico 11723\n",
      "New Mexico 11448\n",
      "New Mexico 11619\n",
      "New Mexico 12163\n",
      "New Mexico 13475\n",
      "New Mexico 13636\n",
      "New Mexico 14283\n",
      "New Mexico 14312\n",
      "New Mexico 14744\n",
      "New Mexico 14956\n",
      "New Mexico 14320\n",
      "New Mexico 14450\n",
      "New Mexico 14488\n",
      "New Mexico 13943\n",
      "New Mexico 14157\n",
      "New Mexico 13692\n",
      "New Mexico 13575\n",
      "New Mexico 13297\n",
      "New Mexico 12740\n",
      "New Mexico 12677\n",
      "New Mexico 12302\n",
      "New Mexico 12032\n",
      "New Mexico 12565\n",
      "New Mexico 9425\n",
      "New Mexico 9651\n",
      "New Mexico 9450\n",
      "New Mexico 9428\n",
      "New Mexico 8747\n",
      "New Mexico 8054\n",
      "New Mexico 8007\n",
      "New Mexico 7732\n",
      "New Mexico 7532\n",
      "New Mexico 7263\n",
      "New Mexico 6875\n",
      "New Mexico 7143\n",
      "New Mexico 6471\n",
      "New Mexico 6489\n",
      "New Mexico 6686\n",
      "New Mexico 6332\n",
      "New Mexico 6330\n",
      "New Mexico 5877\n",
      "New Mexico 5974\n",
      "New Mexico 5739\n",
      "New Mexico 5549\n",
      "New Mexico 5568\n",
      "New Mexico 5243\n",
      "New Mexico 4758\n",
      "New Mexico 4849\n",
      "New Mexico 4407\n",
      "New Mexico 3942\n",
      "New Mexico 3421\n",
      "New Mexico 3247\n",
      "New Mexico 2946\n",
      "New Mexico 2732\n",
      "New Mexico 15879\n"
     ]
    }
   ],
   "source": [
    "stmt = select([census])\n",
    "stmt = stmt.where(census.columns.state.startswith('New'))\n",
    "for result in connection.execute(stmt):\n",
    "    print(result.state, result.pop2000)"
   ]
  },
  {
   "cell_type": "code",
   "execution_count": 37,
   "id": "6428e1e6",
   "metadata": {},
   "outputs": [
    {
     "name": "stdout",
     "output_type": "stream",
     "text": [
      "New York M\n",
      "New York M\n",
      "New York M\n",
      "New York M\n",
      "New York M\n",
      "New York M\n",
      "New York M\n",
      "New York M\n",
      "New York M\n",
      "New York M\n",
      "New York M\n",
      "New York M\n",
      "New York M\n",
      "New York M\n",
      "New York M\n",
      "New York M\n",
      "New York M\n",
      "New York M\n",
      "New York M\n",
      "New York M\n",
      "New York M\n",
      "New York M\n",
      "New York M\n",
      "New York M\n",
      "New York M\n",
      "New York M\n",
      "New York M\n",
      "New York M\n",
      "New York M\n",
      "New York M\n",
      "New York M\n",
      "New York M\n",
      "New York M\n",
      "New York M\n",
      "New York M\n",
      "New York M\n",
      "New York M\n",
      "New York M\n",
      "New York M\n",
      "New York M\n",
      "New York M\n",
      "New York M\n",
      "New York M\n",
      "New York M\n",
      "New York M\n",
      "New York M\n",
      "New York M\n",
      "New York M\n",
      "New York M\n",
      "New York M\n",
      "New York M\n",
      "New York M\n",
      "New York M\n",
      "New York M\n",
      "New York M\n",
      "New York M\n",
      "New York M\n",
      "New York M\n",
      "New York M\n",
      "New York M\n",
      "New York M\n",
      "New York M\n",
      "New York M\n",
      "New York M\n",
      "New York M\n",
      "New York M\n",
      "New York M\n",
      "New York M\n",
      "New York M\n",
      "New York M\n",
      "New York M\n",
      "New York M\n",
      "New York M\n",
      "New York M\n",
      "New York M\n",
      "New York M\n",
      "New York M\n",
      "New York M\n",
      "New York M\n",
      "New York M\n",
      "New York M\n",
      "New York M\n",
      "California M\n",
      "California M\n",
      "California M\n",
      "California M\n",
      "California M\n",
      "California M\n",
      "California M\n",
      "California M\n",
      "California M\n",
      "California M\n",
      "California M\n",
      "California M\n",
      "California M\n",
      "California M\n",
      "California M\n",
      "California M\n",
      "California M\n",
      "California M\n",
      "California M\n",
      "California M\n",
      "California M\n",
      "California M\n",
      "California M\n",
      "California M\n",
      "California M\n",
      "California M\n",
      "California M\n",
      "California M\n",
      "California M\n",
      "California M\n",
      "California M\n",
      "California M\n",
      "California M\n",
      "California M\n",
      "California M\n",
      "California M\n",
      "California M\n",
      "California M\n",
      "California M\n",
      "California M\n",
      "California M\n",
      "California M\n",
      "California M\n",
      "California M\n",
      "California M\n",
      "California M\n",
      "California M\n",
      "California M\n",
      "California M\n",
      "California M\n",
      "California M\n",
      "California M\n",
      "California M\n",
      "California M\n",
      "California M\n",
      "California M\n",
      "California M\n",
      "California M\n",
      "California M\n",
      "California M\n",
      "California M\n",
      "California M\n",
      "California M\n",
      "California M\n",
      "California M\n",
      "California M\n",
      "California M\n",
      "California M\n",
      "California M\n",
      "California M\n",
      "California M\n",
      "California M\n",
      "California M\n",
      "California M\n",
      "California M\n",
      "California M\n",
      "California M\n",
      "California M\n",
      "California M\n",
      "California M\n",
      "California M\n",
      "California M\n",
      "California M\n",
      "California M\n",
      "California M\n",
      "California M\n",
      "California F\n",
      "California F\n",
      "California F\n",
      "California F\n",
      "California F\n",
      "California F\n",
      "California F\n",
      "California F\n",
      "California F\n",
      "California F\n",
      "California F\n",
      "California F\n",
      "California F\n",
      "California F\n",
      "California F\n",
      "California F\n",
      "California F\n",
      "California F\n",
      "California F\n",
      "California F\n",
      "California F\n",
      "California F\n",
      "California F\n",
      "California F\n",
      "California F\n",
      "California F\n",
      "California F\n",
      "California F\n",
      "California F\n",
      "California F\n",
      "California F\n",
      "California F\n",
      "California F\n",
      "California F\n",
      "California F\n",
      "California F\n",
      "California F\n",
      "California F\n",
      "California F\n",
      "California F\n",
      "California F\n",
      "California F\n",
      "California F\n",
      "California F\n",
      "California F\n",
      "California F\n",
      "California F\n",
      "California F\n",
      "California F\n",
      "California F\n",
      "California F\n",
      "California F\n",
      "California F\n",
      "California F\n",
      "California F\n",
      "California F\n",
      "California F\n",
      "California F\n",
      "California F\n",
      "California F\n",
      "California F\n",
      "California F\n",
      "California F\n",
      "California F\n",
      "California F\n",
      "California F\n",
      "California F\n",
      "California F\n",
      "California F\n",
      "California F\n",
      "California F\n",
      "California F\n",
      "California F\n",
      "California F\n",
      "California F\n",
      "California F\n",
      "California F\n",
      "California F\n",
      "California F\n",
      "California F\n",
      "California F\n",
      "California F\n",
      "California F\n",
      "California F\n",
      "California F\n",
      "California F\n",
      "New York M\n",
      "New York M\n",
      "New York M\n",
      "New York M\n",
      "New York F\n",
      "New York F\n",
      "New York F\n",
      "New York F\n",
      "New York F\n",
      "New York F\n",
      "New York F\n",
      "New York F\n",
      "New York F\n",
      "New York F\n",
      "New York F\n",
      "New York F\n",
      "New York F\n",
      "New York F\n",
      "New York F\n",
      "New York F\n",
      "New York F\n",
      "New York F\n",
      "New York F\n",
      "New York F\n",
      "New York F\n",
      "New York F\n",
      "New York F\n",
      "New York F\n",
      "New York F\n",
      "New York F\n",
      "New York F\n",
      "New York F\n",
      "New York F\n",
      "New York F\n",
      "New York F\n",
      "New York F\n",
      "New York F\n",
      "New York F\n",
      "New York F\n",
      "New York F\n",
      "New York F\n",
      "New York F\n",
      "New York F\n",
      "New York F\n",
      "New York F\n",
      "New York F\n",
      "New York F\n",
      "New York F\n",
      "New York F\n",
      "New York F\n",
      "New York F\n",
      "New York F\n",
      "New York F\n",
      "New York F\n",
      "New York F\n",
      "New York F\n",
      "New York F\n",
      "New York F\n",
      "New York F\n",
      "New York F\n",
      "New York F\n",
      "New York F\n",
      "New York F\n",
      "New York F\n",
      "New York F\n",
      "New York F\n",
      "New York F\n",
      "New York F\n",
      "New York F\n",
      "New York F\n",
      "New York F\n",
      "New York F\n",
      "New York F\n",
      "New York F\n",
      "New York F\n",
      "New York F\n",
      "New York F\n",
      "New York F\n",
      "New York F\n",
      "New York F\n",
      "New York F\n",
      "New York F\n",
      "New York F\n",
      "New York F\n",
      "New York F\n",
      "New York F\n",
      "New York F\n",
      "New York F\n",
      "New York F\n",
      "New York F\n"
     ]
    }
   ],
   "source": [
    "from sqlalchemy import or_\n",
    "stmt = select([census])\n",
    "stmt = stmt.where(\n",
    "or_(census.columns.state == 'California',\n",
    "   census.columns.state == 'New York'\n",
    "   )\n",
    ")\n",
    "\n",
    "for result in connection.execute(stmt):\n",
    "    print(result.state, result.sex)"
   ]
  },
  {
   "cell_type": "code",
   "execution_count": 38,
   "id": "ee8e63a5",
   "metadata": {},
   "outputs": [
    {
     "name": "stdout",
     "output_type": "stream",
     "text": [
      "New York 126237\n",
      "New York 124008\n",
      "New York 124725\n",
      "New York 126697\n",
      "New York 131357\n",
      "New York 133095\n",
      "New York 134203\n",
      "New York 137986\n",
      "New York 139455\n",
      "New York 142454\n",
      "New York 145621\n",
      "New York 138746\n",
      "New York 135565\n",
      "New York 132288\n",
      "New York 132388\n",
      "New York 131959\n",
      "New York 130189\n",
      "New York 132566\n",
      "New York 132672\n",
      "New York 133654\n",
      "New York 132121\n",
      "New York 126166\n",
      "New York 123215\n",
      "New York 121282\n",
      "New York 118953\n",
      "New York 123151\n",
      "New York 118727\n",
      "New York 122359\n",
      "New York 128651\n",
      "New York 140687\n",
      "New York 149558\n",
      "New York 139477\n",
      "New York 138911\n",
      "New York 139031\n",
      "New York 145440\n",
      "New York 156168\n",
      "New York 153840\n",
      "New York 152078\n",
      "New York 150765\n",
      "New York 152606\n",
      "New York 159345\n",
      "New York 148628\n",
      "New York 147892\n",
      "New York 144195\n",
      "New York 139354\n",
      "New York 141953\n",
      "New York 131875\n",
      "New York 128767\n",
      "New York 125406\n",
      "New York 124155\n",
      "New York 125955\n",
      "New York 118542\n",
      "New York 118532\n",
      "New York 124418\n",
      "New York 95025\n",
      "New York 92652\n",
      "New York 90096\n",
      "New York 95340\n",
      "New York 83273\n",
      "New York 77213\n",
      "New York 77054\n",
      "New York 72212\n",
      "New York 70967\n",
      "New York 66461\n",
      "New York 64361\n",
      "New York 64385\n",
      "New York 58819\n",
      "New York 58176\n",
      "New York 57310\n",
      "New York 57057\n",
      "New York 57761\n",
      "New York 53775\n",
      "New York 53568\n",
      "New York 51263\n",
      "New York 48440\n",
      "New York 46702\n",
      "New York 43508\n",
      "New York 40730\n",
      "New York 37950\n",
      "New York 35774\n",
      "New York 32453\n",
      "New York 26803\n",
      "California 252494\n",
      "California 247978\n",
      "California 250644\n",
      "California 257443\n",
      "California 266855\n",
      "California 272801\n",
      "California 274899\n",
      "California 277580\n",
      "California 283553\n",
      "California 285478\n",
      "California 284518\n",
      "California 269009\n",
      "California 262671\n",
      "California 254889\n",
      "California 253023\n",
      "California 251962\n",
      "California 249220\n",
      "California 255482\n",
      "California 252607\n",
      "California 248356\n",
      "California 250156\n",
      "California 238235\n",
      "California 235718\n",
      "California 239698\n",
      "California 240655\n",
      "California 250964\n",
      "California 245324\n",
      "California 251413\n",
      "California 260869\n",
      "California 276142\n",
      "California 293816\n",
      "California 273159\n",
      "California 268484\n",
      "California 263472\n",
      "California 269607\n",
      "California 286895\n",
      "California 284414\n",
      "California 280861\n",
      "California 281214\n",
      "California 278802\n",
      "California 290332\n",
      "California 267684\n",
      "California 268045\n",
      "California 261885\n",
      "California 252175\n",
      "California 255340\n",
      "California 239126\n",
      "California 229057\n",
      "California 219293\n",
      "California 214700\n",
      "California 219017\n",
      "California 203068\n",
      "California 200466\n",
      "California 207237\n",
      "California 160674\n",
      "California 158483\n",
      "California 150235\n",
      "California 150046\n",
      "California 133017\n",
      "California 124106\n",
      "California 121984\n",
      "California 114331\n",
      "California 110491\n",
      "California 102859\n",
      "California 99345\n",
      "California 100052\n",
      "California 91053\n",
      "California 89634\n",
      "California 88258\n",
      "California 87840\n",
      "California 88575\n",
      "California 80843\n",
      "California 79376\n",
      "California 76365\n",
      "California 73697\n",
      "California 72885\n",
      "California 69738\n",
      "California 65865\n",
      "California 62867\n",
      "California 58012\n",
      "California 51806\n",
      "California 43254\n",
      "California 40083\n",
      "California 34144\n",
      "California 30384\n",
      "California 136442\n",
      "California 239605\n",
      "California 236543\n",
      "California 240010\n",
      "California 245739\n",
      "California 254522\n",
      "California 260264\n",
      "California 261296\n",
      "California 264083\n",
      "California 270447\n",
      "California 271482\n",
      "California 270567\n",
      "California 256656\n",
      "California 249887\n",
      "California 242724\n",
      "California 240752\n",
      "California 240170\n",
      "California 233186\n",
      "California 235767\n",
      "California 234949\n",
      "California 233477\n",
      "California 233532\n",
      "California 223990\n",
      "California 222035\n",
      "California 227742\n",
      "California 228401\n",
      "California 238602\n",
      "California 233133\n",
      "California 240008\n",
      "California 249185\n",
      "California 266010\n",
      "California 278894\n",
      "California 260916\n",
      "California 256168\n",
      "California 252784\n",
      "California 256283\n",
      "California 276234\n",
      "California 277592\n",
      "California 276277\n",
      "California 275129\n",
      "California 276094\n",
      "California 283554\n",
      "California 265614\n",
      "California 265895\n",
      "California 263355\n",
      "California 255016\n",
      "California 256779\n",
      "California 244172\n",
      "California 236211\n",
      "California 226391\n",
      "California 221928\n",
      "California 225414\n",
      "California 212545\n",
      "California 208500\n",
      "California 215228\n",
      "California 168388\n",
      "California 166675\n",
      "California 158368\n",
      "California 160423\n",
      "California 142287\n",
      "California 133235\n",
      "California 132033\n",
      "California 123328\n",
      "California 120982\n",
      "California 114959\n",
      "California 111942\n",
      "California 113547\n",
      "California 104910\n",
      "California 103883\n",
      "California 102061\n",
      "California 103181\n",
      "California 106514\n",
      "California 99453\n",
      "California 100574\n",
      "California 99772\n",
      "California 99390\n",
      "California 99277\n",
      "California 95046\n",
      "California 90193\n",
      "California 86911\n",
      "California 81990\n",
      "California 75849\n",
      "California 65410\n",
      "California 61518\n",
      "California 54748\n",
      "California 50746\n",
      "California 294583\n",
      "New York 25041\n",
      "New York 21687\n",
      "New York 18873\n",
      "New York 88366\n",
      "New York 120355\n",
      "New York 118219\n",
      "New York 119577\n",
      "New York 121029\n",
      "New York 125247\n",
      "New York 128227\n",
      "New York 128428\n",
      "New York 131161\n",
      "New York 133646\n",
      "New York 135746\n",
      "New York 138287\n",
      "New York 131904\n",
      "New York 129028\n",
      "New York 126571\n",
      "New York 125682\n",
      "New York 125409\n",
      "New York 122770\n",
      "New York 123978\n",
      "New York 125307\n",
      "New York 127956\n",
      "New York 129184\n",
      "New York 124575\n",
      "New York 123701\n",
      "New York 124108\n",
      "New York 122624\n",
      "New York 127474\n",
      "New York 123033\n",
      "New York 128125\n",
      "New York 134795\n",
      "New York 146832\n",
      "New York 152973\n",
      "New York 144001\n",
      "New York 143930\n",
      "New York 144653\n",
      "New York 151147\n",
      "New York 159228\n",
      "New York 159999\n",
      "New York 157911\n",
      "New York 156103\n",
      "New York 159284\n",
      "New York 163331\n",
      "New York 155353\n",
      "New York 153688\n",
      "New York 151615\n",
      "New York 146774\n",
      "New York 148318\n",
      "New York 139802\n",
      "New York 138062\n",
      "New York 134107\n",
      "New York 134399\n",
      "New York 136630\n",
      "New York 130843\n",
      "New York 130196\n",
      "New York 136064\n",
      "New York 106579\n",
      "New York 104847\n",
      "New York 101857\n",
      "New York 108406\n",
      "New York 94346\n",
      "New York 88584\n",
      "New York 88932\n",
      "New York 82899\n",
      "New York 82172\n",
      "New York 77171\n",
      "New York 76032\n",
      "New York 76498\n",
      "New York 70465\n",
      "New York 71088\n",
      "New York 70847\n",
      "New York 71377\n",
      "New York 74378\n",
      "New York 70611\n",
      "New York 70513\n",
      "New York 69156\n",
      "New York 68042\n",
      "New York 68410\n",
      "New York 64971\n",
      "New York 61287\n",
      "New York 58911\n",
      "New York 56865\n",
      "New York 54553\n",
      "New York 46381\n",
      "New York 45599\n",
      "New York 40525\n",
      "New York 37436\n",
      "New York 226378\n",
      "Texas 172223\n",
      "Texas 165635\n",
      "Texas 165337\n",
      "Texas 164292\n",
      "Texas 165785\n",
      "Texas 166278\n",
      "Texas 167170\n",
      "Texas 169210\n",
      "Texas 171199\n",
      "Texas 170521\n",
      "Texas 173734\n",
      "Texas 167859\n",
      "Texas 166474\n",
      "Texas 166014\n",
      "Texas 166081\n",
      "Texas 167257\n",
      "Texas 165881\n",
      "Texas 171567\n",
      "Texas 170011\n",
      "Texas 164671\n",
      "Texas 163295\n",
      "Texas 153946\n",
      "Texas 150839\n",
      "Texas 152673\n",
      "Texas 153769\n",
      "Texas 156739\n",
      "Texas 153181\n",
      "Texas 155480\n",
      "Texas 161048\n",
      "Texas 165852\n",
      "Texas 167982\n",
      "Texas 158505\n",
      "Texas 153855\n",
      "Texas 151149\n",
      "Texas 155095\n",
      "Texas 164514\n",
      "Texas 167136\n",
      "Texas 168668\n",
      "Texas 167261\n",
      "Texas 169195\n",
      "Texas 173212\n",
      "Texas 164647\n",
      "Texas 163690\n",
      "Texas 161774\n",
      "Texas 154542\n",
      "Texas 154603\n",
      "Texas 145891\n",
      "Texas 141254\n",
      "Texas 133710\n",
      "Texas 129998\n",
      "Texas 128278\n",
      "Texas 123298\n",
      "Texas 120815\n",
      "Texas 126031\n",
      "Texas 95701\n",
      "Texas 95537\n",
      "Texas 93337\n",
      "Texas 91482\n",
      "Texas 82603\n",
      "Texas 76614\n",
      "Texas 73441\n",
      "Texas 69422\n",
      "Texas 67820\n",
      "Texas 63502\n",
      "Texas 62593\n",
      "Texas 62994\n",
      "Texas 57324\n",
      "Texas 55581\n",
      "Texas 54657\n",
      "Texas 53235\n",
      "Texas 52902\n",
      "Texas 49046\n",
      "Texas 46608\n",
      "Texas 44784\n",
      "Texas 42390\n",
      "Texas 40487\n",
      "Texas 37785\n",
      "Texas 35332\n",
      "Texas 33199\n",
      "Texas 29635\n",
      "Texas 27357\n",
      "Texas 21864\n",
      "Texas 20249\n",
      "Texas 16946\n",
      "Texas 15033\n",
      "Texas 69392\n",
      "Texas 164724\n",
      "Texas 158669\n",
      "Texas 157386\n",
      "Texas 157374\n",
      "Texas 158236\n",
      "Texas 158722\n",
      "Texas 160506\n",
      "Texas 162126\n",
      "Texas 163788\n",
      "Texas 163500\n",
      "Texas 165717\n",
      "Texas 160176\n",
      "Texas 159167\n",
      "Texas 158693\n",
      "Texas 158580\n",
      "Texas 159654\n",
      "Texas 155841\n",
      "Texas 158372\n",
      "Texas 156767\n",
      "Texas 156778\n",
      "Texas 156625\n",
      "Texas 147729\n",
      "Texas 144433\n",
      "Texas 147865\n",
      "Texas 146961\n",
      "Texas 151098\n",
      "Texas 148823\n",
      "Texas 151810\n",
      "Texas 158452\n",
      "Texas 165252\n",
      "Texas 164600\n",
      "Texas 155658\n",
      "Texas 150518\n",
      "Texas 148996\n",
      "Texas 152593\n",
      "Texas 163350\n",
      "Texas 167597\n",
      "Texas 168463\n",
      "Texas 168421\n",
      "Texas 169355\n",
      "Texas 171412\n",
      "Texas 164244\n",
      "Texas 163809\n",
      "Texas 162822\n",
      "Texas 155226\n",
      "Texas 155427\n",
      "Texas 149105\n",
      "Texas 144081\n",
      "Texas 136873\n",
      "Texas 133610\n",
      "Texas 133121\n",
      "Texas 127211\n",
      "Texas 125058\n",
      "Texas 129694\n",
      "Texas 99379\n",
      "Texas 100403\n",
      "Texas 97778\n",
      "Texas 95755\n",
      "Texas 87189\n",
      "Texas 82764\n",
      "Texas 79048\n",
      "Texas 75160\n",
      "Texas 74358\n",
      "Texas 70332\n",
      "Texas 70089\n",
      "Texas 71266\n",
      "Texas 65074\n",
      "Texas 64383\n",
      "Texas 63639\n",
      "Texas 62713\n",
      "Texas 64996\n",
      "Texas 59894\n",
      "Texas 58527\n",
      "Texas 57708\n",
      "Texas 56446\n",
      "Texas 55989\n",
      "Texas 52656\n",
      "Texas 48993\n",
      "Texas 47681\n",
      "Texas 44609\n",
      "Texas 42132\n",
      "Texas 35378\n",
      "Texas 33852\n",
      "Texas 30076\n",
      "Texas 27961\n",
      "Texas 171538\n"
     ]
    }
   ],
   "source": [
    "# Define a list of states for which we want results\n",
    "states = ['New York', 'California', 'Texas']\n",
    "\n",
    "# Create a query for the census table: stmt\n",
    "stmt = select([census])\n",
    "\n",
    "# Append a where clause to match all the states in_ the list states\n",
    "stmt = stmt.where(census.columns.state.in_(states))\n",
    "\n",
    "# Loop over the ResultProxy and print the state and its population in 2000\n",
    "for result in connection.execute(stmt):\n",
    "    print(result.state, result.pop2000)"
   ]
  },
  {
   "cell_type": "code",
   "execution_count": 39,
   "id": "86d3f4cc",
   "metadata": {},
   "outputs": [
    {
     "name": "stdout",
     "output_type": "stream",
     "text": [
      "0 F\n",
      "1 F\n",
      "2 F\n",
      "3 F\n",
      "4 F\n",
      "5 F\n",
      "6 F\n",
      "7 F\n",
      "8 F\n",
      "9 F\n",
      "10 F\n",
      "11 F\n",
      "12 F\n",
      "13 F\n",
      "14 F\n",
      "15 F\n",
      "16 F\n",
      "17 F\n",
      "18 F\n",
      "19 F\n",
      "20 F\n",
      "21 F\n",
      "22 F\n",
      "23 F\n",
      "24 F\n",
      "25 F\n",
      "26 F\n",
      "27 F\n",
      "28 F\n",
      "29 F\n",
      "30 F\n",
      "31 F\n",
      "32 F\n",
      "33 F\n",
      "34 F\n",
      "35 F\n",
      "36 F\n",
      "37 F\n",
      "38 F\n",
      "39 F\n",
      "40 F\n",
      "41 F\n",
      "42 F\n",
      "43 F\n",
      "44 F\n",
      "45 F\n",
      "46 F\n",
      "47 F\n",
      "48 F\n",
      "49 F\n",
      "50 F\n",
      "51 F\n",
      "52 F\n",
      "53 F\n",
      "54 F\n",
      "55 F\n",
      "56 F\n",
      "57 F\n",
      "58 F\n",
      "59 F\n",
      "60 F\n",
      "61 F\n",
      "62 F\n",
      "63 F\n",
      "64 F\n",
      "65 F\n",
      "66 F\n",
      "67 F\n",
      "68 F\n",
      "69 F\n",
      "70 F\n",
      "71 F\n",
      "72 F\n",
      "73 F\n",
      "74 F\n",
      "75 F\n",
      "76 F\n",
      "77 F\n",
      "78 F\n",
      "79 F\n",
      "80 F\n",
      "81 F\n",
      "82 F\n",
      "83 F\n",
      "84 F\n",
      "85 F\n"
     ]
    }
   ],
   "source": [
    "# Import and_\n",
    "from sqlalchemy import and_\n",
    "\n",
    "# Build a query for the census table: stmt\n",
    "stmt = select([census])\n",
    "\n",
    "# Append a where clause to select only non-male records from California using and_\n",
    "stmt = stmt.where(\n",
    "    # The state of California with a non-male sex\n",
    "    and_(census.columns.state == 'California',\n",
    "         census.columns.sex != 'M'\n",
    "         )\n",
    ")\n",
    "\n",
    "# Loop over the ResultProxy printing the age and sex\n",
    "for result in connection.execute(stmt):\n",
    "    print(result.age, result.sex)"
   ]
  },
  {
   "cell_type": "code",
   "execution_count": 64,
   "id": "f64a9e90",
   "metadata": {},
   "outputs": [
    {
     "name": "stdout",
     "output_type": "stream",
     "text": [
      "['census', 'state_fact']\n"
     ]
    },
    {
     "data": {
      "text/plain": [
       "Table('census', MetaData(bind=None), Column('state', VARCHAR(length=30), table=<census>), Column('sex', VARCHAR(length=1), table=<census>), Column('age', INTEGER(), table=<census>), Column('pop2000', INTEGER(), table=<census>), Column('pop2008', INTEGER(), table=<census>), schema=None)"
      ]
     },
     "execution_count": 64,
     "metadata": {},
     "output_type": "execute_result"
    }
   ],
   "source": [
    "from sqlalchemy import create_engine, Table, MetaData\n",
    "\n",
    "engine = create_engine('sqlite:///C:\\QXJ\\Python\\Datacamp\\pandas\\census.sqlite')\n",
    "connection = engine.connect()\n",
    "print(engine.table_names())\n",
    "\n",
    "metadata = MetaData()\n",
    "census = Table('census', metadata,\n",
    "              autoload = True,\n",
    "              autoload_with = engine)\n",
    "census"
   ]
  },
  {
   "cell_type": "code",
   "execution_count": 65,
   "id": "bfb801ba",
   "metadata": {},
   "outputs": [
    {
     "name": "stdout",
     "output_type": "stream",
     "text": [
      "['state', 'sex', 'age', 'pop2000', 'pop2008']\n"
     ]
    }
   ],
   "source": [
    "print(census.columns.keys())"
   ]
  },
  {
   "cell_type": "code",
   "execution_count": 73,
   "id": "79150bf4",
   "metadata": {},
   "outputs": [],
   "source": [
    "from sqlalchemy import select\n",
    "\n",
    "stmt = select([census])\n",
    "results = connection.execute(stmt).fetchall()"
   ]
  },
  {
   "cell_type": "code",
   "execution_count": 74,
   "id": "b728ac36",
   "metadata": {},
   "outputs": [
    {
     "name": "stdout",
     "output_type": "stream",
     "text": [
      "[('Illinois', 'M', 0, 89600, 95012), ('Illinois', 'M', 1, 88445, 91829), ('Illinois', 'M', 2, 88729, 89547), ('Illinois', 'M', 3, 88868, 90037), ('Illinois', 'M', 4, 91947, 91111), ('Illinois', 'M', 5, 93894, 89802), ('Illinois', 'M', 6, 93676, 88931), ('Illinois', 'M', 7, 94818, 90940), ('Illinois', 'M', 8, 95035, 86943), ('Illinois', 'M', 9, 96436, 86055)]\n"
     ]
    }
   ],
   "source": [
    "print(results[:10])"
   ]
  },
  {
   "cell_type": "markdown",
   "id": "4df6fa3a",
   "metadata": {},
   "source": [
    "**order_by**"
   ]
  },
  {
   "cell_type": "code",
   "execution_count": 75,
   "id": "914ffcd0",
   "metadata": {},
   "outputs": [
    {
     "name": "stdout",
     "output_type": "stream",
     "text": [
      "[('Alabama',), ('Alabama',), ('Alabama',), ('Alabama',), ('Alabama',), ('Alabama',), ('Alabama',), ('Alabama',), ('Alabama',), ('Alabama',)]\n"
     ]
    }
   ],
   "source": [
    "stmt = select([census.columns.state])\n",
    "stmt = stmt.order_by(census.columns.state)\n",
    "results = connection.execute(stmt).fetchall()\n",
    "print(results[:10])"
   ]
  },
  {
   "cell_type": "code",
   "execution_count": 76,
   "id": "a1886eb2",
   "metadata": {},
   "outputs": [
    {
     "name": "stdout",
     "output_type": "stream",
     "text": [
      "('Alabama',)\n"
     ]
    }
   ],
   "source": [
    "print(results[0])"
   ]
  },
  {
   "cell_type": "code",
   "execution_count": 78,
   "id": "a8d4b88d",
   "metadata": {},
   "outputs": [
    {
     "name": "stdout",
     "output_type": "stream",
     "text": [
      "('Alabama', 'F')\n"
     ]
    }
   ],
   "source": [
    "# order by multiple\n",
    "stmt = select([census.columns.state,\n",
    "              census.columns.sex])\n",
    "stmt = stmt.order_by(census.columns.state,\n",
    "                    census.columns.sex)\n",
    "results = connection.execute(stmt).first()\n",
    "print(results[:10])"
   ]
  },
  {
   "cell_type": "markdown",
   "id": "3d4108ee",
   "metadata": {},
   "source": [
    "**Counting, summing and grouping data**\n",
    "- sqlalchemy generates 'column names' for functions in the ResultSet, such as func_# \n",
    "- -> count_1, replaced by **.label()** method"
   ]
  },
  {
   "cell_type": "markdown",
   "id": "33e01613",
   "metadata": {},
   "source": [
    "**aggregation func**"
   ]
  },
  {
   "cell_type": "code",
   "execution_count": 79,
   "id": "ff771447",
   "metadata": {},
   "outputs": [
    {
     "name": "stdout",
     "output_type": "stream",
     "text": [
      "302876613\n"
     ]
    }
   ],
   "source": [
    "# func.sum\n",
    "from sqlalchemy import func\n",
    "stmt = select([func.sum(census.columns.pop2008)])\n",
    "results = connection.execute(stmt).scalar()\n",
    "print(results)"
   ]
  },
  {
   "cell_type": "markdown",
   "id": "ec616a06",
   "metadata": {},
   "source": [
    "**group_by()**"
   ]
  },
  {
   "cell_type": "code",
   "execution_count": 80,
   "id": "8c05533f",
   "metadata": {},
   "outputs": [
    {
     "name": "stdout",
     "output_type": "stream",
     "text": [
      "[('F', 153959198), ('M', 148917415)]\n"
     ]
    }
   ],
   "source": [
    "# group_by()\n",
    "from sqlalchemy import func\n",
    "stmt = select([census.columns.sex.distinct(),\n",
    "               func.sum(census.columns.pop2008)])\n",
    "stmt = stmt.group_by(census.columns.sex)\n",
    "results = connection.execute(stmt).fetchall()\n",
    "print(results)"
   ]
  },
  {
   "cell_type": "code",
   "execution_count": 193,
   "id": "d17dbfc9",
   "metadata": {},
   "outputs": [
    {
     "name": "stdout",
     "output_type": "stream",
     "text": [
      "[('F', 0, 2105442), ('F', 1, 2087705), ('F', 2, 2037280), ('F', 3, 2012742), ('F', 4, 2014825)]\n"
     ]
    }
   ],
   "source": [
    "# group_by - multi-columns\n",
    "from sqlalchemy import func\n",
    "stmt = select([census.columns.sex,\n",
    "               census.columns.age,\n",
    "               func.sum(census.columns.pop2008)])\n",
    "stmt = stmt.group_by(census.columns.sex,\n",
    "                    census.columns.age)\n",
    "stmt = stmt.limit(5)\n",
    "results = connection.execute(stmt).fetchall()\n",
    "print(results[:10])"
   ]
  },
  {
   "cell_type": "code",
   "execution_count": 82,
   "id": "11fec570",
   "metadata": {},
   "outputs": [
    {
     "name": "stdout",
     "output_type": "stream",
     "text": [
      "['sex', 'age', 'sum_1']\n"
     ]
    }
   ],
   "source": [
    "print(results[0].keys())"
   ]
  },
  {
   "cell_type": "code",
   "execution_count": 83,
   "id": "5954de69",
   "metadata": {},
   "outputs": [
    {
     "name": "stdout",
     "output_type": "stream",
     "text": [
      "['sex', 'pop2008_sum']\n"
     ]
    }
   ],
   "source": [
    "# label the new func column \n",
    "stmt = select([\n",
    "    census.columns.sex,\n",
    "    func.sum(census.columns.pop2008).label('pop2008_sum')\n",
    "])\n",
    "\n",
    "stmt = stmt.group_by(census.columns.sex)\n",
    "results = connection.execute(stmt).fetchall()\n",
    "print(results[0].keys())"
   ]
  },
  {
   "cell_type": "markdown",
   "id": "e60953cb",
   "metadata": {},
   "source": [
    "**SQLAlchemy and pandas for visualization**"
   ]
  },
  {
   "cell_type": "code",
   "execution_count": 85,
   "id": "2f66ce70",
   "metadata": {},
   "outputs": [
    {
     "data": {
      "text/html": [
       "<div>\n",
       "<style scoped>\n",
       "    .dataframe tbody tr th:only-of-type {\n",
       "        vertical-align: middle;\n",
       "    }\n",
       "\n",
       "    .dataframe tbody tr th {\n",
       "        vertical-align: top;\n",
       "    }\n",
       "\n",
       "    .dataframe thead th {\n",
       "        text-align: right;\n",
       "    }\n",
       "</style>\n",
       "<table border=\"1\" class=\"dataframe\">\n",
       "  <thead>\n",
       "    <tr style=\"text-align: right;\">\n",
       "      <th></th>\n",
       "      <th>sex</th>\n",
       "      <th>pop2008_sum</th>\n",
       "    </tr>\n",
       "  </thead>\n",
       "  <tbody>\n",
       "    <tr>\n",
       "      <th>0</th>\n",
       "      <td>F</td>\n",
       "      <td>153959198</td>\n",
       "    </tr>\n",
       "    <tr>\n",
       "      <th>1</th>\n",
       "      <td>M</td>\n",
       "      <td>148917415</td>\n",
       "    </tr>\n",
       "  </tbody>\n",
       "</table>\n",
       "</div>"
      ],
      "text/plain": [
       "  sex  pop2008_sum\n",
       "0   F    153959198\n",
       "1   M    148917415"
      ]
     },
     "execution_count": 85,
     "metadata": {},
     "output_type": "execute_result"
    }
   ],
   "source": [
    "import pandas as pd\n",
    "df = pd.DataFrame(results)\n",
    "df.columns = results[0].keys()\n",
    "df"
   ]
  },
  {
   "cell_type": "code",
   "execution_count": 90,
   "id": "7073fa0f",
   "metadata": {},
   "outputs": [
    {
     "data": {
      "image/png": "[encoded data removed]",
      "text/plain": [
       "<Figure size 432x288 with 1 Axes>"
      ]
     },
     "metadata": {
      "needs_background": "light"
     },
     "output_type": "display_data"
    }
   ],
   "source": [
    "import matplotlib.pyplot as plt\n",
    "df.plot.barh()\n",
    "plt.yticks([0,1],['F','M'])\n",
    "plt.show()"
   ]
  },
  {
   "cell_type": "markdown",
   "id": "7e764b4e",
   "metadata": {},
   "source": [
    "## 3. Advanced SQLAlchemy Queries"
   ]
  },
  {
   "cell_type": "markdown",
   "id": "90086e8c",
   "metadata": {},
   "source": [
    "**Calculating difference**"
   ]
  },
  {
   "cell_type": "code",
   "execution_count": 92,
   "id": "38f404bb",
   "metadata": {},
   "outputs": [
    {
     "name": "stdout",
     "output_type": "stream",
     "text": [
      "[(61, 25201), (54, 23503), (55, 21716), (60, 19677), (58, 19526)]\n"
     ]
    }
   ],
   "source": [
    "from sqlalchemy import desc\n",
    "stmt = select([census.columns.age,\n",
    "              (census.columns.pop2008 - \n",
    "              census.columns.pop2000).label('pop_change')\n",
    "              ])\n",
    "stmt = stmt.group_by(census.columns.age)\n",
    "stmt = stmt.order_by(desc('pop_change'))\n",
    "stmt = stmt.limit(5)\n",
    "results = connection.execute(stmt).fetchall()\n",
    "print(results)"
   ]
  },
  {
   "cell_type": "markdown",
   "id": "91849379",
   "metadata": {},
   "source": [
    "**Case statment**\n",
    "- treat data differently based on a condition\n",
    "- accpets a list of conditoins to match and a column to return if the condition matches\n",
    "- the list of conditions ends with an else clause to determine what todo when a record doesn't match any prior conditions\n",
    "\n",
    "**cast statement**\n",
    "- convert data to another type\n",
    "  - integers to floats for division\n",
    "  - strings to dates and times\n",
    "- accepts a column or expression and the target type"
   ]
  },
  {
   "cell_type": "code",
   "execution_count": 93,
   "id": "a8238bb2",
   "metadata": {},
   "outputs": [
    {
     "name": "stdout",
     "output_type": "stream",
     "text": [
      "[(19465159,)]\n"
     ]
    }
   ],
   "source": [
    "from sqlalchemy import case\n",
    "stmt = select([\n",
    "    func.sum(\n",
    "    case([\n",
    "        (census.columns.state == 'New York',\n",
    "        census.columns.pop2008)\n",
    "    ], else_ = 0))\n",
    "])\n",
    "results = connection.execute(stmt).fetchall()\n",
    "print(results)"
   ]
  },
  {
   "cell_type": "code",
   "execution_count": 97,
   "id": "36ded189",
   "metadata": {},
   "outputs": [
    {
     "data": {
      "text/plain": [
       "[(6.426761976501632,)]"
      ]
     },
     "execution_count": 97,
     "metadata": {},
     "output_type": "execute_result"
    }
   ],
   "source": [
    "from sqlalchemy import case, cast, Float\n",
    "stmt = select([\n",
    "    (func.sum(\n",
    "    case([\n",
    "        (census.columns.state == 'New York',\n",
    "        census.columns.pop2008)\n",
    "    ], else_=0))/\n",
    "    cast(func.sum(census.columns.pop2008),\n",
    "        Float) * 100).label('ny_percent')\n",
    "])\n",
    "\n",
    "results = connection.execute(stmt).fetchall()\n",
    "results"
   ]
  },
  {
   "cell_type": "markdown",
   "id": "e06ab6d9",
   "metadata": {},
   "source": [
    "**SQL relationships**\n",
    "- join\n",
    "  - automatic join: select_from(); join()\n",
    "  - join: select_from(); join()"
   ]
  },
  {
   "cell_type": "code",
   "execution_count": 2,
   "id": "47879cde",
   "metadata": {},
   "outputs": [
    {
     "data": {
      "text/plain": [
       "['census', 'state_fact']"
      ]
     },
     "execution_count": 2,
     "metadata": {},
     "output_type": "execute_result"
    }
   ],
   "source": [
    "# connect to the database\n",
    "from sqlalchemy import create_engine, MetaData, Table\n",
    "\n",
    "engine = create_engine('sqlite:///C:\\QXJ\\Python\\Datacamp\\pandas\\census.sqlite')\n",
    "engine.table_names()"
   ]
  },
  {
   "cell_type": "code",
   "execution_count": 3,
   "id": "61aa0723",
   "metadata": {},
   "outputs": [
    {
     "data": {
      "text/plain": [
       "Table('state_fact', MetaData(bind=None), Column('id', VARCHAR(length=256), table=<state_fact>), Column('name', VARCHAR(length=256), table=<state_fact>), Column('abbreviation', VARCHAR(length=256), table=<state_fact>), Column('country', VARCHAR(length=256), table=<state_fact>), Column('type', VARCHAR(length=256), table=<state_fact>), Column('sort', VARCHAR(length=256), table=<state_fact>), Column('status', VARCHAR(length=256), table=<state_fact>), Column('occupied', VARCHAR(length=256), table=<state_fact>), Column('notes', VARCHAR(length=256), table=<state_fact>), Column('fips_state', VARCHAR(length=256), table=<state_fact>), Column('assoc_press', VARCHAR(length=256), table=<state_fact>), Column('standard_federal_region', VARCHAR(length=256), table=<state_fact>), Column('census_region', VARCHAR(length=256), table=<state_fact>), Column('census_region_name', VARCHAR(length=256), table=<state_fact>), Column('census_division', VARCHAR(length=256), table=<state_fact>), Column('census_division_name', VARCHAR(length=256), table=<state_fact>), Column('circuit_court', VARCHAR(length=256), table=<state_fact>), schema=None)"
      ]
     },
     "execution_count": 3,
     "metadata": {},
     "output_type": "execute_result"
    }
   ],
   "source": [
    "#  get the metadata of state_fact\n",
    "metadata = MetaData()\n",
    "state_fact = Table('state_fact', metadata,\n",
    "                  autoload = True,\n",
    "                  autoload_with = engine)\n",
    "state_fact"
   ]
  },
  {
   "cell_type": "code",
   "execution_count": 5,
   "id": "35170439",
   "metadata": {},
   "outputs": [
    {
     "data": {
      "text/plain": [
       "['id',\n",
       " 'name',\n",
       " 'abbreviation',\n",
       " 'country',\n",
       " 'type',\n",
       " 'sort',\n",
       " 'status',\n",
       " 'occupied',\n",
       " 'notes',\n",
       " 'fips_state',\n",
       " 'assoc_press',\n",
       " 'standard_federal_region',\n",
       " 'census_region',\n",
       " 'census_region_name',\n",
       " 'census_division',\n",
       " 'census_division_name',\n",
       " 'circuit_court']"
      ]
     },
     "execution_count": 5,
     "metadata": {},
     "output_type": "execute_result"
    }
   ],
   "source": [
    "state_fact.columns.keys()"
   ]
  },
  {
   "cell_type": "code",
   "execution_count": 8,
   "id": "4217c0f8",
   "metadata": {},
   "outputs": [
    {
     "data": {
      "text/plain": [
       "['state', 'sex', 'age', 'pop2000', 'pop2008']"
      ]
     },
     "execution_count": 8,
     "metadata": {},
     "output_type": "execute_result"
    }
   ],
   "source": [
    "# get census table\n",
    "census = Table('census', metadata,\n",
    "              autoload = True,\n",
    "              autoload_with = engine)\n",
    "census.columns.keys()"
   ]
  },
  {
   "cell_type": "code",
   "execution_count": 12,
   "id": "af693b78",
   "metadata": {},
   "outputs": [
    {
     "name": "stdout",
     "output_type": "stream",
     "text": [
      "[(95012, 'IL'), (95012, 'NJ'), (95012, 'ND'), (95012, 'OR'), (95012, 'DC'), (95012, 'WI'), (95012, 'AZ'), (95012, 'AR'), (95012, 'CO'), (95012, 'HI')]\n"
     ]
    }
   ],
   "source": [
    "from sqlalchemy import select\n",
    "\n",
    "# automatic join -> select columns from two tables\n",
    "connection = engine.connect()\n",
    "stmt = select([census.columns.pop2008,\n",
    "              state_fact.columns.abbreviation])\n",
    "results = connection.execute(stmt).fetchmany(size = 10)\n",
    "print(results)"
   ]
  },
  {
   "cell_type": "code",
   "execution_count": 13,
   "id": "ab53f8d2",
   "metadata": {},
   "outputs": [
    {
     "name": "stdout",
     "output_type": "stream",
     "text": [
      "pop2000 89600\n",
      "abbreviation IL\n"
     ]
    }
   ],
   "source": [
    "# Build a statement to join census and state_fact tables: stmt\n",
    "stmt = select([census.columns.pop2000, state_fact.columns.abbreviation])\n",
    "\n",
    "# Execute the statement and get the first result: result\n",
    "result = connection.execute(stmt).first()\n",
    "\n",
    "# Loop over the keys in the result object and print the key and value\n",
    "for key in result.keys():\n",
    "    print(key, getattr(result, key))"
   ]
  },
  {
   "cell_type": "code",
   "execution_count": null,
   "id": "049d1a44",
   "metadata": {},
   "outputs": [],
   "source": [
    "# join two talbes using select_from() and join()\n",
    "stmt = select([func.sum(census.columns.pop2000)])\n",
    "stmt = stmt.select_from(census.join(state_fact))\n",
    "stmt = stmt.where(state_fact.columns.circuit_court == '10')\n",
    "results  = connection.execute(stmt).scalar()"
   ]
  },
  {
   "cell_type": "markdown",
   "id": "ecf5390f",
   "metadata": {},
   "source": [
    "**Join tables without predefined relationship**"
   ]
  },
  {
   "cell_type": "code",
   "execution_count": null,
   "id": "051ae3c6",
   "metadata": {},
   "outputs": [],
   "source": [
    "# join two tables by define which column to join\n",
    "stmt = select([func.sum(census.columns.pop2000)])\n",
    "stmt = stmt.select_from(\n",
    "census.join(state_fact, census.columns.state\n",
    "           == state_fact.columns.name))\n",
    "stmt = stmt.where(state_fact.columns.census_division_name ==\n",
    "                 'East South Central')\n",
    "results = connection.execute(stmt).scalar()\n",
    "print(results)"
   ]
  },
  {
   "cell_type": "markdown",
   "id": "bfb00d64",
   "metadata": {},
   "source": [
    "**Working with hierarchical tables**\n",
    "- contain relationship with themselves\n",
    "- coommonly used in \n",
    "  - organizational \n",
    "  - geographic\n",
    "  - network\n",
    "  - graph"
   ]
  },
  {
   "cell_type": "code",
   "execution_count": 18,
   "id": "2a9b5931",
   "metadata": {},
   "outputs": [
    {
     "name": "stdout",
     "output_type": "stream",
     "text": [
      "['employees', 'managers', 'state_fact']\n",
      "Table('employees', MetaData(bind=None), Column('id', INTEGER(), table=<employees>, primary_key=True, nullable=False), Column('name', VARCHAR(length=20), table=<employees>), Column('job', VARCHAR(length=20), table=<employees>), Column('mgr', INTEGER(), table=<employees>), Column('hiredate', DATETIME(), table=<employees>), Column('sal', NUMERIC(precision=7, scale=2), table=<employees>), Column('comm', NUMERIC(precision=7, scale=2), table=<employees>), Column('dept', INTEGER(), table=<employees>), schema=None)\n"
     ]
    }
   ],
   "source": [
    "engine = create_engine('sqlite:///C:\\QXJ\\Python\\Datacamp\\pandas\\employees.sqlite')\n",
    "print(engine.table_names())\n",
    "\n",
    "connection = engine.connect()\n",
    "metadata = MetaData()\n",
    "employees = Table('employees', metadata,\n",
    "                autoload = True,\n",
    "                autoload_with = engine)\n",
    "print(repr(employees))"
   ]
  },
  {
   "cell_type": "code",
   "execution_count": 14,
   "id": "a80ed1c8",
   "metadata": {},
   "outputs": [
    {
     "name": "stdout",
     "output_type": "stream",
     "text": [
      "state Illinois\n",
      "sex M\n",
      "age 0\n",
      "pop2000 89600\n",
      "pop2008 95012\n",
      "id 13\n",
      "name Illinois\n",
      "abbreviation IL\n",
      "country USA\n",
      "type state\n",
      "sort 10\n",
      "status current\n",
      "occupied occupied\n",
      "notes \n",
      "fips_state 17\n",
      "assoc_press Ill.\n",
      "standard_federal_region V\n",
      "census_region 2\n",
      "census_region_name Midwest\n",
      "census_division 3\n",
      "census_division_name East North Central\n",
      "circuit_court 7\n"
     ]
    }
   ],
   "source": [
    "# Build a statement to select the census and state_fact tables: stmt\n",
    "stmt = select([census, state_fact])\n",
    "\n",
    "# Add a select_from clause that wraps a join for the census and state_fact\n",
    "# tables where the census state column and state_fact name column match\n",
    "stmt_join = stmt.select_from(\n",
    "    census.join(state_fact, census.columns.state == state_fact.columns.name))\n",
    "\n",
    "# Execute the statement and get the first result: result\n",
    "result = connection.execute(stmt_join).first()\n",
    "\n",
    "# Loop over the keys in the result object and print the key and value\n",
    "for key in result.keys():\n",
    "    print(key, getattr(result, key))"
   ]
  },
  {
   "cell_type": "code",
   "execution_count": 16,
   "id": "0a88b278",
   "metadata": {},
   "outputs": [
    {
     "name": "stdout",
     "output_type": "stream",
     "text": [
      "('Alabama', 4649367, 'East South Central')\n",
      "('Alaska', 664546, 'Pacific')\n",
      "('Arizona', 6480767, 'Mountain')\n",
      "('Arkansas', 2848432, 'West South Central')\n",
      "('California', 36609002, 'Pacific')\n",
      "('Colorado', 4912947, 'Mountain')\n",
      "('Connecticut', 3493783, 'New England')\n",
      "('Delaware', 869221, 'South Atlantic')\n",
      "('Florida', 18257662, 'South Atlantic')\n",
      "('Georgia', 9622508, 'South Atlantic')\n",
      "('Hawaii', 1250676, 'Pacific')\n",
      "('Idaho', 1518914, 'Mountain')\n",
      "('Illinois', 12867077, 'East North Central')\n",
      "('Indiana', 6373299, 'East North Central')\n",
      "('Iowa', 3000490, 'West North Central')\n",
      "('Kansas', 2782245, 'West North Central')\n",
      "('Kentucky', 4254964, 'East South Central')\n",
      "('Louisiana', 4395797, 'West South Central')\n",
      "('Maine', 1312972, 'New England')\n",
      "('Maryland', 5604174, 'South Atlantic')\n",
      "('Massachusetts', 6492024, 'New England')\n",
      "('Michigan', 9998854, 'East North Central')\n",
      "('Minnesota', 5215815, 'West North Central')\n",
      "('Mississippi', 2922355, 'East South Central')\n",
      "('Missouri', 5891974, 'West North Central')\n",
      "('Montana', 963802, 'Mountain')\n",
      "('Nebraska', 1776757, 'West North Central')\n",
      "('Nevada', 2579387, 'Mountain')\n",
      "('New Hampshire', 1314533, 'New England')\n",
      "('New Jersey', 8670204, 'Mid-Atlantic')\n",
      "('New Mexico', 1974993, 'Mountain')\n",
      "('New York', 19465159, 'Mid-Atlantic')\n",
      "('North Carolina', 9121606, 'South Atlantic')\n",
      "('North Dakota', 634282, 'West North Central')\n",
      "('Ohio', 11476782, 'East North Central')\n",
      "('Oklahoma', 3620620, 'West South Central')\n",
      "('Oregon', 3786824, 'Pacific')\n",
      "('Pennsylvania', 12440129, 'Mid-Atlantic')\n",
      "('Rhode Island', 1046535, 'New England')\n",
      "('South Carolina', 4438870, 'South Atlantic')\n",
      "('South Dakota', 800997, 'West North Central')\n",
      "('Tennessee', 6202407, 'East South Central')\n",
      "('Texas', 24214127, 'West South Central')\n",
      "('Utah', 2730919, 'Mountain')\n",
      "('Vermont', 620602, 'New England')\n",
      "('Virginia', 7648902, 'South Atlantic')\n",
      "('Washington', 6502019, 'Pacific')\n",
      "('West Virginia', 1812879, 'South Atlantic')\n",
      "('Wisconsin', 5625013, 'East North Central')\n",
      "('Wyoming', 529490, 'Mountain')\n"
     ]
    }
   ],
   "source": [
    "from sqlalchemy import func\n",
    "\n",
    "# Build a statement to select the state, sum of 2008 population and census\n",
    "# division name: stmt\n",
    "stmt = select([\n",
    "    census.columns.state,\n",
    "    func.sum(census.columns.pop2008),\n",
    "    state_fact.columns.census_division_name\n",
    "])\n",
    "\n",
    "# Append select_from to join the census and state_fact tables by the census state and state_fact name columns\n",
    "stmt_joined = stmt.select_from(\n",
    "    census.join(state_fact, census.columns.state == state_fact.columns.name)\n",
    ")\n",
    "\n",
    "# Append a group by for the state_fact name column\n",
    "stmt_grouped = stmt_joined.group_by(state_fact.columns.name)\n",
    "\n",
    "# Execute the statement and get the results: results\n",
    "results = connection.execute(stmt_grouped).fetchall()\n",
    "\n",
    "# Loop over the results object and print each record.\n",
    "for record in results:\n",
    "    print(record)"
   ]
  },
  {
   "cell_type": "code",
   "execution_count": 109,
   "id": "4a320966",
   "metadata": {},
   "outputs": [
    {
     "name": "stdout",
     "output_type": "stream",
     "text": [
      "['id', 'name', 'job', 'mgr', 'hiredate', 'sal', 'comm', 'dept']\n"
     ]
    }
   ],
   "source": [
    "print(employees.columns.keys())"
   ]
  },
  {
   "cell_type": "code",
   "execution_count": 132,
   "id": "530e0092",
   "metadata": {},
   "outputs": [
    {
     "data": {
      "text/plain": [
       "[(1, 'JOHNSON', 'ADMIN', 6, '12-17-1990', 18000, None, 4),\n",
       " (2, 'HARDING', 'MANAGER', 9, '02-02-1998', 52000, 300, 3),\n",
       " (3, 'TAFT', 'SALES I', 2, '01-02-1996', 25000, 500, 3),\n",
       " (4, 'HOOVER', 'SALES I', 2, '04-02-1990', 27000, None, 3),\n",
       " (5, 'LINCOLN', 'TECH', 6, '06-23-1994', 22500, 1400, 4),\n",
       " (6, 'GARFIELD', 'MANAGER', 9, '05-01-1993', 54000, None, 4),\n",
       " (7, 'POLK', 'TECH', 6, '09-22-1997', 25000, None, 4),\n",
       " (8, 'GRANT', 'ENGINEER', 10, '03-30-1997', 32000, None, 2),\n",
       " (9, 'JACKSON', 'CEO', None, '01-01-1990', 75000, None, 4),\n",
       " (10, 'FILLMORE', 'MANAGER', 9, '08-09-1994', 56000, None, 2),\n",
       " (11, 'ADAMS', 'ENGINEER', 10, '03-15-1996', 34000, None, 2),\n",
       " (12, 'WASHINGTON', 'ADMIN', 6, '04-16-1998', 18000, None, 4),\n",
       " (13, 'MONROE', 'ENGINEER', 10, '12-03-2000', 30000, None, 2),\n",
       " (14, 'ROOSEVELT', 'CPA', 9, '10-12-1995', 35000, None, 1)]"
      ]
     },
     "execution_count": 132,
     "metadata": {},
     "output_type": "execute_result"
    }
   ],
   "source": [
    "stmt = 'select * from employees'\n",
    "results = connection.execute(stmt).fetchall()\n",
    "results"
   ]
  },
  {
   "cell_type": "markdown",
   "id": "4b4e4956",
   "metadata": {},
   "source": [
    "**My own Notes**"
   ]
  },
  {
   "cell_type": "code",
   "execution_count": 111,
   "id": "919dc46b",
   "metadata": {},
   "outputs": [
    {
     "data": {
      "text/html": [
       "<div>\n",
       "<style scoped>\n",
       "    .dataframe tbody tr th:only-of-type {\n",
       "        vertical-align: middle;\n",
       "    }\n",
       "\n",
       "    .dataframe tbody tr th {\n",
       "        vertical-align: top;\n",
       "    }\n",
       "\n",
       "    .dataframe thead th {\n",
       "        text-align: right;\n",
       "    }\n",
       "</style>\n",
       "<table border=\"1\" class=\"dataframe\">\n",
       "  <thead>\n",
       "    <tr style=\"text-align: right;\">\n",
       "      <th></th>\n",
       "      <th>id</th>\n",
       "      <th>name</th>\n",
       "      <th>job</th>\n",
       "      <th>mgr</th>\n",
       "      <th>hiredate</th>\n",
       "      <th>sal</th>\n",
       "      <th>comm</th>\n",
       "      <th>dept</th>\n",
       "    </tr>\n",
       "  </thead>\n",
       "  <tbody>\n",
       "    <tr>\n",
       "      <th>0</th>\n",
       "      <td>1</td>\n",
       "      <td>JOHNSON</td>\n",
       "      <td>ADMIN</td>\n",
       "      <td>6.0</td>\n",
       "      <td>12-17-1990</td>\n",
       "      <td>18000</td>\n",
       "      <td>NaN</td>\n",
       "      <td>4</td>\n",
       "    </tr>\n",
       "    <tr>\n",
       "      <th>1</th>\n",
       "      <td>2</td>\n",
       "      <td>HARDING</td>\n",
       "      <td>MANAGER</td>\n",
       "      <td>9.0</td>\n",
       "      <td>02-02-1998</td>\n",
       "      <td>52000</td>\n",
       "      <td>300.0</td>\n",
       "      <td>3</td>\n",
       "    </tr>\n",
       "    <tr>\n",
       "      <th>2</th>\n",
       "      <td>3</td>\n",
       "      <td>TAFT</td>\n",
       "      <td>SALES I</td>\n",
       "      <td>2.0</td>\n",
       "      <td>01-02-1996</td>\n",
       "      <td>25000</td>\n",
       "      <td>500.0</td>\n",
       "      <td>3</td>\n",
       "    </tr>\n",
       "    <tr>\n",
       "      <th>3</th>\n",
       "      <td>4</td>\n",
       "      <td>HOOVER</td>\n",
       "      <td>SALES I</td>\n",
       "      <td>2.0</td>\n",
       "      <td>04-02-1990</td>\n",
       "      <td>27000</td>\n",
       "      <td>NaN</td>\n",
       "      <td>3</td>\n",
       "    </tr>\n",
       "    <tr>\n",
       "      <th>4</th>\n",
       "      <td>5</td>\n",
       "      <td>LINCOLN</td>\n",
       "      <td>TECH</td>\n",
       "      <td>6.0</td>\n",
       "      <td>06-23-1994</td>\n",
       "      <td>22500</td>\n",
       "      <td>1400.0</td>\n",
       "      <td>4</td>\n",
       "    </tr>\n",
       "  </tbody>\n",
       "</table>\n",
       "</div>"
      ],
      "text/plain": [
       "   id     name      job  mgr    hiredate    sal    comm  dept\n",
       "0   1  JOHNSON    ADMIN  6.0  12-17-1990  18000     NaN     4\n",
       "1   2  HARDING  MANAGER  9.0  02-02-1998  52000   300.0     3\n",
       "2   3     TAFT  SALES I  2.0  01-02-1996  25000   500.0     3\n",
       "3   4   HOOVER  SALES I  2.0  04-02-1990  27000     NaN     3\n",
       "4   5  LINCOLN     TECH  6.0  06-23-1994  22500  1400.0     4"
      ]
     },
     "execution_count": 111,
     "metadata": {},
     "output_type": "execute_result"
    }
   ],
   "source": [
    "employ_df = pd.DataFrame(results,\n",
    "                        columns = employees.columns.keys())\n",
    "employ_df.head()"
   ]
  },
  {
   "cell_type": "markdown",
   "id": "17d334ea",
   "metadata": {},
   "source": [
    "**Using alias to handle same table joined queries**"
   ]
  },
  {
   "cell_type": "code",
   "execution_count": 20,
   "id": "3a9a7c0c",
   "metadata": {},
   "outputs": [
    {
     "data": {
      "text/plain": [
       "[('FILLMORE', 'GRANT'),\n",
       " ('FILLMORE', 'ADAMS'),\n",
       " ('FILLMORE', 'MONROE'),\n",
       " ('GARFIELD', 'JOHNSON'),\n",
       " ('GARFIELD', 'LINCOLN'),\n",
       " ('GARFIELD', 'POLK'),\n",
       " ('GARFIELD', 'WASHINGTON'),\n",
       " ('HARDING', 'HOOVER'),\n",
       " ('JACKSON', 'HARDING'),\n",
       " ('JACKSON', 'GARFIELD'),\n",
       " ('JACKSON', 'FILLMORE'),\n",
       " ('JACKSON', 'ROOSEVELT')]"
      ]
     },
     "execution_count": 20,
     "metadata": {},
     "output_type": "execute_result"
    }
   ],
   "source": [
    "managers = employees.alias()\n",
    "\n",
    "stmt = select([managers.columns.name.label('manager'),\n",
    "employees.columns.name.label('employee')])\n",
    "\n",
    "stmt = stmt.select_from(employees.join(managers, \n",
    "                                      managers.columns.id == employees.columns.mgr))\n",
    "\n",
    "stmt = stmt.order_by(managers.columns.name)\n",
    "\n",
    "results = connection.execute(stmt).fetchall()\n",
    "results"
   ]
  },
  {
   "cell_type": "code",
   "execution_count": 21,
   "id": "eb42416f",
   "metadata": {},
   "outputs": [
    {
     "name": "stdout",
     "output_type": "stream",
     "text": [
      "('FILLMORE', 'GRANT')\n",
      "('FILLMORE', 'ADAMS')\n",
      "('FILLMORE', 'MONROE')\n",
      "('GARFIELD', 'JOHNSON')\n",
      "('GARFIELD', 'LINCOLN')\n",
      "('GARFIELD', 'POLK')\n",
      "('GARFIELD', 'WASHINGTON')\n",
      "('HARDING', 'HOOVER')\n",
      "('JACKSON', 'HARDING')\n",
      "('JACKSON', 'GARFIELD')\n",
      "('JACKSON', 'FILLMORE')\n",
      "('JACKSON', 'ROOSEVELT')\n"
     ]
    }
   ],
   "source": [
    "# Make an alias of the employees table: managers\n",
    "managers = employees.alias()\n",
    "\n",
    "# Build a query to select names of managers and their employees: stmt\n",
    "stmt = select(\n",
    "    [managers.columns.name.label('manager'),\n",
    "     employees.columns.name.label('employee')]\n",
    ")\n",
    "\n",
    "# Match managers id with employees mgr: stmt_matched\n",
    "stmt_matched = stmt.where(managers.columns.id == employees.columns.mgr)\n",
    "\n",
    "# Order the statement by the managers name: stmt_ordered\n",
    "stmt_ordered = stmt_matched.order_by(managers.columns.name)\n",
    "\n",
    "# Execute statement: results\n",
    "results = connection.execute(stmt_ordered).fetchall()\n",
    "\n",
    "# Print records\n",
    "for record in results:\n",
    "    print(record)"
   ]
  },
  {
   "cell_type": "code",
   "execution_count": 128,
   "id": "398e8f89",
   "metadata": {},
   "outputs": [
    {
     "data": {
      "text/plain": [
       "[('FILLMORE', 'GRANT'),\n",
       " ('FILLMORE', 'ADAMS'),\n",
       " ('FILLMORE', 'MONROE'),\n",
       " ('GARFIELD', 'JOHNSON'),\n",
       " ('GARFIELD', 'LINCOLN'),\n",
       " ('GARFIELD', 'POLK'),\n",
       " ('GARFIELD', 'WASHINGTON'),\n",
       " ('HARDING', 'TAFT'),\n",
       " ('HARDING', 'HOOVER'),\n",
       " ('JACKSON', 'HARDING'),\n",
       " ('JACKSON', 'GARFIELD'),\n",
       " ('JACKSON', 'FILLMORE'),\n",
       " ('JACKSON', 'ROOSEVELT')]"
      ]
     },
     "execution_count": 128,
     "metadata": {},
     "output_type": "execute_result"
    }
   ],
   "source": [
    "managers = employees.alias()\n",
    "\n",
    "stmt = 'select mgr.name, employees.name from employees as mgr \\\n",
    "join employees \\\n",
    "on mgr.id = employees.mgr \\\n",
    "order by mgr.name'\n",
    "\n",
    "results = connection.execute(stmt).fetchall()\n",
    "results"
   ]
  },
  {
   "cell_type": "markdown",
   "id": "e6b45f4a",
   "metadata": {},
   "source": [
    "**Use group_by and func with alias**\n",
    "- it is important target **group_by()** at the right alias\n",
    "- be careful with what you perform functions on \n",
    "- if you do not find yourself using both the alias and the table name for a query, dont create the alias at all"
   ]
  },
  {
   "cell_type": "code",
   "execution_count": 130,
   "id": "fb0b2ba9",
   "metadata": {},
   "outputs": [
    {
     "data": {
      "text/plain": [
       "[('FILLMORE', Decimal('96000.00')),\n",
       " ('GARFIELD', Decimal('83500.00')),\n",
       " ('HARDING', Decimal('52000.00')),\n",
       " ('JACKSON', Decimal('197000.00'))]"
      ]
     },
     "execution_count": 130,
     "metadata": {},
     "output_type": "execute_result"
    }
   ],
   "source": [
    "managers = employees.alias()\n",
    "stmt = select([managers.columns.name,\n",
    "              func.sum(employees.columns.sal)])\n",
    "stmt = stmt.select_from(employees.join(\n",
    "managers, managers.columns.id == employees.columns.mgr))\n",
    "stmt = stmt.group_by(managers.columns.name)\n",
    "results = connection.execute(stmt).fetchall()\n",
    "results"
   ]
  },
  {
   "cell_type": "code",
   "execution_count": 22,
   "id": "1cc52d58",
   "metadata": {},
   "outputs": [
    {
     "name": "stdout",
     "output_type": "stream",
     "text": [
      "('FILLMORE', 3)\n",
      "('GARFIELD', 4)\n",
      "('HARDING', 1)\n",
      "('JACKSON', 4)\n"
     ]
    }
   ],
   "source": [
    "# Make an alias of the employees table: managers\n",
    "managers = employees.alias()\n",
    "\n",
    "# Build a query to select names of managers and counts of their employees: stmt\n",
    "stmt = select([managers.columns.name, \n",
    "func.count(employees.columns.id)])\n",
    "\n",
    "# Append a where clause that ensures the manager id and employee mgr are equal\n",
    "stmt_matched = stmt.where(managers.columns.id == employees.columns.mgr)\n",
    "\n",
    "# Group by Managers Name\n",
    "stmt_grouped = stmt_matched.group_by(managers.columns.name)\n",
    "\n",
    "# Execute statement: results\n",
    "results = connection.execute(stmt_grouped).fetchall()\n",
    "\n",
    "# print manager\n",
    "for record in results:\n",
    "    print(record)"
   ]
  },
  {
   "cell_type": "markdown",
   "id": "2805ff1e",
   "metadata": {},
   "source": [
    "**Dealing with large ResultSets - Working on blocks of records**\n",
    "- **fetchmany(size = n)**: n-rows we want to act upon\n",
    "- we can loop over **fetchmany()**\n",
    "- it returns an empty list when there are not more records\n",
    "- we have to close the **ResultProxy** afterwards"
   ]
  },
  {
   "cell_type": "code",
   "execution_count": null,
   "id": "96036195",
   "metadata": {},
   "outputs": [],
   "source": [
    "stmt = 'select * from employees'\n",
    "results_proxy = connection.execute(stmt)\n",
    "\n",
    "while more_results:\n",
    "    partial_results = results_proxy.fetchmany(5)\n",
    "    if partial_results == []:\n",
    "        more_results = False\n",
    "    for row in partial_results:\n",
    "        state_count[row.state] += 1\n",
    "results_proxy.close()"
   ]
  },
  {
   "cell_type": "code",
   "execution_count": null,
   "id": "8ee4eeea",
   "metadata": {},
   "outputs": [],
   "source": [
    "while more_results:\n",
    "    # Fetch the first 50 results from the ResultProxy: partial_results\n",
    "    partial_results = results_proxy.fetchmany(size = 50)\n",
    "\n",
    "    # if empty list, set more_results to False\n",
    "    if partial_results == []:\n",
    "        more_results = False\n",
    "\n",
    "    # Loop over the fetched records and increment the count for the state\n",
    "    for row in partial_results:\n",
    "        if row.state in state_count:\n",
    "            state_count[row.state] += 1\n",
    "        else:\n",
    "            state_count[row.state] = 1\n",
    "\n",
    "# Close the ResultProxy, and thus the connection\n",
    "results_proxy.close()\n",
    "\n",
    "# Print the count by state\n",
    "print(state_count)"
   ]
  },
  {
   "cell_type": "markdown",
   "id": "82aab1e0",
   "metadata": {},
   "source": [
    "## 4. Creating and Manipulating your own Databases\n",
    "- **metadata.create_all(engine)**\n",
    "- **unique** forces all values for the data in a columnto be unique\n",
    "- **nullable** determines in a column can be empty in a row\n",
    "- **default** sets a default value if one is not supplies"
   ]
  },
  {
   "cell_type": "code",
   "execution_count": 144,
   "id": "6ec79c73",
   "metadata": {},
   "outputs": [
    {
     "data": {
      "text/plain": [
       "['employees', 'state_fact']"
      ]
     },
     "execution_count": 144,
     "metadata": {},
     "output_type": "execute_result"
    }
   ],
   "source": [
    "engine.table_names()"
   ]
  },
  {
   "cell_type": "markdown",
   "id": "703cc520",
   "metadata": {},
   "source": [
    "*Need to use other tools to handle database table updates,such as Alembic or raw SQL*"
   ]
  },
  {
   "cell_type": "code",
   "execution_count": 146,
   "id": "38029063",
   "metadata": {},
   "outputs": [
    {
     "data": {
      "text/plain": [
       "{CheckConstraint(<sqlalchemy.sql.elements.BinaryExpression object at 0x000001403089C700>, name='_unnamed_', table=Table('managers', MetaData(bind=None), Column('id', Integer(), table=<managers>), Column('name', String(length=255), table=<managers>, nullable=False), Column('sal', Float(), table=<managers>, default=ColumnDefault(1000)), Column('active', Boolean(), table=<managers>, default=ColumnDefault(True)), schema=None), _create_rule=<sqlalchemy.util.langhelpers.portable_instancemethod object at 0x000001403083AA80>, _type_bound=True),\n",
       " PrimaryKeyConstraint(),\n",
       " UniqueConstraint(Column('name', String(length=255), table=<managers>, nullable=False))}"
      ]
     },
     "execution_count": 146,
     "metadata": {},
     "output_type": "execute_result"
    }
   ],
   "source": [
    "managers = Table('managers', metadata,\n",
    "                Column('id', Integer()),\n",
    "                Column('name', String(255), unique = True, nullable = False),\n",
    "                Column('sal', Float, default = 1000),\n",
    "                Column('active', Boolean(), default = True))\n",
    "managers.constraints"
   ]
  },
  {
   "cell_type": "code",
   "execution_count": 10,
   "id": "58a9233d",
   "metadata": {},
   "outputs": [
    {
     "data": {
      "text/plain": [
       "['census', 'state_fact', 'states']"
      ]
     },
     "execution_count": 10,
     "metadata": {},
     "output_type": "execute_result"
    }
   ],
   "source": [
    "from sqlalchemy import (create_engine, MetaData, Table, inspect, Column, String, Integer, Boolean)\n",
    "\n",
    "engine = create_engine('sqlite:///c:\\QXJ\\Python\\Datacamp\\pandas\\census.sqlite')\n",
    "metadata = MetaData()\n",
    "inspector = inspect(engine)\n",
    "\n",
    "# create a table\n",
    "states = Table('states', metadata,\n",
    "                  Column('state', String(255)),\n",
    "                  Column('abbreviation', String(128)),\n",
    "                  Column('circuit_court', Integer(), default = 20),\n",
    "                  extend_existing=True)\n",
    "metadata.create_all(engine)\n",
    "\n",
    "inspector.get_table_names()"
   ]
  },
  {
   "cell_type": "code",
   "execution_count": 11,
   "id": "a755f74f",
   "metadata": {},
   "outputs": [
    {
     "name": "stdout",
     "output_type": "stream",
     "text": [
      "5\n"
     ]
    }
   ],
   "source": [
    "from sqlalchemy import insert\n",
    "\n",
    "connection = engine.connect()\n",
    "\n",
    "# insert the table\n",
    "values_list = [\n",
    "    {'state': 'Alabama',\n",
    "    'abbreviation': 'AL',\n",
    "    'circuit_count': 20 },\n",
    "        {'state': 'Carlifornia',\n",
    "    'abbreviation': 'CA',\n",
    "    'circuit_count': 40},\n",
    "        {'state': 'New York',\n",
    "    'abbreviation': 'NY',\n",
    "    'circuit_count': 30},\n",
    "        {'state': 'IIIinois',\n",
    "    'abbreviation': 'IL',\n",
    "    'circuit_count': 40},\n",
    "        {'state': 'Ohio',\n",
    "    'abbreviation': 'OH',\n",
    "    'circuit_count':  10}\n",
    "]\n",
    "\n",
    "stmt = insert(states)\n",
    "result_proxy = connection.execute(stmt,values_list)\n",
    "print(result_proxy.rowcount)"
   ]
  },
  {
   "cell_type": "code",
   "execution_count": 12,
   "id": "0ec220ec",
   "metadata": {},
   "outputs": [
    {
     "data": {
      "text/html": [
       "<div>\n",
       "<style scoped>\n",
       "    .dataframe tbody tr th:only-of-type {\n",
       "        vertical-align: middle;\n",
       "    }\n",
       "\n",
       "    .dataframe tbody tr th {\n",
       "        vertical-align: top;\n",
       "    }\n",
       "\n",
       "    .dataframe thead th {\n",
       "        text-align: right;\n",
       "    }\n",
       "</style>\n",
       "<table border=\"1\" class=\"dataframe\">\n",
       "  <thead>\n",
       "    <tr style=\"text-align: right;\">\n",
       "      <th></th>\n",
       "      <th>state</th>\n",
       "      <th>abbreviation</th>\n",
       "      <th>circuit_court</th>\n",
       "    </tr>\n",
       "  </thead>\n",
       "  <tbody>\n",
       "    <tr>\n",
       "      <th>0</th>\n",
       "      <td>Alabama</td>\n",
       "      <td>AL</td>\n",
       "      <td>20</td>\n",
       "    </tr>\n",
       "    <tr>\n",
       "      <th>1</th>\n",
       "      <td>Carlifornia</td>\n",
       "      <td>CA</td>\n",
       "      <td>20</td>\n",
       "    </tr>\n",
       "    <tr>\n",
       "      <th>2</th>\n",
       "      <td>New York</td>\n",
       "      <td>NY</td>\n",
       "      <td>20</td>\n",
       "    </tr>\n",
       "    <tr>\n",
       "      <th>3</th>\n",
       "      <td>IIIinois</td>\n",
       "      <td>IL</td>\n",
       "      <td>20</td>\n",
       "    </tr>\n",
       "    <tr>\n",
       "      <th>4</th>\n",
       "      <td>Ohio</td>\n",
       "      <td>OH</td>\n",
       "      <td>20</td>\n",
       "    </tr>\n",
       "    <tr>\n",
       "      <th>5</th>\n",
       "      <td>Alabama</td>\n",
       "      <td>AL</td>\n",
       "      <td>20</td>\n",
       "    </tr>\n",
       "    <tr>\n",
       "      <th>6</th>\n",
       "      <td>Carlifornia</td>\n",
       "      <td>CA</td>\n",
       "      <td>20</td>\n",
       "    </tr>\n",
       "    <tr>\n",
       "      <th>7</th>\n",
       "      <td>New York</td>\n",
       "      <td>NY</td>\n",
       "      <td>20</td>\n",
       "    </tr>\n",
       "    <tr>\n",
       "      <th>8</th>\n",
       "      <td>IIIinois</td>\n",
       "      <td>IL</td>\n",
       "      <td>20</td>\n",
       "    </tr>\n",
       "    <tr>\n",
       "      <th>9</th>\n",
       "      <td>Ohio</td>\n",
       "      <td>OH</td>\n",
       "      <td>20</td>\n",
       "    </tr>\n",
       "    <tr>\n",
       "      <th>10</th>\n",
       "      <td>Alabama</td>\n",
       "      <td>AL</td>\n",
       "      <td>20</td>\n",
       "    </tr>\n",
       "    <tr>\n",
       "      <th>11</th>\n",
       "      <td>Carlifornia</td>\n",
       "      <td>CA</td>\n",
       "      <td>20</td>\n",
       "    </tr>\n",
       "    <tr>\n",
       "      <th>12</th>\n",
       "      <td>New York</td>\n",
       "      <td>NY</td>\n",
       "      <td>20</td>\n",
       "    </tr>\n",
       "    <tr>\n",
       "      <th>13</th>\n",
       "      <td>IIIinois</td>\n",
       "      <td>IL</td>\n",
       "      <td>20</td>\n",
       "    </tr>\n",
       "    <tr>\n",
       "      <th>14</th>\n",
       "      <td>Ohio</td>\n",
       "      <td>OH</td>\n",
       "      <td>20</td>\n",
       "    </tr>\n",
       "  </tbody>\n",
       "</table>\n",
       "</div>"
      ],
      "text/plain": [
       "          state abbreviation  circuit_court\n",
       "0       Alabama           AL             20\n",
       "1   Carlifornia           CA             20\n",
       "2      New York           NY             20\n",
       "3      IIIinois           IL             20\n",
       "4          Ohio           OH             20\n",
       "5       Alabama           AL             20\n",
       "6   Carlifornia           CA             20\n",
       "7      New York           NY             20\n",
       "8      IIIinois           IL             20\n",
       "9          Ohio           OH             20\n",
       "10      Alabama           AL             20\n",
       "11  Carlifornia           CA             20\n",
       "12     New York           NY             20\n",
       "13     IIIinois           IL             20\n",
       "14         Ohio           OH             20"
      ]
     },
     "execution_count": 12,
     "metadata": {},
     "output_type": "execute_result"
    }
   ],
   "source": [
    "from sqlalchemy import select \n",
    "import pandas as pd\n",
    "\n",
    "stmt = select([states])\n",
    "result = connection.execute(stmt).fetchall()\n",
    "states = pd.DataFrame(result, columns = states.columns.keys())\n",
    "states"
   ]
  },
  {
   "cell_type": "code",
   "execution_count": 13,
   "id": "c62cd024",
   "metadata": {},
   "outputs": [
    {
     "data": {
      "text/plain": [
       "15"
      ]
     },
     "execution_count": 13,
     "metadata": {},
     "output_type": "execute_result"
    }
   ],
   "source": [
    "# save to sql \n",
    "states.to_sql(name = 'states', \n",
    "                  con = engine, \n",
    "                  if_exists = 'replace',\n",
    "                 index = False)\n",
    "# if_exists can specify: 'fail', 'replace' and 'append'"
   ]
  },
  {
   "cell_type": "markdown",
   "id": "f69b8ca2",
   "metadata": {},
   "source": [
    "**Inserting data into a table**\n",
    "- done with the **insert()** statement\n",
    "- **insert()** takes the table we are loading data into as the argument \n",
    "- we add all the values we want to insert in with the **values** clause as **column = value** pairs\n",
    "- does not return any rows, so no need for a fetch method \n",
    "\n",
    "**Inserting multiple rows**\n",
    "- build an insert statement without any values \n",
    "- build a list of dictionaries that represent all the values clauses for the rows you want to insert\n",
    "- pass both the statement and the values list to the execute method on connection"
   ]
  },
  {
   "cell_type": "code",
   "execution_count": 153,
   "id": "7c6a5826",
   "metadata": {},
   "outputs": [
    {
     "data": {
      "text/plain": [
       "-1"
      ]
     },
     "execution_count": 153,
     "metadata": {},
     "output_type": "execute_result"
    }
   ],
   "source": [
    "from sqlalchemy import insert\n",
    "smt = insert(state_fact).values(state = 'Albama',\n",
    "                               abbreviation = 'Al',\n",
    "                              circuit_court = 10)\n",
    "result_proxy = connection.execute(stmt)\n",
    "result_proxy.rowcount"
   ]
  },
  {
   "cell_type": "code",
   "execution_count": 151,
   "id": "3b686ba4",
   "metadata": {},
   "outputs": [
    {
     "data": {
      "text/plain": [
       "2"
      ]
     },
     "execution_count": 151,
     "metadata": {},
     "output_type": "execute_result"
    }
   ],
   "source": [
    "# insert into the table\n",
    "stmt = insert(state_fact)\n",
    "\n",
    "# create a list of dictionaries\n",
    "value_list = [{'state': 'Califonia',\n",
    "              'abbreviation': 'CA',\n",
    "              'circuit_court': 50},\n",
    "             {'state': 'IIIinois',\n",
    "             'abbreviation':'IL',\n",
    "             'circuit_court': 40}]\n",
    "\n",
    "result_proxy = connection.execute(stmt, value_list)\n",
    "result_proxy.rowcount"
   ]
  },
  {
   "cell_type": "code",
   "execution_count": 152,
   "id": "92aa9ced",
   "metadata": {},
   "outputs": [
    {
     "data": {
      "text/plain": [
       "[('Califonia', 'CA', '50'), ('IIIinois', 'IL', '40')]"
      ]
     },
     "execution_count": 152,
     "metadata": {},
     "output_type": "execute_result"
    }
   ],
   "source": [
    "stmt = 'select * from state_fact'\n",
    "results = connection.execute(stmt).fetchall()\n",
    "results"
   ]
  },
  {
   "cell_type": "markdown",
   "id": "237b5790",
   "metadata": {},
   "source": [
    "**Updating data in a table**\n",
    "- done with the **update()** statement\n",
    "- similar to the **insert()** statement but includes a **where** clause to determine what record will be updated\n",
    "- we add all the values we want to update with the **values()** clauses as **column = value** pairs"
   ]
  },
  {
   "cell_type": "code",
   "execution_count": 162,
   "id": "75ede944",
   "metadata": {},
   "outputs": [
    {
     "data": {
      "text/plain": [
       "1"
      ]
     },
     "execution_count": 162,
     "metadata": {},
     "output_type": "execute_result"
    }
   ],
   "source": [
    "from sqlalchemy import update \n",
    "\n",
    "stmt = update(employees)\n",
    "stmt = stmt.where(employees.columns.id == 3)\n",
    "stmt = stmt.values(dept = 2)\n",
    "result_proxy = connection.execute(stmt)\n",
    "result_proxy.rowcount"
   ]
  },
  {
   "cell_type": "code",
   "execution_count": 169,
   "id": "9a58881c",
   "metadata": {},
   "outputs": [
    {
     "data": {
      "text/plain": [
       "[(75000,), (75000,), (75000,), (75000,), (75000,)]"
      ]
     },
     "execution_count": 169,
     "metadata": {},
     "output_type": "execute_result"
    }
   ],
   "source": [
    "stmt = 'select sal from employees'\n",
    "rs = connection.execute(stmt).fetchmany(size = 5)\n",
    "rs"
   ]
  },
  {
   "cell_type": "code",
   "execution_count": 157,
   "id": "adc27974",
   "metadata": {},
   "outputs": [
    {
     "data": {
      "text/plain": [
       "['id', 'name', 'job', 'mgr', 'hiredate', 'sal', 'comm', 'dept']"
      ]
     },
     "execution_count": 157,
     "metadata": {},
     "output_type": "execute_result"
    }
   ],
   "source": [
    "employees.columns.keys()"
   ]
  },
  {
   "cell_type": "code",
   "execution_count": 166,
   "id": "8f75fa4e",
   "metadata": {},
   "outputs": [
    {
     "data": {
      "text/plain": [
       "5"
      ]
     },
     "execution_count": 166,
     "metadata": {},
     "output_type": "execute_result"
    }
   ],
   "source": [
    "# inserting multiple rows\n",
    "stmt = update(employees)\n",
    "stmt = stmt.where(employees.columns.dept == 2)\n",
    "stmt = stmt.values(dept = 4)\n",
    "result_proxy = connection.execute(stmt)\n",
    "result_proxy.rowcount"
   ]
  },
  {
   "cell_type": "markdown",
   "id": "19385cc7",
   "metadata": {},
   "source": [
    "**correlated upadates**"
   ]
  },
  {
   "cell_type": "code",
   "execution_count": 168,
   "id": "d52822ad",
   "metadata": {},
   "outputs": [
    {
     "data": {
      "text/plain": [
       "14"
      ]
     },
     "execution_count": 168,
     "metadata": {},
     "output_type": "execute_result"
    }
   ],
   "source": [
    "# correlated updates\n",
    "# select the maximum salary \n",
    "new_salary = select([employees.columns.sal])\n",
    "new_salary = new_salary.order_by(\n",
    "desc(employees.columns.sal))\n",
    "new_salary = new_salary.limit(1)\n",
    "\n",
    "# update the whole table\n",
    "stmt = update(employees)\n",
    "\n",
    "# set the salary column to the select statement\n",
    "stmt = stmt.values(sal = new_salary)\n",
    "\n",
    "result_proxy = connection.execute(stmt)\n",
    "result_proxy.rowcount"
   ]
  },
  {
   "cell_type": "markdown",
   "id": "b5fd1455",
   "metadata": {},
   "source": [
    "**Deleting data from a database**\n",
    "- done with the **delete()** statement\n",
    "- **delete()** takes the table we are loading data into as the argument\n",
    "- a **where()** clause is used to choose which rows to delete\n",
    "- build a **where** clause that will select all the records you want to delete"
   ]
  },
  {
   "cell_type": "code",
   "execution_count": 172,
   "id": "3da1fbdd",
   "metadata": {},
   "outputs": [
    {
     "data": {
      "text/plain": [
       "2"
      ]
     },
     "execution_count": 172,
     "metadata": {},
     "output_type": "execute_result"
    }
   ],
   "source": [
    "from sqlalchemy import delete\n",
    "\n",
    "stmt = select([\n",
    "    func.count(state_fact.columns.state)\n",
    "])\n",
    "\n",
    "connection.execute(stmt).scalar()"
   ]
  },
  {
   "cell_type": "code",
   "execution_count": 173,
   "id": "7251fb12",
   "metadata": {},
   "outputs": [
    {
     "data": {
      "text/plain": [
       "2"
      ]
     },
     "execution_count": 173,
     "metadata": {},
     "output_type": "execute_result"
    }
   ],
   "source": [
    "delete_stmt = delete(state_fact)\n",
    "result_proxy = connection.execute(delete_stmt)\n",
    "result_proxy.rowcount"
   ]
  },
  {
   "cell_type": "code",
   "execution_count": 175,
   "id": "64851540",
   "metadata": {},
   "outputs": [
    {
     "data": {
      "text/plain": [
       "1"
      ]
     },
     "execution_count": 175,
     "metadata": {},
     "output_type": "execute_result"
    }
   ],
   "source": [
    "stmt = delete(employees).where(employees.columns.id == 3)\n",
    "result_proxy = connection.execute(stmt)\n",
    "result_proxy.rowcount"
   ]
  },
  {
   "cell_type": "markdown",
   "id": "7cc1b742",
   "metadata": {},
   "source": [
    "**Dropping a table completely**\n",
    "- use the **drop()** method on the table\n",
    "- accepts the engine as an argument so it knows where to remove the table from \n",
    "- won't remove it from metadata until the python process is restarted\n",
    "- use **drop_all()** to drop all the tables"
   ]
  },
  {
   "cell_type": "code",
   "execution_count": 33,
   "id": "2fd5417a",
   "metadata": {},
   "outputs": [
    {
     "data": {
      "text/plain": [
       "['census', 'state_fact', 'states']"
      ]
     },
     "execution_count": 33,
     "metadata": {},
     "output_type": "execute_result"
    }
   ],
   "source": [
    "inspector.get_table_names()"
   ]
  },
  {
   "cell_type": "markdown",
   "id": "e58c8fcb",
   "metadata": {},
   "source": [
    "from sqlalchemy import select\n",
    "states = Table('states',metadata,\n",
    "              autoload = True,\n",
    "              autoload_with = engine)\n",
    "\n",
    "stmt = select([states])\n",
    "results = connection.execute(stmt).fetchall()\n",
    "results"
   ]
  },
  {
   "cell_type": "code",
   "execution_count": 26,
   "id": "95db0845",
   "metadata": {},
   "outputs": [],
   "source": [
    "states.drop(engine)"
   ]
  },
  {
   "cell_type": "code",
   "execution_count": 31,
   "id": "c8847069",
   "metadata": {},
   "outputs": [
    {
     "name": "stdout",
     "output_type": "stream",
     "text": [
      "False\n"
     ]
    },
    {
     "name": "stderr",
     "output_type": "stream",
     "text": [
      "C:\\Users\\QXJ\\AppData\\Local\\Temp\\ipykernel_11360\\3977068688.py:1: SADeprecationWarning: The Table.exists() method is deprecated and will be removed in a future release.  Please refer to Inspector.has_table(). (deprecated since: 1.4)\n",
      "  print(states.exists(engine))\n"
     ]
    }
   ],
   "source": [
    "print(states.exists(engine))"
   ]
  },
  {
   "cell_type": "code",
   "execution_count": 37,
   "id": "c68effa3",
   "metadata": {},
   "outputs": [
    {
     "data": {
      "text/plain": [
       "False"
      ]
     },
     "execution_count": 37,
     "metadata": {},
     "output_type": "execute_result"
    }
   ],
   "source": [
    "inspector.has_table('states')"
   ]
  },
  {
   "cell_type": "code",
   "execution_count": null,
   "id": "1338bb1f",
   "metadata": {},
   "outputs": [],
   "source": [
    "# drop all\n",
    "metadata.drop_all(engine)\n",
    "engine.table_names()"
   ]
  }
 ],
 "metadata": {
  "kernelspec": {
   "display_name": "Python 3 (ipykernel)",
   "language": "python",
   "name": "python3"
  },
  "language_info": {
   "codemirror_mode": {
    "name": "ipython",
    "version": 3
   },
   "file_extension": ".py",
   "mimetype": "text/x-python",
   "name": "python",
   "nbconvert_exporter": "python",
   "pygments_lexer": "ipython3",
   "version": "3.9.12"
  }
 },
 "nbformat": 4,
 "nbformat_minor": 5
}
